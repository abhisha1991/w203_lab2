{
 "cells": [
  {
   "cell_type": "code",
   "execution_count": 29,
   "metadata": {},
   "outputs": [
    {
     "data": {
      "text/html": [
       "<table>\n",
       "<thead><tr><th scope=col>version</th><th scope=col>caseid</th><th scope=col>weight</th><th scope=col>weight_spss</th><th scope=col>form</th><th scope=col>follow</th><th scope=col>addtime</th><th scope=col>reg</th><th scope=col>whenreg</th><th scope=col>howreg</th><th scope=col>...</th><th scope=col>rand_emp</th><th scope=col>rand_climate</th><th scope=col>rand_rural</th><th scope=col>rand_pk</th><th scope=col>rand_pid</th><th scope=col>starttime</th><th scope=col>endtime</th><th scope=col>duration</th><th scope=col>optintimestamp</th><th scope=col>completes</th></tr></thead>\n",
       "<tbody>\n",
       "\t<tr><td>ANES 2018 Pilot Study main version 20190129</td><td>1                                          </td><td>1.2555080                                  </td><td>0.7286969                                  </td><td>1                                          </td><td>4                                          </td><td>2                                          </td><td>1                                          </td><td> 4                                         </td><td>-1                                         </td><td>...                                        </td><td>1                                          </td><td>2                                          </td><td>2                                          </td><td>1                                          </td><td>1                                          </td><td>12/10/2018 18:34:11                        </td><td>12/10/2018 20:00:03                        </td><td> 5152                                      </td><td>10/15/15                                   </td><td> 46                                        </td></tr>\n",
       "\t<tr><td>ANES 2018 Pilot Study main version 20190129</td><td>2                                          </td><td>0.5694911                                  </td><td>0.3305327                                  </td><td>2                                          </td><td>1                                          </td><td>2                                          </td><td>3                                          </td><td>-1                                         </td><td>-1                                         </td><td>...                                        </td><td>2                                          </td><td>1                                          </td><td>1                                          </td><td>0                                          </td><td>2                                          </td><td>12/10/2018 19:26:37                        </td><td>12/10/2018 19:53:12                        </td><td> 1595                                      </td><td>7/16/16                                    </td><td> 55                                        </td></tr>\n",
       "\t<tr><td>ANES 2018 Pilot Study main version 20190129</td><td>3                                          </td><td>0.9720616                                  </td><td>0.5641846                                  </td><td>1                                          </td><td>4                                          </td><td>3                                          </td><td>3                                          </td><td>-1                                         </td><td>-1                                         </td><td>...                                        </td><td>2                                          </td><td>2                                          </td><td>1                                          </td><td>1                                          </td><td>2                                          </td><td>12/10/2018 19:48:44                        </td><td>12/10/2018 20:21:21                        </td><td> 1957                                      </td><td>6/13/14                                    </td><td>  8                                        </td></tr>\n",
       "\t<tr><td>ANES 2018 Pilot Study main version 20190129</td><td>4                                          </td><td>2.4500732                                  </td><td>1.4220225                                  </td><td>1                                          </td><td>4                                          </td><td>2                                          </td><td>1                                          </td><td> 4                                         </td><td>-1                                         </td><td>...                                        </td><td>2                                          </td><td>2                                          </td><td>1                                          </td><td>0                                          </td><td>1                                          </td><td>12/10/2018 19:03:49                        </td><td>12/10/2018 19:21:08                        </td><td> 1039                                      </td><td>10/28/15                                   </td><td> 42                                        </td></tr>\n",
       "\t<tr><td>ANES 2018 Pilot Study main version 20190129</td><td>5                                          </td><td>1.6348200                                  </td><td>0.9488495                                  </td><td>2                                          </td><td>1                                          </td><td>3                                          </td><td>1                                          </td><td> 4                                         </td><td>-1                                         </td><td>...                                        </td><td>2                                          </td><td>1                                          </td><td>2                                          </td><td>1                                          </td><td>2                                          </td><td>12/10/2018 18:28:14                        </td><td>12/10/2018 18:43:23                        </td><td>  909                                      </td><td>11/11/15                                   </td><td> 33                                        </td></tr>\n",
       "\t<tr><td>ANES 2018 Pilot Study main version 20190129</td><td>6                                          </td><td>1.8184054                                  </td><td>1.0554025                                  </td><td>1                                          </td><td>3                                          </td><td>2                                          </td><td>2                                          </td><td> 2                                         </td><td> 2                                         </td><td>...                                        </td><td>1                                          </td><td>2                                          </td><td>1                                          </td><td>1                                          </td><td>2                                          </td><td>12/10/2018 23:58:17                        </td><td>12/11/2018 5:10:57                         </td><td>18760                                      </td><td>5/9/15                                     </td><td>185                                        </td></tr>\n",
       "</tbody>\n",
       "</table>\n"
      ],
      "text/latex": [
       "\\begin{tabular}{r|lllllllllllllllllllllllllllllllllllllllllllllllllllllllllllllllllllllllllllllllllllllllllllllllllllllllllllllllllllllllllllllllllllllllllllllllllllllllllllllllllllllllllllllllllllllllllllllllllllllllllllllllllllllllllllllllllllllllllllllllllllllllllllllllllllllllllllllllllllllllllllllllllllllllllllllllllllllllllllllllllllllllllllllllllllllllllllllllllllllllllllllllllllllllllllllllllllllllllllllllllllllllllllllllllllllllllllllllllllllllllllllllllllllllllllllllllllllllllllllllllllllllllllllllllllllllllllllllllllllllllllllllllllllllllllllllllllllllllllllllllllllllllllllllllllllllllllllllllllllllllllllllllllllllllllllllllllllllllllllllllllllllllllllllllllllllllllllllllllllllllllllllllllllllllllllllllllllllllllllllllllllllllllllllllllllllllllllllllllllllllllllll}\n",
       " version & caseid & weight & weight\\_spss & form & follow & addtime & reg & whenreg & howreg & ... & rand\\_emp & rand\\_climate & rand\\_rural & rand\\_pk & rand\\_pid & starttime & endtime & duration & optintimestamp & completes\\\\\n",
       "\\hline\n",
       "\t ANES 2018 Pilot Study main version 20190129 & 1                                           & 1.2555080                                   & 0.7286969                                   & 1                                           & 4                                           & 2                                           & 1                                           &  4                                          & -1                                          & ...                                         & 1                                           & 2                                           & 2                                           & 1                                           & 1                                           & 12/10/2018 18:34:11                         & 12/10/2018 20:00:03                         &  5152                                       & 10/15/15                                    &  46                                        \\\\\n",
       "\t ANES 2018 Pilot Study main version 20190129 & 2                                           & 0.5694911                                   & 0.3305327                                   & 2                                           & 1                                           & 2                                           & 3                                           & -1                                          & -1                                          & ...                                         & 2                                           & 1                                           & 1                                           & 0                                           & 2                                           & 12/10/2018 19:26:37                         & 12/10/2018 19:53:12                         &  1595                                       & 7/16/16                                     &  55                                        \\\\\n",
       "\t ANES 2018 Pilot Study main version 20190129 & 3                                           & 0.9720616                                   & 0.5641846                                   & 1                                           & 4                                           & 3                                           & 3                                           & -1                                          & -1                                          & ...                                         & 2                                           & 2                                           & 1                                           & 1                                           & 2                                           & 12/10/2018 19:48:44                         & 12/10/2018 20:21:21                         &  1957                                       & 6/13/14                                     &   8                                        \\\\\n",
       "\t ANES 2018 Pilot Study main version 20190129 & 4                                           & 2.4500732                                   & 1.4220225                                   & 1                                           & 4                                           & 2                                           & 1                                           &  4                                          & -1                                          & ...                                         & 2                                           & 2                                           & 1                                           & 0                                           & 1                                           & 12/10/2018 19:03:49                         & 12/10/2018 19:21:08                         &  1039                                       & 10/28/15                                    &  42                                        \\\\\n",
       "\t ANES 2018 Pilot Study main version 20190129 & 5                                           & 1.6348200                                   & 0.9488495                                   & 2                                           & 1                                           & 3                                           & 1                                           &  4                                          & -1                                          & ...                                         & 2                                           & 1                                           & 2                                           & 1                                           & 2                                           & 12/10/2018 18:28:14                         & 12/10/2018 18:43:23                         &   909                                       & 11/11/15                                    &  33                                        \\\\\n",
       "\t ANES 2018 Pilot Study main version 20190129 & 6                                           & 1.8184054                                   & 1.0554025                                   & 1                                           & 3                                           & 2                                           & 2                                           &  2                                          &  2                                          & ...                                         & 1                                           & 2                                           & 1                                           & 1                                           & 2                                           & 12/10/2018 23:58:17                         & 12/11/2018 5:10:57                          & 18760                                       & 5/9/15                                      & 185                                        \\\\\n",
       "\\end{tabular}\n"
      ],
      "text/markdown": [
       "\n",
       "| version | caseid | weight | weight_spss | form | follow | addtime | reg | whenreg | howreg | ... | rand_emp | rand_climate | rand_rural | rand_pk | rand_pid | starttime | endtime | duration | optintimestamp | completes |\n",
       "|---|---|---|---|---|---|---|---|---|---|---|---|---|---|---|---|---|---|---|---|---|\n",
       "| ANES 2018 Pilot Study main version 20190129 | 1                                           | 1.2555080                                   | 0.7286969                                   | 1                                           | 4                                           | 2                                           | 1                                           |  4                                          | -1                                          | ...                                         | 1                                           | 2                                           | 2                                           | 1                                           | 1                                           | 12/10/2018 18:34:11                         | 12/10/2018 20:00:03                         |  5152                                       | 10/15/15                                    |  46                                         |\n",
       "| ANES 2018 Pilot Study main version 20190129 | 2                                           | 0.5694911                                   | 0.3305327                                   | 2                                           | 1                                           | 2                                           | 3                                           | -1                                          | -1                                          | ...                                         | 2                                           | 1                                           | 1                                           | 0                                           | 2                                           | 12/10/2018 19:26:37                         | 12/10/2018 19:53:12                         |  1595                                       | 7/16/16                                     |  55                                         |\n",
       "| ANES 2018 Pilot Study main version 20190129 | 3                                           | 0.9720616                                   | 0.5641846                                   | 1                                           | 4                                           | 3                                           | 3                                           | -1                                          | -1                                          | ...                                         | 2                                           | 2                                           | 1                                           | 1                                           | 2                                           | 12/10/2018 19:48:44                         | 12/10/2018 20:21:21                         |  1957                                       | 6/13/14                                     |   8                                         |\n",
       "| ANES 2018 Pilot Study main version 20190129 | 4                                           | 2.4500732                                   | 1.4220225                                   | 1                                           | 4                                           | 2                                           | 1                                           |  4                                          | -1                                          | ...                                         | 2                                           | 2                                           | 1                                           | 0                                           | 1                                           | 12/10/2018 19:03:49                         | 12/10/2018 19:21:08                         |  1039                                       | 10/28/15                                    |  42                                         |\n",
       "| ANES 2018 Pilot Study main version 20190129 | 5                                           | 1.6348200                                   | 0.9488495                                   | 2                                           | 1                                           | 3                                           | 1                                           |  4                                          | -1                                          | ...                                         | 2                                           | 1                                           | 2                                           | 1                                           | 2                                           | 12/10/2018 18:28:14                         | 12/10/2018 18:43:23                         |   909                                       | 11/11/15                                    |  33                                         |\n",
       "| ANES 2018 Pilot Study main version 20190129 | 6                                           | 1.8184054                                   | 1.0554025                                   | 1                                           | 3                                           | 2                                           | 2                                           |  2                                          |  2                                          | ...                                         | 1                                           | 2                                           | 1                                           | 1                                           | 2                                           | 12/10/2018 23:58:17                         | 12/11/2018 5:10:57                          | 18760                                       | 5/9/15                                      | 185                                         |\n",
       "\n"
      ],
      "text/plain": [
       "  version                                     caseid weight    weight_spss form\n",
       "1 ANES 2018 Pilot Study main version 20190129 1      1.2555080 0.7286969   1   \n",
       "2 ANES 2018 Pilot Study main version 20190129 2      0.5694911 0.3305327   2   \n",
       "3 ANES 2018 Pilot Study main version 20190129 3      0.9720616 0.5641846   1   \n",
       "4 ANES 2018 Pilot Study main version 20190129 4      2.4500732 1.4220225   1   \n",
       "5 ANES 2018 Pilot Study main version 20190129 5      1.6348200 0.9488495   2   \n",
       "6 ANES 2018 Pilot Study main version 20190129 6      1.8184054 1.0554025   1   \n",
       "  follow addtime reg whenreg howreg ... rand_emp rand_climate rand_rural\n",
       "1 4      2       1    4      -1     ... 1        2            2         \n",
       "2 1      2       3   -1      -1     ... 2        1            1         \n",
       "3 4      3       3   -1      -1     ... 2        2            1         \n",
       "4 4      2       1    4      -1     ... 2        2            1         \n",
       "5 1      3       1    4      -1     ... 2        1            2         \n",
       "6 3      2       2    2       2     ... 1        2            1         \n",
       "  rand_pk rand_pid starttime           endtime             duration\n",
       "1 1       1        12/10/2018 18:34:11 12/10/2018 20:00:03  5152   \n",
       "2 0       2        12/10/2018 19:26:37 12/10/2018 19:53:12  1595   \n",
       "3 1       2        12/10/2018 19:48:44 12/10/2018 20:21:21  1957   \n",
       "4 0       1        12/10/2018 19:03:49 12/10/2018 19:21:08  1039   \n",
       "5 1       2        12/10/2018 18:28:14 12/10/2018 18:43:23   909   \n",
       "6 1       2        12/10/2018 23:58:17 12/11/2018 5:10:57  18760   \n",
       "  optintimestamp completes\n",
       "1 10/15/15        46      \n",
       "2 7/16/16         55      \n",
       "3 6/13/14          8      \n",
       "4 10/28/15        42      \n",
       "5 11/11/15        33      \n",
       "6 5/9/15         185      "
      ]
     },
     "metadata": {},
     "output_type": "display_data"
    }
   ],
   "source": [
    "wd = getwd()\n",
    "data = read.csv(paste(wd, \"/\", \"anes_pilot_2018.csv\", sep=\"\"))\n",
    "head(data)\n"
   ]
  },
  {
   "cell_type": "code",
   "execution_count": 25,
   "metadata": {},
   "outputs": [
    {
     "data": {
      "text/html": [
       "2500"
      ],
      "text/latex": [
       "2500"
      ],
      "text/markdown": [
       "2500"
      ],
      "text/plain": [
       "[1] 2500"
      ]
     },
     "metadata": {},
     "output_type": "display_data"
    }
   ],
   "source": [
    "nrow(data)\n"
   ]
  },
  {
   "cell_type": "code",
   "execution_count": 26,
   "metadata": {},
   "outputs": [
    {
     "data": {
      "text/html": [
       "767"
      ],
      "text/latex": [
       "767"
      ],
      "text/markdown": [
       "767"
      ],
      "text/plain": [
       "[1] 767"
      ]
     },
     "metadata": {},
     "output_type": "display_data"
    }
   ],
   "source": [
    "ncol(data)\n"
   ]
  },
  {
   "cell_type": "code",
   "execution_count": 27,
   "metadata": {},
   "outputs": [
    {
     "data": {
      "text/html": [
       "767"
      ],
      "text/latex": [
       "767"
      ],
      "text/markdown": [
       "767"
      ],
      "text/plain": [
       "[1] 767"
      ]
     },
     "metadata": {},
     "output_type": "display_data"
    }
   ],
   "source": [
    "length(data)"
   ]
  },
  {
   "cell_type": "markdown",
   "metadata": {},
   "source": [
    "Data context: https://electionstudies.org/wp-content/uploads/2019/02/anes_pilot_2018_userguidecodebook.pdf"
   ]
  },
  {
   "cell_type": "markdown",
   "metadata": {},
   "source": [
    "# Assignment"
   ]
  },
  {
   "cell_type": "markdown",
   "metadata": {},
   "source": [
    "1. 5 Questions <br/>\n",
    "2. 4 different questions (primary focus) <br/>\n",
    "3. 1 question to come up with on our own (secondary - will evolve with time) <br/>\n",
    "4. Additional points to consider if we can crack sampling piece (3 points) - using the \"weight variable\""
   ]
  },
  {
   "cell_type": "markdown",
   "metadata": {},
   "source": [
    "## Common aspects of each question"
   ]
  },
  {
   "cell_type": "markdown",
   "metadata": {},
   "source": [
    "1. **Introduce** - Explain how your variables are operationalized. Comment on any gaps that you can identify between your operational definitions and the concepts you are trying to study. <br/>\n",
    "2. **EDA**- This should include a treatment of non-response and other special codes, basic sanity checks, and a justification for any values that are removed. Use visual tools to assess the relationship among your variables and comment on any features you find. <br/>\n",
    "3. **Test setup** - Explain why your test is the most appropriate choice. List and evaluate all assumptions for your test. <br/>\n",
    "4. **Result / Discussion** - Explain (1) the statistical significance of your result, and (2) the practical significance of your result. Make sure you relate your findings to the original research question\n",
    "\n",
    "\n",
    "\n",
    "\n"
   ]
  },
  {
   "cell_type": "markdown",
   "metadata": {},
   "source": [
    "## Few concepts"
   ]
  },
  {
   "cell_type": "markdown",
   "metadata": {},
   "source": [
    "**NON PROBABILITY SAMPLING**"
   ]
  },
  {
   "cell_type": "markdown",
   "metadata": {},
   "source": [
    "The study was conducted on the Internet using the YouGov panel. The YouGov panel\n",
    "consists of a large and diverse set of over a million respondents who have volunteered to\n",
    "complete surveys online and who regularly receive invitations to do so. They receive points\n",
    "usually worth about 21 to 50 cents for each survey they complete. The points are\n",
    "redeemable for various gift cards. A respondent has to complete about 40 surveys to be\n",
    "eligible for any reward. <br/>\n",
    "\n",
    "This is voluntary sampling: https://www.youtube.com/watch?v=-kwdXEXC7yE (a form of non probability - non random sampling)\n",
    "\n",
    "**DIDNT UNDERSTAND**: Respondents were selected from the YouGov panel by sample matching. **Matching is\n",
    "intended to make the individuals who complete the survey represent the population on the\n",
    "variables used for matching.** Respondents were matched to U.S. citizens in the 2016\n",
    "American Community Survey (ACS) sample by gender, age, race, and education. **Matched\n",
    "cases were weighted to the ACS frame using a propensity score model based on the prior\n",
    "variables as well as geographic region.** After data collection the sample was weighted by\n",
    "YouGov to match population characteristics for 2016 presidential candidate choice, gender,\n",
    "age, race/ethnicity, and education."
   ]
  },
  {
   "cell_type": "markdown",
   "metadata": {},
   "source": [
    "**CONDITIONAL IGNORABILITY**"
   ]
  },
  {
   "cell_type": "markdown",
   "metadata": {},
   "source": [
    "The basis for population inference: an assumption of conditional ignorability.\n",
    "https://www.fragilefamilieschallenge.org/causal-inference/"
   ]
  },
  {
   "cell_type": "markdown",
   "metadata": {},
   "source": [
    "Given the variables used in weighting and matching (X), survey participation (D) is independent of variables measured in the survey (Y).\n",
    "The assumption is, in other words, that after controlling for the matching and weighting factors (gender, age, race/ethnicity, education, geographic region, and presidential candidate choice), participation or non-participation in the survey is not systematically related to any of the other survey questions."
   ]
  },
  {
   "cell_type": "markdown",
   "metadata": {},
   "source": [
    "Conditional ignorability: {Y(0),Y(1)} 丄 D | X"
   ]
  },
  {
   "cell_type": "markdown",
   "metadata": {},
   "source": [
    "Given a set of covariates X, conditional ignorability states that treatment asignment D is independent of the potential outcomes that would be realized under treatment Y(1) and control Y(0). In other words, two observations with the same set of covariates X but with different treatment statuses can be compared to estimate the causal effect of the treatment for these observations."
   ]
  },
  {
   "cell_type": "markdown",
   "metadata": {},
   "source": [
    "**NET RESULT: If this assumption holds, a useful consequence is that the\n",
    "sample distribution of survey variables will (at least approximately) match the distribution\n",
    "of those variables in the population**"
   ]
  },
  {
   "cell_type": "markdown",
   "metadata": {},
   "source": [
    "**NOTE ON STANDARD ERRORS**"
   ]
  },
  {
   "cell_type": "markdown",
   "metadata": {},
   "source": [
    "CAVEAT: Standard errors are measures of variability in\n",
    "sample statistics (estimates of population parameters) arising from random sampling. Because the YouGov survey data were\n",
    "not generated by a probability sampling plan, **some practitioners recommend against using\n",
    "the term “standard error”** (and related terms such as “sampling error,” “margin of error”\n",
    "and “confidence intervals”) when reporting analyses of these data at least without noting\n",
    "that these terms are not being used in their usual sense. **Valid inference of any “standard\n",
    "error” reported for these data rests on the ignorability assumption noted above.**"
   ]
  },
  {
   "cell_type": "markdown",
   "metadata": {},
   "source": [
    "**THE WEIGHT VARIABLE**"
   ]
  },
  {
   "cell_type": "markdown",
   "metadata": {},
   "source": [
    "This variable is normed to have mean 1.0, such that the number of weighted observations\n",
    "equals to the number of unweighted observations (2,500). The weight variable ranges\n",
    "from 0.08 to 7.01 and has **variance 0.72**. Using this weight variable means that the\n",
    "resulting standard errors and confidence intervals will be larger than those from analyses\n",
    "that naively treat the data as a simple random sample (but SPSS users and other users of\n",
    "frequency weights should see the note below on “SPSS weights”.) With a simple random\n",
    "sample of 2,500 observations, a sample estimate of a proportion of .5 would have a\n",
    "standard error of 0.01 and a 95% confidence interval of +/- 0.0196. **In this data set, the\n",
    "weights results in a loss of precision relative to a simple random sample, by a factor\n",
    "proportional to the variance of the weights (recall that under simple random sampling, any\n",
    "weight variable would be constant and have variance zero)**; standard errors and confidence\n",
    "intervals are inflated by a term proportional to the standard deviation of the weights\n",
    "\n",
    "In the current dataset, the pseudo-design effect due to weighting is 1.723, and the root\n",
    "design effect is 1.313. This means that, **provided that the ignorability assumption noted\n",
    "above holds true**, the sample’s statistical power is equivalent to a simple random sample\n",
    "size of 2,500/1.723 = 1,451, and **the expected “sampling error” (which is, again, not a\n",
    "conventional sampling error because this is not a probability sample) for an estimated\n",
    "proportion of .5 would be increased by a factor of 31.3% (0.0196 × 1.313) to .0257**\n",
    "\n",
    "**Note that this 31.3% comes from 1.313**"
   ]
  },
  {
   "cell_type": "markdown",
   "metadata": {},
   "source": [
    "**DATA COLLECTION**"
   ]
  },
  {
   "cell_type": "markdown",
   "metadata": {},
   "source": [
    "YouGov invited 6,500 panelists to complete the survey. Of these,\n",
    "3,322 started the questionnaire and 3,178 did not respond. Of those who started, 101 were\n",
    "ineligible non-citizens and 311 did not answer the entire questionnaire (i.e., they are\n",
    "considered breakoffs). The remaining 2,910 completed the questionnaire, of whom 131\n",
    "were rejected by YouGov on quality-control grounds (such as completion time and item\n",
    "nonresponse). Of the remaining 2,779, there were 2,500 selected (and 279 not selected) to\n",
    "produce the final dataset by using the matching procedure described above. As described in\n",
    "part 6 below, **the data from the 279 cases that were not selected are available on a separate\n",
    "auxiliary data file.**"
   ]
  },
  {
   "cell_type": "markdown",
   "metadata": {},
   "source": [
    "**DATA DESCRIPTION**"
   ]
  },
  {
   "cell_type": "markdown",
   "metadata": {},
   "source": [
    "The variables from pid7 through race_other (positions 283 through 309) are YouGov\n",
    "profile survey data. These data were collected on previously-completed questionnaires.\n",
    "\n",
    "\n",
    "pk_germ and pk_cjus are scripted variables asking about different political knowledge related questions about Germany and US officials\n",
    "\n",
    "The three variables pdl_inputzip, pdl_region, and pdl_cassregcountyname (positions\n",
    "310-312) are geographic data for ZIP code, census region, and county. The ZIP and county\n",
    "are restricted access data, not included on the public-use data file to protect respondent\n",
    "confidentiality.\n",
    "\n",
    "The variables from acaapprove_skp through turnout18w_skp (positions 313-499) are item\n",
    "nonresponse prompt flags. When a respondent initially declined to answer a question, he or\n",
    "she was asked to please answer. When this request was made, the occurrence was recorded.\n",
    "\n",
    "The variables from follow_page_timing through honest_page_timing (positions 500-685)\n",
    "show the time in seconds to complete the ANES questionnaire pages.\n",
    "\n",
    "The variables from ord_gehope through ord_imrelieve (positions 686-750) record the\n",
    "order in which indicated items or response options were displayed.\n",
    "\n",
    "The variables from rand_votestop through rand_pid (positions 751-762) are\n",
    "randomization variables referenced in the questionnaire specifications.\n",
    "\n",
    "starttime, endtime, and duration, (positions 763-765) respectively indicate the date and\n",
    "time that the respondent started the ANES questionnaire, the date and time the respondent\n",
    "finished the questionnaire, and the duration of the interview in seconds.\n",
    "\n",
    "The final variables on the file, optintimestamp (766) and completes (the last variable on\n",
    "the file at position 767) respectively give the date the respondent joined the YouGov panel\n",
    "and the total number of YouGov surveys previously completed, excluding the initial profile\n",
    "survey. If optintimestamp is missing, this indicates that the respondent opted in to the\n",
    "panel before March 2005, when opt-in date recording commenced."
   ]
  },
  {
   "cell_type": "markdown",
   "metadata": {},
   "source": [
    "## Initial Analysis"
   ]
  },
  {
   "cell_type": "markdown",
   "metadata": {},
   "source": [
    "### Question 1: Do US voters have more respect for the police or for journalists?\n",
    "\n",
    "Will need to use ftpolice (How would you rate the police?) and ftjournal (How would you rate journalists?)\n",
    "\n",
    "**Follow up - what is ftpolice_therm and ftjournal_therm**\n",
    "\n",
    "Possible other variables to look at: \n",
    "1. ftpolice_skp, ftpolice_page_timing, ord_ftpolice <br/>\n",
    "2. ftjournal_skp, ftjournal_page_timing, ord_ftjournal\n",
    "\n",
    "Will likeley need to do a \"matched pairs sign test\" https://www.youtube.com/watch?v=IcLSKko2tsg \n",
    "\n",
    "Note that these are ordinal / likert variables from 1-100  (think of it as a scale of agree / strongly agree etc.) - except that its way more granular.\n",
    "\n",
    "Note that here we are being asked to simply measure a binary variable (have more / less respect), vs measure \"how much more respect\" does one group have over another.\n",
    "\n",
    "We will calculate proportion of total US voters who have more respect for police P(police) = # (where ftpolice > ftjournal) / total\n",
    "\n",
    "Hypothesis will be:\n",
    "\n",
    "Ho: P(police) = 0.5 <br/>\n",
    "Ha: P(police) != 0.5"
   ]
  },
  {
   "cell_type": "code",
   "execution_count": 30,
   "metadata": {},
   "outputs": [
    {
     "data": {
      "text/plain": [
       "   Min. 1st Qu.  Median    Mean 3rd Qu.    Max. \n",
       "   0.00   47.00   70.00   64.68   90.00  100.00 "
      ]
     },
     "metadata": {},
     "output_type": "display_data"
    }
   ],
   "source": [
    "summary(data$ftpolice)"
   ]
  },
  {
   "cell_type": "code",
   "execution_count": 32,
   "metadata": {},
   "outputs": [
    {
     "data": {
      "text/plain": [
       "   Min. 1st Qu.  Median    Mean 3rd Qu.    Max. \n",
       "  -7.00   21.00   52.00   52.26   82.00  100.00 "
      ]
     },
     "metadata": {},
     "output_type": "display_data"
    }
   ],
   "source": [
    "summary(data$ftjournal)"
   ]
  },
  {
   "cell_type": "markdown",
   "metadata": {},
   "source": [
    "### Question 2: Are Republican voters older or younger than Democratic voters?\n",
    "\n",
    "The variables from pid7 through race_other (positions 283 through 309) are YouGov profile survey data.\n"
   ]
  },
  {
   "cell_type": "code",
   "execution_count": 38,
   "metadata": {},
   "outputs": [
    {
     "data": {
      "text/html": [
       "<table>\n",
       "<thead><tr><th scope=col>pid7</th><th scope=col>birthyr</th><th scope=col>gender</th><th scope=col>educ</th><th scope=col>marstat</th><th scope=col>child18</th><th scope=col>employ</th><th scope=col>employ_t</th><th scope=col>faminc_new</th><th scope=col>region</th><th scope=col>...</th><th scope=col>pew_churatd</th><th scope=col>pew_prayer</th><th scope=col>religpew</th><th scope=col>religpew_t</th><th scope=col>religpew_protestant</th><th scope=col>religpew_protestant_t</th><th scope=col>immigrant</th><th scope=col>inputstate</th><th scope=col>race</th><th scope=col>race_other</th></tr></thead>\n",
       "<tbody>\n",
       "\t<tr><td>-4    </td><td>1986  </td><td>2     </td><td>4     </td><td>5     </td><td>2     </td><td>1     </td><td>__NA__</td><td> 3    </td><td>1     </td><td>...   </td><td>5     </td><td>6     </td><td> 2    </td><td>__NA__</td><td>98    </td><td>__NA__</td><td>5     </td><td>42    </td><td>1     </td><td>__NA__</td></tr>\n",
       "\t<tr><td>-4    </td><td>1972  </td><td>2     </td><td>6     </td><td>6     </td><td>2     </td><td>1     </td><td>__NA__</td><td> 4    </td><td>3     </td><td>...   </td><td>6     </td><td>7     </td><td>11    </td><td>__NA__</td><td> 7    </td><td>__NA__</td><td>4     </td><td>12    </td><td>1     </td><td>__NA__</td></tr>\n",
       "\t<tr><td>-4    </td><td>1999  </td><td>2     </td><td>2     </td><td>5     </td><td>2     </td><td>8     </td><td>__NA__</td><td>97    </td><td>1     </td><td>...   </td><td>2     </td><td>5     </td><td> 2    </td><td>__NA__</td><td>98    </td><td>__NA__</td><td>3     </td><td>42    </td><td>6     </td><td>__NA__</td></tr>\n",
       "\t<tr><td>-4    </td><td>1975  </td><td>2     </td><td>3     </td><td>3     </td><td>1     </td><td>2     </td><td>__NA__</td><td> 3    </td><td>3     </td><td>...   </td><td>7     </td><td>1     </td><td> 2    </td><td>__NA__</td><td>98    </td><td>__NA__</td><td>5     </td><td>12    </td><td>3     </td><td>__NA__</td></tr>\n",
       "\t<tr><td>-4    </td><td>1989  </td><td>2     </td><td>3     </td><td>1     </td><td>1     </td><td>1     </td><td>__NA__</td><td> 4    </td><td>1     </td><td>...   </td><td>3     </td><td>3     </td><td> 1    </td><td>__NA__</td><td> 1    </td><td>__NA__</td><td>5     </td><td>23    </td><td>1     </td><td>__NA__</td></tr>\n",
       "\t<tr><td>-4    </td><td>1992  </td><td>2     </td><td>1     </td><td>5     </td><td>2     </td><td>1     </td><td>__NA__</td><td> 2    </td><td>3     </td><td>...   </td><td>2     </td><td>2     </td><td> 2    </td><td>__NA__</td><td>98    </td><td>__NA__</td><td>3     </td><td>48    </td><td>3     </td><td>__NA__</td></tr>\n",
       "</tbody>\n",
       "</table>\n"
      ],
      "text/latex": [
       "\\begin{tabular}{r|lllllllllllllllllllllllllll}\n",
       " pid7 & birthyr & gender & educ & marstat & child18 & employ & employ\\_t & faminc\\_new & region & ... & pew\\_churatd & pew\\_prayer & religpew & religpew\\_t & religpew\\_protestant & religpew\\_protestant\\_t & immigrant & inputstate & race & race\\_other\\\\\n",
       "\\hline\n",
       "\t -4             & 1986           & 2              & 4              & 5              & 2              & 1              & \\_\\_NA\\_\\_ &  3             & 1              & ...            & 5              & 6              &  2             & \\_\\_NA\\_\\_ & 98             & \\_\\_NA\\_\\_ & 5              & 42             & 1              & \\_\\_NA\\_\\_\\\\\n",
       "\t -4             & 1972           & 2              & 6              & 6              & 2              & 1              & \\_\\_NA\\_\\_ &  4             & 3              & ...            & 6              & 7              & 11             & \\_\\_NA\\_\\_ &  7             & \\_\\_NA\\_\\_ & 4              & 12             & 1              & \\_\\_NA\\_\\_\\\\\n",
       "\t -4             & 1999           & 2              & 2              & 5              & 2              & 8              & \\_\\_NA\\_\\_ & 97             & 1              & ...            & 2              & 5              &  2             & \\_\\_NA\\_\\_ & 98             & \\_\\_NA\\_\\_ & 3              & 42             & 6              & \\_\\_NA\\_\\_\\\\\n",
       "\t -4             & 1975           & 2              & 3              & 3              & 1              & 2              & \\_\\_NA\\_\\_ &  3             & 3              & ...            & 7              & 1              &  2             & \\_\\_NA\\_\\_ & 98             & \\_\\_NA\\_\\_ & 5              & 12             & 3              & \\_\\_NA\\_\\_\\\\\n",
       "\t -4             & 1989           & 2              & 3              & 1              & 1              & 1              & \\_\\_NA\\_\\_ &  4             & 1              & ...            & 3              & 3              &  1             & \\_\\_NA\\_\\_ &  1             & \\_\\_NA\\_\\_ & 5              & 23             & 1              & \\_\\_NA\\_\\_\\\\\n",
       "\t -4             & 1992           & 2              & 1              & 5              & 2              & 1              & \\_\\_NA\\_\\_ &  2             & 3              & ...            & 2              & 2              &  2             & \\_\\_NA\\_\\_ & 98             & \\_\\_NA\\_\\_ & 3              & 48             & 3              & \\_\\_NA\\_\\_\\\\\n",
       "\\end{tabular}\n"
      ],
      "text/markdown": [
       "\n",
       "| pid7 | birthyr | gender | educ | marstat | child18 | employ | employ_t | faminc_new | region | ... | pew_churatd | pew_prayer | religpew | religpew_t | religpew_protestant | religpew_protestant_t | immigrant | inputstate | race | race_other |\n",
       "|---|---|---|---|---|---|---|---|---|---|---|---|---|---|---|---|---|---|---|---|---|\n",
       "| -4     | 1986   | 2      | 4      | 5      | 2      | 1      | __NA__ |  3     | 1      | ...    | 5      | 6      |  2     | __NA__ | 98     | __NA__ | 5      | 42     | 1      | __NA__ |\n",
       "| -4     | 1972   | 2      | 6      | 6      | 2      | 1      | __NA__ |  4     | 3      | ...    | 6      | 7      | 11     | __NA__ |  7     | __NA__ | 4      | 12     | 1      | __NA__ |\n",
       "| -4     | 1999   | 2      | 2      | 5      | 2      | 8      | __NA__ | 97     | 1      | ...    | 2      | 5      |  2     | __NA__ | 98     | __NA__ | 3      | 42     | 6      | __NA__ |\n",
       "| -4     | 1975   | 2      | 3      | 3      | 1      | 2      | __NA__ |  3     | 3      | ...    | 7      | 1      |  2     | __NA__ | 98     | __NA__ | 5      | 12     | 3      | __NA__ |\n",
       "| -4     | 1989   | 2      | 3      | 1      | 1      | 1      | __NA__ |  4     | 1      | ...    | 3      | 3      |  1     | __NA__ |  1     | __NA__ | 5      | 23     | 1      | __NA__ |\n",
       "| -4     | 1992   | 2      | 1      | 5      | 2      | 1      | __NA__ |  2     | 3      | ...    | 2      | 2      |  2     | __NA__ | 98     | __NA__ | 3      | 48     | 3      | __NA__ |\n",
       "\n"
      ],
      "text/plain": [
       "  pid7 birthyr gender educ marstat child18 employ employ_t faminc_new region\n",
       "1 -4   1986    2      4    5       2       1      __NA__    3         1     \n",
       "2 -4   1972    2      6    6       2       1      __NA__    4         3     \n",
       "3 -4   1999    2      2    5       2       8      __NA__   97         1     \n",
       "4 -4   1975    2      3    3       1       2      __NA__    3         3     \n",
       "5 -4   1989    2      3    1       1       1      __NA__    4         1     \n",
       "6 -4   1992    2      1    5       2       1      __NA__    2         3     \n",
       "  ... pew_churatd pew_prayer religpew religpew_t religpew_protestant\n",
       "1 ... 5           6           2       __NA__     98                 \n",
       "2 ... 6           7          11       __NA__      7                 \n",
       "3 ... 2           5           2       __NA__     98                 \n",
       "4 ... 7           1           2       __NA__     98                 \n",
       "5 ... 3           3           1       __NA__      1                 \n",
       "6 ... 2           2           2       __NA__     98                 \n",
       "  religpew_protestant_t immigrant inputstate race race_other\n",
       "1 __NA__                5         42         1    __NA__    \n",
       "2 __NA__                4         12         1    __NA__    \n",
       "3 __NA__                3         42         6    __NA__    \n",
       "4 __NA__                5         12         3    __NA__    \n",
       "5 __NA__                5         23         1    __NA__    \n",
       "6 __NA__                3         48         3    __NA__    "
      ]
     },
     "metadata": {},
     "output_type": "display_data"
    }
   ],
   "source": [
    "cols = seq(from = 283, to = 309, by = 1)\n",
    "head(data[, cols])"
   ]
  },
  {
   "cell_type": "code",
   "execution_count": 40,
   "metadata": {},
   "outputs": [
    {
     "data": {
      "text/html": [
       "<ol class=list-inline>\n",
       "\t<li>'pid7'</li>\n",
       "\t<li>'birthyr'</li>\n",
       "\t<li>'gender'</li>\n",
       "\t<li>'educ'</li>\n",
       "\t<li>'marstat'</li>\n",
       "\t<li>'child18'</li>\n",
       "\t<li>'employ'</li>\n",
       "\t<li>'employ_t'</li>\n",
       "\t<li>'faminc_new'</li>\n",
       "\t<li>'region'</li>\n",
       "\t<li>'votereg'</li>\n",
       "\t<li>'ideo5'</li>\n",
       "\t<li>'newsint'</li>\n",
       "\t<li>'presvote16post'</li>\n",
       "\t<li>'presvote16post_t'</li>\n",
       "\t<li>'pew_bornagain'</li>\n",
       "\t<li>'pew_religimp'</li>\n",
       "\t<li>'pew_churatd'</li>\n",
       "\t<li>'pew_prayer'</li>\n",
       "\t<li>'religpew'</li>\n",
       "\t<li>'religpew_t'</li>\n",
       "\t<li>'religpew_protestant'</li>\n",
       "\t<li>'religpew_protestant_t'</li>\n",
       "\t<li>'immigrant'</li>\n",
       "\t<li>'inputstate'</li>\n",
       "\t<li>'race'</li>\n",
       "\t<li>'race_other'</li>\n",
       "</ol>\n"
      ],
      "text/latex": [
       "\\begin{enumerate*}\n",
       "\\item 'pid7'\n",
       "\\item 'birthyr'\n",
       "\\item 'gender'\n",
       "\\item 'educ'\n",
       "\\item 'marstat'\n",
       "\\item 'child18'\n",
       "\\item 'employ'\n",
       "\\item 'employ\\_t'\n",
       "\\item 'faminc\\_new'\n",
       "\\item 'region'\n",
       "\\item 'votereg'\n",
       "\\item 'ideo5'\n",
       "\\item 'newsint'\n",
       "\\item 'presvote16post'\n",
       "\\item 'presvote16post\\_t'\n",
       "\\item 'pew\\_bornagain'\n",
       "\\item 'pew\\_religimp'\n",
       "\\item 'pew\\_churatd'\n",
       "\\item 'pew\\_prayer'\n",
       "\\item 'religpew'\n",
       "\\item 'religpew\\_t'\n",
       "\\item 'religpew\\_protestant'\n",
       "\\item 'religpew\\_protestant\\_t'\n",
       "\\item 'immigrant'\n",
       "\\item 'inputstate'\n",
       "\\item 'race'\n",
       "\\item 'race\\_other'\n",
       "\\end{enumerate*}\n"
      ],
      "text/markdown": [
       "1. 'pid7'\n",
       "2. 'birthyr'\n",
       "3. 'gender'\n",
       "4. 'educ'\n",
       "5. 'marstat'\n",
       "6. 'child18'\n",
       "7. 'employ'\n",
       "8. 'employ_t'\n",
       "9. 'faminc_new'\n",
       "10. 'region'\n",
       "11. 'votereg'\n",
       "12. 'ideo5'\n",
       "13. 'newsint'\n",
       "14. 'presvote16post'\n",
       "15. 'presvote16post_t'\n",
       "16. 'pew_bornagain'\n",
       "17. 'pew_religimp'\n",
       "18. 'pew_churatd'\n",
       "19. 'pew_prayer'\n",
       "20. 'religpew'\n",
       "21. 'religpew_t'\n",
       "22. 'religpew_protestant'\n",
       "23. 'religpew_protestant_t'\n",
       "24. 'immigrant'\n",
       "25. 'inputstate'\n",
       "26. 'race'\n",
       "27. 'race_other'\n",
       "\n",
       "\n"
      ],
      "text/plain": [
       " [1] \"pid7\"                  \"birthyr\"               \"gender\"               \n",
       " [4] \"educ\"                  \"marstat\"               \"child18\"              \n",
       " [7] \"employ\"                \"employ_t\"              \"faminc_new\"           \n",
       "[10] \"region\"                \"votereg\"               \"ideo5\"                \n",
       "[13] \"newsint\"               \"presvote16post\"        \"presvote16post_t\"     \n",
       "[16] \"pew_bornagain\"         \"pew_religimp\"          \"pew_churatd\"          \n",
       "[19] \"pew_prayer\"            \"religpew\"              \"religpew_t\"           \n",
       "[22] \"religpew_protestant\"   \"religpew_protestant_t\" \"immigrant\"            \n",
       "[25] \"inputstate\"            \"race\"                  \"race_other\"           "
      ]
     },
     "metadata": {},
     "output_type": "display_data"
    }
   ],
   "source": [
    "colnames(data[,cols])"
   ]
  },
  {
   "cell_type": "code",
   "execution_count": 43,
   "metadata": {},
   "outputs": [
    {
     "data": {
      "text/html": [
       "<ol class=list-inline>\n",
       "\t<li>1986</li>\n",
       "\t<li>1972</li>\n",
       "\t<li>1999</li>\n",
       "\t<li>1975</li>\n",
       "\t<li>1989</li>\n",
       "\t<li>1992</li>\n",
       "</ol>\n"
      ],
      "text/latex": [
       "\\begin{enumerate*}\n",
       "\\item 1986\n",
       "\\item 1972\n",
       "\\item 1999\n",
       "\\item 1975\n",
       "\\item 1989\n",
       "\\item 1992\n",
       "\\end{enumerate*}\n"
      ],
      "text/markdown": [
       "1. 1986\n",
       "2. 1972\n",
       "3. 1999\n",
       "4. 1975\n",
       "5. 1989\n",
       "6. 1992\n",
       "\n",
       "\n"
      ],
      "text/plain": [
       "[1] 1986 1972 1999 1975 1989 1992"
      ]
     },
     "metadata": {},
     "output_type": "display_data"
    }
   ],
   "source": [
    "head(data[, c(\"birthyr\")])"
   ]
  },
  {
   "cell_type": "code",
   "execution_count": 42,
   "metadata": {},
   "outputs": [
    {
     "data": {
      "text/html": [
       "<ol class=list-inline>\n",
       "\t<li>34</li>\n",
       "\t<li>48</li>\n",
       "\t<li>21</li>\n",
       "\t<li>45</li>\n",
       "\t<li>31</li>\n",
       "\t<li>28</li>\n",
       "</ol>\n"
      ],
      "text/latex": [
       "\\begin{enumerate*}\n",
       "\\item 34\n",
       "\\item 48\n",
       "\\item 21\n",
       "\\item 45\n",
       "\\item 31\n",
       "\\item 28\n",
       "\\end{enumerate*}\n"
      ],
      "text/markdown": [
       "1. 34\n",
       "2. 48\n",
       "3. 21\n",
       "4. 45\n",
       "5. 31\n",
       "6. 28\n",
       "\n",
       "\n"
      ],
      "text/plain": [
       "[1] 34 48 21 45 31 28"
      ]
     },
     "metadata": {},
     "output_type": "display_data"
    }
   ],
   "source": [
    "head(2020 - data[, c(\"birthyr\")])"
   ]
  },
  {
   "cell_type": "markdown",
   "metadata": {},
   "source": [
    "For political party affiliation, there are quite a few variables associated with party - that needs investigation\n",
    "\n",
    "house18, senate18, gov18, vote20dem, phecon, phhealth, phtax, phimmig, phborder, phforeign, phtrade, phopiod, phenviron, phnatdis, \n",
    "\n",
    "pid1d (Generally speaking, do you usually think of yourself as a Democrat, a Republican), \n",
    "\n",
    "pid1r (Generally speaking, do you usually think of yourself as a Republican, a Democrat),\n",
    "\n",
    "pidstr (strength of affiliation)\n",
    "\n",
    "pidlean (leaning towards which party?)"
   ]
  },
  {
   "cell_type": "code",
   "execution_count": null,
   "metadata": {},
   "outputs": [],
   "source": []
  }
 ],
 "metadata": {
  "kernelspec": {
   "display_name": "R",
   "language": "R",
   "name": "ir"
  },
  "language_info": {
   "codemirror_mode": "r",
   "file_extension": ".r",
   "mimetype": "text/x-r-source",
   "name": "R",
   "pygments_lexer": "r",
   "version": "3.6.1"
  }
 },
 "nbformat": 4,
 "nbformat_minor": 4
}
