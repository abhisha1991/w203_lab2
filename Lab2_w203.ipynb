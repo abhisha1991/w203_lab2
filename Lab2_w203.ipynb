{
 "cells": [
  {
   "cell_type": "markdown",
   "metadata": {},
   "source": [
    "# Lab 2 - W203 - Statistics for Data Science"
   ]
  },
  {
   "cell_type": "markdown",
   "metadata": {},
   "source": [
    "#### Submission by Jude Kavalam, Harshit Patel, Abhi Sharma"
   ]
  },
  {
   "cell_type": "markdown",
   "metadata": {},
   "source": [
    "## Install packages"
   ]
  },
  {
   "cell_type": "code",
   "execution_count": 1,
   "metadata": {},
   "outputs": [
    {
     "name": "stdout",
     "output_type": "stream",
     "text": [
      "\n",
      "  There is a binary version available but the source version is later:\n",
      "      binary source needs_compilation\n",
      "dplyr  0.8.4  0.8.5              TRUE\n",
      "\n",
      "  Binaries will be installed\n",
      "package 'dplyr' successfully unpacked and MD5 sums checked\n",
      "\n",
      "The downloaded binary packages are in\n",
      "\tC:\\Users\\abhisha.REDMOND\\AppData\\Local\\Temp\\Rtmpiqtw7X\\downloaded_packages\n"
     ]
    },
    {
     "name": "stderr",
     "output_type": "stream",
     "text": [
      "Warning message:\n",
      "\"package 'dplyr' was built under R version 3.6.3\"\n",
      "Attaching package: 'dplyr'\n",
      "\n",
      "The following objects are masked from 'package:stats':\n",
      "\n",
      "    filter, lag\n",
      "\n",
      "The following objects are masked from 'package:base':\n",
      "\n",
      "    intersect, setdiff, setequal, union\n",
      "\n"
     ]
    },
    {
     "name": "stdout",
     "output_type": "stream",
     "text": [
      "package 'rcompanion' successfully unpacked and MD5 sums checked\n",
      "\n",
      "The downloaded binary packages are in\n",
      "\tC:\\Users\\abhisha.REDMOND\\AppData\\Local\\Temp\\Rtmpiqtw7X\\downloaded_packages\n"
     ]
    },
    {
     "name": "stderr",
     "output_type": "stream",
     "text": [
      "Warning message:\n",
      "\"package 'rcompanion' was built under R version 3.6.3\""
     ]
    },
    {
     "name": "stdout",
     "output_type": "stream",
     "text": [
      "package 'repr' successfully unpacked and MD5 sums checked\n",
      "\n",
      "The downloaded binary packages are in\n",
      "\tC:\\Users\\abhisha.REDMOND\\AppData\\Local\\Temp\\Rtmpiqtw7X\\downloaded_packages\n"
     ]
    },
    {
     "name": "stderr",
     "output_type": "stream",
     "text": [
      "Warning message:\n",
      "\"package 'repr' was built under R version 3.6.3\""
     ]
    },
    {
     "name": "stdout",
     "output_type": "stream",
     "text": [
      "package 'effsize' successfully unpacked and MD5 sums checked\n",
      "\n",
      "The downloaded binary packages are in\n",
      "\tC:\\Users\\abhisha.REDMOND\\AppData\\Local\\Temp\\Rtmpiqtw7X\\downloaded_packages\n"
     ]
    },
    {
     "name": "stderr",
     "output_type": "stream",
     "text": [
      "Warning message:\n",
      "\"package 'effsize' was built under R version 3.6.3\""
     ]
    }
   ],
   "source": [
    "install.packages(\"dplyr\")\n",
    "library(dplyr)\n",
    "install.packages(\"rcompanion\")\n",
    "library(rcompanion)\n",
    "install.packages(\"repr\")\n",
    "library(repr)\n",
    "install.packages(\"effsize\")\n",
    "library(effsize)\n",
    "\n",
    "# set standard height and width for images displayed\n",
    "options(repr.plot.width=5, repr.plot.height=5)"
   ]
  },
  {
   "cell_type": "markdown",
   "metadata": {},
   "source": [
    "## Get Data Function"
   ]
  },
  {
   "cell_type": "code",
   "execution_count": 2,
   "metadata": {},
   "outputs": [],
   "source": [
    "get_data = function() {\n",
    "    wd = getwd()\n",
    "    return (read.csv(paste(wd, \"/\", \"anes_pilot_2018.csv\", sep=\"\")))    \n",
    "}\n"
   ]
  },
  {
   "cell_type": "code",
   "execution_count": 3,
   "metadata": {},
   "outputs": [
    {
     "data": {
      "text/html": [
       "<table>\n",
       "<caption>A data.frame: 6 × 767</caption>\n",
       "<thead>\n",
       "\t<tr><th></th><th scope=col>version</th><th scope=col>caseid</th><th scope=col>weight</th><th scope=col>weight_spss</th><th scope=col>form</th><th scope=col>follow</th><th scope=col>addtime</th><th scope=col>reg</th><th scope=col>whenreg</th><th scope=col>howreg</th><th scope=col>...</th><th scope=col>rand_emp</th><th scope=col>rand_climate</th><th scope=col>rand_rural</th><th scope=col>rand_pk</th><th scope=col>rand_pid</th><th scope=col>starttime</th><th scope=col>endtime</th><th scope=col>duration</th><th scope=col>optintimestamp</th><th scope=col>completes</th></tr>\n",
       "\t<tr><th></th><th scope=col>&lt;fct&gt;</th><th scope=col>&lt;int&gt;</th><th scope=col>&lt;dbl&gt;</th><th scope=col>&lt;dbl&gt;</th><th scope=col>&lt;int&gt;</th><th scope=col>&lt;int&gt;</th><th scope=col>&lt;int&gt;</th><th scope=col>&lt;int&gt;</th><th scope=col>&lt;int&gt;</th><th scope=col>&lt;int&gt;</th><th scope=col>...</th><th scope=col>&lt;int&gt;</th><th scope=col>&lt;int&gt;</th><th scope=col>&lt;int&gt;</th><th scope=col>&lt;int&gt;</th><th scope=col>&lt;int&gt;</th><th scope=col>&lt;fct&gt;</th><th scope=col>&lt;fct&gt;</th><th scope=col>&lt;int&gt;</th><th scope=col>&lt;fct&gt;</th><th scope=col>&lt;int&gt;</th></tr>\n",
       "</thead>\n",
       "<tbody>\n",
       "\t<tr><th scope=row>1</th><td>ANES 2018 Pilot Study main version 20190129</td><td>1</td><td>1.2555080</td><td>0.7286969</td><td>1</td><td>4</td><td>2</td><td>1</td><td> 4</td><td>-1</td><td>...</td><td>1</td><td>2</td><td>2</td><td>1</td><td>1</td><td>12/10/2018 18:34:11</td><td>12/10/2018 20:00:03</td><td> 5152</td><td>10/15/15</td><td> 46</td></tr>\n",
       "\t<tr><th scope=row>2</th><td>ANES 2018 Pilot Study main version 20190129</td><td>2</td><td>0.5694911</td><td>0.3305327</td><td>2</td><td>1</td><td>2</td><td>3</td><td>-1</td><td>-1</td><td>...</td><td>2</td><td>1</td><td>1</td><td>0</td><td>2</td><td>12/10/2018 19:26:37</td><td>12/10/2018 19:53:12</td><td> 1595</td><td>7/16/16 </td><td> 55</td></tr>\n",
       "\t<tr><th scope=row>3</th><td>ANES 2018 Pilot Study main version 20190129</td><td>3</td><td>0.9720616</td><td>0.5641846</td><td>1</td><td>4</td><td>3</td><td>3</td><td>-1</td><td>-1</td><td>...</td><td>2</td><td>2</td><td>1</td><td>1</td><td>2</td><td>12/10/2018 19:48:44</td><td>12/10/2018 20:21:21</td><td> 1957</td><td>6/13/14 </td><td>  8</td></tr>\n",
       "\t<tr><th scope=row>4</th><td>ANES 2018 Pilot Study main version 20190129</td><td>4</td><td>2.4500732</td><td>1.4220225</td><td>1</td><td>4</td><td>2</td><td>1</td><td> 4</td><td>-1</td><td>...</td><td>2</td><td>2</td><td>1</td><td>0</td><td>1</td><td>12/10/2018 19:03:49</td><td>12/10/2018 19:21:08</td><td> 1039</td><td>10/28/15</td><td> 42</td></tr>\n",
       "\t<tr><th scope=row>5</th><td>ANES 2018 Pilot Study main version 20190129</td><td>5</td><td>1.6348200</td><td>0.9488495</td><td>2</td><td>1</td><td>3</td><td>1</td><td> 4</td><td>-1</td><td>...</td><td>2</td><td>1</td><td>2</td><td>1</td><td>2</td><td>12/10/2018 18:28:14</td><td>12/10/2018 18:43:23</td><td>  909</td><td>11/11/15</td><td> 33</td></tr>\n",
       "\t<tr><th scope=row>6</th><td>ANES 2018 Pilot Study main version 20190129</td><td>6</td><td>1.8184054</td><td>1.0554025</td><td>1</td><td>3</td><td>2</td><td>2</td><td> 2</td><td> 2</td><td>...</td><td>1</td><td>2</td><td>1</td><td>1</td><td>2</td><td>12/10/2018 23:58:17</td><td>12/11/2018 5:10:57 </td><td>18760</td><td>5/9/15  </td><td>185</td></tr>\n",
       "</tbody>\n",
       "</table>\n"
      ],
      "text/latex": [
       "A data.frame: 6 × 767\n",
       "\\begin{tabular}{r|lllllllllllllllllllll}\n",
       "  & version & caseid & weight & weight\\_spss & form & follow & addtime & reg & whenreg & howreg & ... & rand\\_emp & rand\\_climate & rand\\_rural & rand\\_pk & rand\\_pid & starttime & endtime & duration & optintimestamp & completes\\\\\n",
       "  & <fct> & <int> & <dbl> & <dbl> & <int> & <int> & <int> & <int> & <int> & <int> & ... & <int> & <int> & <int> & <int> & <int> & <fct> & <fct> & <int> & <fct> & <int>\\\\\n",
       "\\hline\n",
       "\t1 & ANES 2018 Pilot Study main version 20190129 & 1 & 1.2555080 & 0.7286969 & 1 & 4 & 2 & 1 &  4 & -1 & ... & 1 & 2 & 2 & 1 & 1 & 12/10/2018 18:34:11 & 12/10/2018 20:00:03 &  5152 & 10/15/15 &  46\\\\\n",
       "\t2 & ANES 2018 Pilot Study main version 20190129 & 2 & 0.5694911 & 0.3305327 & 2 & 1 & 2 & 3 & -1 & -1 & ... & 2 & 1 & 1 & 0 & 2 & 12/10/2018 19:26:37 & 12/10/2018 19:53:12 &  1595 & 7/16/16  &  55\\\\\n",
       "\t3 & ANES 2018 Pilot Study main version 20190129 & 3 & 0.9720616 & 0.5641846 & 1 & 4 & 3 & 3 & -1 & -1 & ... & 2 & 2 & 1 & 1 & 2 & 12/10/2018 19:48:44 & 12/10/2018 20:21:21 &  1957 & 6/13/14  &   8\\\\\n",
       "\t4 & ANES 2018 Pilot Study main version 20190129 & 4 & 2.4500732 & 1.4220225 & 1 & 4 & 2 & 1 &  4 & -1 & ... & 2 & 2 & 1 & 0 & 1 & 12/10/2018 19:03:49 & 12/10/2018 19:21:08 &  1039 & 10/28/15 &  42\\\\\n",
       "\t5 & ANES 2018 Pilot Study main version 20190129 & 5 & 1.6348200 & 0.9488495 & 2 & 1 & 3 & 1 &  4 & -1 & ... & 2 & 1 & 2 & 1 & 2 & 12/10/2018 18:28:14 & 12/10/2018 18:43:23 &   909 & 11/11/15 &  33\\\\\n",
       "\t6 & ANES 2018 Pilot Study main version 20190129 & 6 & 1.8184054 & 1.0554025 & 1 & 3 & 2 & 2 &  2 &  2 & ... & 1 & 2 & 1 & 1 & 2 & 12/10/2018 23:58:17 & 12/11/2018 5:10:57  & 18760 & 5/9/15   & 185\\\\\n",
       "\\end{tabular}\n"
      ],
      "text/markdown": [
       "\n",
       "A data.frame: 6 × 767\n",
       "\n",
       "| <!--/--> | version &lt;fct&gt; | caseid &lt;int&gt; | weight &lt;dbl&gt; | weight_spss &lt;dbl&gt; | form &lt;int&gt; | follow &lt;int&gt; | addtime &lt;int&gt; | reg &lt;int&gt; | whenreg &lt;int&gt; | howreg &lt;int&gt; | ... ... | rand_emp &lt;int&gt; | rand_climate &lt;int&gt; | rand_rural &lt;int&gt; | rand_pk &lt;int&gt; | rand_pid &lt;int&gt; | starttime &lt;fct&gt; | endtime &lt;fct&gt; | duration &lt;int&gt; | optintimestamp &lt;fct&gt; | completes &lt;int&gt; |\n",
       "|---|---|---|---|---|---|---|---|---|---|---|---|---|---|---|---|---|---|---|---|---|---|\n",
       "| 1 | ANES 2018 Pilot Study main version 20190129 | 1 | 1.2555080 | 0.7286969 | 1 | 4 | 2 | 1 |  4 | -1 | ... | 1 | 2 | 2 | 1 | 1 | 12/10/2018 18:34:11 | 12/10/2018 20:00:03 |  5152 | 10/15/15 |  46 |\n",
       "| 2 | ANES 2018 Pilot Study main version 20190129 | 2 | 0.5694911 | 0.3305327 | 2 | 1 | 2 | 3 | -1 | -1 | ... | 2 | 1 | 1 | 0 | 2 | 12/10/2018 19:26:37 | 12/10/2018 19:53:12 |  1595 | 7/16/16  |  55 |\n",
       "| 3 | ANES 2018 Pilot Study main version 20190129 | 3 | 0.9720616 | 0.5641846 | 1 | 4 | 3 | 3 | -1 | -1 | ... | 2 | 2 | 1 | 1 | 2 | 12/10/2018 19:48:44 | 12/10/2018 20:21:21 |  1957 | 6/13/14  |   8 |\n",
       "| 4 | ANES 2018 Pilot Study main version 20190129 | 4 | 2.4500732 | 1.4220225 | 1 | 4 | 2 | 1 |  4 | -1 | ... | 2 | 2 | 1 | 0 | 1 | 12/10/2018 19:03:49 | 12/10/2018 19:21:08 |  1039 | 10/28/15 |  42 |\n",
       "| 5 | ANES 2018 Pilot Study main version 20190129 | 5 | 1.6348200 | 0.9488495 | 2 | 1 | 3 | 1 |  4 | -1 | ... | 2 | 1 | 2 | 1 | 2 | 12/10/2018 18:28:14 | 12/10/2018 18:43:23 |   909 | 11/11/15 |  33 |\n",
       "| 6 | ANES 2018 Pilot Study main version 20190129 | 6 | 1.8184054 | 1.0554025 | 1 | 3 | 2 | 2 |  2 |  2 | ... | 1 | 2 | 1 | 1 | 2 | 12/10/2018 23:58:17 | 12/11/2018 5:10:57  | 18760 | 5/9/15   | 185 |\n",
       "\n"
      ],
      "text/plain": [
       "  version                                     caseid weight    weight_spss form\n",
       "1 ANES 2018 Pilot Study main version 20190129 1      1.2555080 0.7286969   1   \n",
       "2 ANES 2018 Pilot Study main version 20190129 2      0.5694911 0.3305327   2   \n",
       "3 ANES 2018 Pilot Study main version 20190129 3      0.9720616 0.5641846   1   \n",
       "4 ANES 2018 Pilot Study main version 20190129 4      2.4500732 1.4220225   1   \n",
       "5 ANES 2018 Pilot Study main version 20190129 5      1.6348200 0.9488495   2   \n",
       "6 ANES 2018 Pilot Study main version 20190129 6      1.8184054 1.0554025   1   \n",
       "  follow addtime reg whenreg howreg ... rand_emp rand_climate rand_rural\n",
       "1 4      2       1    4      -1     ... 1        2            2         \n",
       "2 1      2       3   -1      -1     ... 2        1            1         \n",
       "3 4      3       3   -1      -1     ... 2        2            1         \n",
       "4 4      2       1    4      -1     ... 2        2            1         \n",
       "5 1      3       1    4      -1     ... 2        1            2         \n",
       "6 3      2       2    2       2     ... 1        2            1         \n",
       "  rand_pk rand_pid starttime           endtime             duration\n",
       "1 1       1        12/10/2018 18:34:11 12/10/2018 20:00:03  5152   \n",
       "2 0       2        12/10/2018 19:26:37 12/10/2018 19:53:12  1595   \n",
       "3 1       2        12/10/2018 19:48:44 12/10/2018 20:21:21  1957   \n",
       "4 0       1        12/10/2018 19:03:49 12/10/2018 19:21:08  1039   \n",
       "5 1       2        12/10/2018 18:28:14 12/10/2018 18:43:23   909   \n",
       "6 1       2        12/10/2018 23:58:17 12/11/2018 5:10:57  18760   \n",
       "  optintimestamp completes\n",
       "1 10/15/15        46      \n",
       "2 7/16/16         55      \n",
       "3 6/13/14          8      \n",
       "4 10/28/15        42      \n",
       "5 11/11/15        33      \n",
       "6 5/9/15         185      "
      ]
     },
     "metadata": {},
     "output_type": "display_data"
    }
   ],
   "source": [
    "data = get_data()\n",
    "head(data)"
   ]
  },
  {
   "cell_type": "code",
   "execution_count": 4,
   "metadata": {},
   "outputs": [
    {
     "data": {
      "text/html": [
       "2500"
      ],
      "text/latex": [
       "2500"
      ],
      "text/markdown": [
       "2500"
      ],
      "text/plain": [
       "[1] 2500"
      ]
     },
     "metadata": {},
     "output_type": "display_data"
    }
   ],
   "source": [
    "nrow(data)\n"
   ]
  },
  {
   "cell_type": "code",
   "execution_count": 5,
   "metadata": {},
   "outputs": [
    {
     "data": {
      "text/html": [
       "767"
      ],
      "text/latex": [
       "767"
      ],
      "text/markdown": [
       "767"
      ],
      "text/plain": [
       "[1] 767"
      ]
     },
     "metadata": {},
     "output_type": "display_data"
    }
   ],
   "source": [
    "ncol(data)\n"
   ]
  },
  {
   "cell_type": "code",
   "execution_count": 6,
   "metadata": {},
   "outputs": [
    {
     "data": {
      "text/html": [
       "767"
      ],
      "text/latex": [
       "767"
      ],
      "text/markdown": [
       "767"
      ],
      "text/plain": [
       "[1] 767"
      ]
     },
     "metadata": {},
     "output_type": "display_data"
    }
   ],
   "source": [
    "length(data)"
   ]
  },
  {
   "cell_type": "markdown",
   "metadata": {},
   "source": [
    "Data context: https://electionstudies.org/wp-content/uploads/2019/02/anes_pilot_2018_userguidecodebook.pdf \n",
    "\n",
    "Questionnaire: https://electionstudies.org/wp-content/uploads/2018/12/anes_pilot_2018_questionnaire.pdf"
   ]
  },
  {
   "cell_type": "markdown",
   "metadata": {},
   "source": [
    "## Filter Functions\n",
    "\n",
    "Here are some generic functions that help slice the data in convenient ways which can be used across all the research questions"
   ]
  },
  {
   "cell_type": "code",
   "execution_count": 7,
   "metadata": {},
   "outputs": [],
   "source": [
    "filter_skp = function(df, skp_prefix, skp_values) {\n",
    "    skp_col = paste(skp_prefix, \"_skp\", sep = \"\")\n",
    "    return (df %>% filter(df[, skp_col] %in% skp_values))\n",
    "}\n",
    "\n",
    "# Usage\n",
    "# x = filter_skp(data, \"ftpolice\", c(0,1))\n",
    "# nrow(x)"
   ]
  },
  {
   "cell_type": "code",
   "execution_count": 8,
   "metadata": {},
   "outputs": [],
   "source": [
    "filter_col = function(df, colname, colvalues) {\n",
    "    return (df %>% filter(df[, colname] %in% colvalues))\n",
    "}\n",
    "\n",
    "# Usage\n",
    "# x = filter_var(data, \"geangry\", c(1,2))\n",
    "# nrow(x)"
   ]
  },
  {
   "cell_type": "code",
   "execution_count": 9,
   "metadata": {},
   "outputs": [],
   "source": [
    "filter_timing = function(df, timing_prefix, time_threshold) {\n",
    "    timing_col = paste(timing_prefix, \"_page_timing\", sep= \"\")\n",
    "    return (df %>% filter(df[, timing_col] <= time_threshold))\n",
    "}\n",
    "\n",
    "# Usage\n",
    "# x = filter_timing(data, \"ftpolice\", 10)\n",
    "# nrow(x)\n",
    "# summary(x$ftpolice_page_timing)"
   ]
  },
  {
   "cell_type": "code",
   "execution_count": 10,
   "metadata": {},
   "outputs": [],
   "source": [
    "filter_honest = function(df, honest_vals) {\n",
    "    return (df %>% filter(df[, \"honest\"] %in% honest_vals))\n",
    "}\n",
    "\n",
    "#Freq. Numeric Label\n",
    "#37      1     Never\n",
    "#46      2     Some of the time\n",
    "#90      3     About half the time\n",
    "#215     4     Most of the time\n",
    "#2112    5     Always\n",
    "\n",
    "# Usage\n",
    "# x = filter_honest(data, c(1))\n",
    "# nrow(x)\n"
   ]
  },
  {
   "cell_type": "code",
   "execution_count": 11,
   "metadata": {},
   "outputs": [],
   "source": [
    "filter_nonserious = function(df, ns_vals) {\n",
    "    return (df %>% filter(df[, \"nonserious\"] %in% ns_vals))\n",
    "}\n",
    "\n",
    "#Freq. Numeric Label\n",
    "#2007    1     Never\n",
    "#157     2     Some of the time\n",
    "#109     3     About half the time\n",
    "#55      4     Most of the time\n",
    "#172     5     Always\n",
    "\n",
    "# Usage\n",
    "# x = filter_nonserious(data, c(1))\n",
    "# nrow(x)"
   ]
  },
  {
   "cell_type": "markdown",
   "metadata": {},
   "source": [
    "## Question 1: Do US voters have more respect for the police or for journalists?\n",
    "\n",
    "### Introduce your topic briefly. (5 points)\n",
    "Will need to use ftpolice (How would you rate the police?) and ftjournal (How would you rate journalists?)\n",
    "\n",
    "These are measured on a thermal scale (ordinal) from 0 to 100. The variables capturing the rating are:\n",
    "1. ftpolice_therm for ftpolice\n",
    "2. ftjournal_therm for ftjournal\n",
    "\n",
    "The key assumption we're making here is that these ratings (ftpolice and ftjournal) are being used to measure \"respect levels\" for these professions. This is a reasonable assumption given that there are no other variables to capture this sentiment.\n",
    "\n",
    "Its important to call out the ordinal nature of the scale and how a value of 55 for respondent 1 may differ from the same value of 55 for respondent 2. In other words, **the same score for a group (say police) may have different meanings for different respondents.**\n",
    "\n",
    "However, the score of ftpolice = 90 and ftjournal = 55 for a particular respondent shows that the respondent in question has more respect for police than journalists. In other words, **different scores for the same respondent on the 2 groups have comparable interpretation.** \n",
    "\n",
    "Hence, the data captured is in pairs. For each respondent, we have 2 scores and we can compare these scores to form proportions of voters that like the police vs journalists.\n",
    "\n",
    "### Perform an exploratory data analysis (EDA) of the relevant variables. (5 points)\n",
    " \n",
    "There are certain variables of interest along which we can slice the number of respondents we consider in the test:\n",
    "\n",
    "First we create a base data set (called q1_data):\n",
    "\n",
    "**1. honest** <br/>\n",
    "This represents respondents who answered the survey honestly. To get reliable results, **we will only consider respondents who are honest for this question.** It is important that we consider responses where people feel honest when answering questions regarding respect for professionals in police vs journalism.\n",
    "\n",
    "**2. ftpolice_page_timing and ftjournal_page_timing** <br/>\n",
    "This represents the time taken for a respondent to answer the corresponding questions (ftpolice and ftjournal). The reason why this may have been potentially interesting is because if a respondent takes too long to answer the question, then he / she maynot be sure about how they feel about the police / journalists. The 90th percentile for each variable seems to be within 12 seconds, which seems like a reasonable time to answer the question \"without hestitation\". **We will further explore this variable and discard responses > (say) 30 seconds.**\n",
    "\n",
    "**3. nonserious** <br/>\n",
    "This represents respondents who had degrees of nonserious-ness in the survey. **We will consider respondents who have values for nonserious=[1,2,3] as our entire population.** We want only serious candidates to be considered when answering a question like this. \n",
    "\n",
    "Next, we consider further slicing our base data set (q1_data) based on certain attributes:\n",
    "\n",
    "**1. ftpolice_skp and ftjournal_skp** <br/>\n",
    "This represents the variable where a candidate was asked a question, but decided to skip the question the first time around. This may reveal the hesitant nature of the respondent to answer the question directly. Hence, we will check the percentage of our base data set to determine how many respondents skipped these questions. If this distribution is fairly large, we will consider doing 2 sets of tests (where skp=0 vs considering all skp values).\n",
    "\n",
    "**2. nonserious** <br/>\n",
    "We will check what percentage of the base data set population is very serious (ie, nonserious=1) and will make a decision to further conduct a separate test with only a very serious population (or not).\n"
   ]
  },
  {
   "cell_type": "code",
   "execution_count": null,
   "metadata": {},
   "outputs": [],
   "source": [
    "# EDA for ftpolice_page_timing\n",
    "d = get_data()\n",
    "paste(\"Summary for ftpolice_page_timing\")\n",
    "summary(d$ftpolice_page_timing)\n",
    "\n",
    "paste(\"Number of ftpolice_page_timing > 30 seconds\")\n",
    "nrow(d[d$ftpolice_page_timing > 30,])\n",
    "# note that we will remove the 33 rows that are > 30 seconds in response time"
   ]
  },
  {
   "cell_type": "code",
   "execution_count": null,
   "metadata": {},
   "outputs": [],
   "source": [
    "# EDA for ftjournal_page_timing\n",
    "paste(\"Summary for ftjournal_page_timing\")\n",
    "summary(d$ftjournal_page_timing)\n",
    "\n",
    "paste(\"Number of ftjournal_page_timing >= 30 seconds\")\n",
    "nrow(d[d$ftjournal_page_timing > 30,])\n",
    "# note that we will remove the 29 rows that are > 30 seconds in response time"
   ]
  },
  {
   "cell_type": "code",
   "execution_count": null,
   "metadata": {},
   "outputs": [],
   "source": [
    "# EDA for honest\n",
    "paste(\"Summary for honest\")\n",
    "summary(d$honest)\n",
    "\n",
    "paste(\"Percentage of always honest respondents\")\n",
    "as.numeric(nrow(d[d$honest == 5,]) / nrow(d)) * 100\n",
    "\n",
    "hist(d$honest, main = \"Histogram of Honest variable\", xlab = \"Honest label\", col = \"lightblue\", border = \"black\")"
   ]
  },
  {
   "cell_type": "code",
   "execution_count": null,
   "metadata": {},
   "outputs": [],
   "source": [
    "# EDA for nonserious\n",
    "paste(\"Summary for nonserious\")\n",
    "summary(d$nonserious)\n",
    "\n",
    "paste(\"Percentage of nonserious=[1,2,3] respondents\")\n",
    "as.numeric(nrow(d[d$nonserious %in%  c(1,2,3),]) / nrow(d)) * 100\n",
    "\n",
    "hist(d$nonserious, main = \"Histogram of Nonserious variable\", xlab = \"Nonserious label\", col = \"lightblue\", border = \"black\")"
   ]
  },
  {
   "cell_type": "markdown",
   "metadata": {},
   "source": [
    "#### Let's construct our base data set (q1_data)"
   ]
  },
  {
   "cell_type": "code",
   "execution_count": null,
   "metadata": {},
   "outputs": [],
   "source": [
    "# create base data set \n",
    "q1_data = get_data()\n",
    "\n",
    "# consider only \"always honest\" respondents \n",
    "q1_data = filter_honest(q1_data, c(5))\n",
    "\n",
    "# consider respondents with _page_timing less than equal to 30 seconds\n",
    "q1_data = filter_timing(q1_data, \"ftpolice\", 30)\n",
    "q1_data = filter_timing(q1_data, \"ftjournal\", 30)\n",
    "\n",
    "# consider only respondents with nonseriousness levels 1,2,3 \n",
    "q1_data = filter_nonserious(q1_data, c(1,2,3))\n",
    "\n",
    "nrow(q1_data)"
   ]
  },
  {
   "cell_type": "code",
   "execution_count": null,
   "metadata": {},
   "outputs": [],
   "source": [
    "# We further slice our data on the basis of very serious vs our population of serious [1,2,3] respondents\n",
    "q1_data_serious = filter_nonserious(q1_data, c(1))\n",
    "nrow(q1_data_serious)/nrow(q1_data) * 100"
   ]
  },
  {
   "cell_type": "markdown",
   "metadata": {},
   "source": [
    "#### We notice that the very serious (nonserious=1) population is a large portion of the data we are working with.  So we will decide NOT to conduct separate tests for very serious (nonserious=1) vs semi serious (nonserious=[1,2,3]) "
   ]
  },
  {
   "cell_type": "code",
   "execution_count": null,
   "metadata": {},
   "outputs": [],
   "source": [
    "# we further investigate the ftpolice_skp and ftjournal_skp variables\n",
    "\n",
    "# EDA for ftpolice_skp\n",
    "paste(\"Summary for ftpolice_skp\")\n",
    "summary(q1_data$ftpolice_skp)\n",
    "\n",
    "paste(\"Percentage of non-zero ftpolice_skp\")\n",
    "as.numeric(nrow(q1_data[q1_data$ftpolice_skp %in%  c(1),]) / nrow(q1_data)) * 100\n",
    "# < 1% of the respondents chose to skip the ftpolice question. This shows the respondents are not hesitant!\n",
    "\n",
    "# EDA for ftjournal_skp\n",
    "paste(\"Summary for ftjournal_skp\")\n",
    "summary(q1_data$ftjournal_skp)\n",
    "\n",
    "paste(\"Percentage of non-zero ftjournal_skp\")\n",
    "as.numeric(nrow(q1_data[q1_data$ftjournal_skp %in%  c(1,2),]) / nrow(q1_data)) * 100\n",
    "# < 1% of the respondents chose to skip the ftjournal question. This shows the respondents are not hesitant!"
   ]
  },
  {
   "cell_type": "markdown",
   "metadata": {},
   "source": [
    "#### We conclude that there were very few (< 1%) of respondents from our base data set that chose to skip the ftpolice or ftjournal question. So we will NOT conduct further tests based on skp=0 vs all skp."
   ]
  },
  {
   "cell_type": "markdown",
   "metadata": {},
   "source": [
    "#### Basic Analysis of ftpolice and ftjournal"
   ]
  },
  {
   "cell_type": "code",
   "execution_count": null,
   "metadata": {},
   "outputs": [],
   "source": [
    "paste(\"Summary for ftpolice\")\n",
    "summary(q1_data$ftpolice)\n",
    "\n",
    "paste(\"Unique values for ftpolice\")\n",
    "unique(q1_data$ftpolice)\n",
    "# we observe there are no \"invalid\" values (negative values, values outside of 0-100)\n",
    "\n",
    "hist(q1_data$ftpolice, xlab = \"ftpolice score\", main = \"Histogram of ftpolice\", col = \"lightblue\", border = \"black\")"
   ]
  },
  {
   "cell_type": "markdown",
   "metadata": {},
   "source": [
    "#### Due to the ordinal and likert nature of the ftpolice score, we cannot construct any distribution of the variable. \n",
    "#### However, we notice a skewness in high respect for police based on the histogram.  "
   ]
  },
  {
   "cell_type": "code",
   "execution_count": null,
   "metadata": {},
   "outputs": [],
   "source": [
    "paste(\"Summary for ftjournal\")\n",
    "summary(q1_data$ftjournal)\n",
    "\n",
    "paste(\"Unique values for ftjournal\")\n",
    "unique(q1_data$ftjournal)\n",
    "# we observe there are negative values for ftjournal, which is also evident from the histogram\n",
    "\n",
    "hist(q1_data$ftjournal, xlab = \"ftjournal score\", main = \"Histogram of ftjournal\", col = \"lightblue\", border = \"black\")\n"
   ]
  },
  {
   "cell_type": "markdown",
   "metadata": {},
   "source": [
    "#### Due to the ordinal and likert nature of the ftjournal score, we cannot construct any distribution of the variable. \n",
    "#### However, we notice an almost bi-modal nature in ftjournal score - people are divided on their respect levels for journalists  "
   ]
  },
  {
   "cell_type": "code",
   "execution_count": null,
   "metadata": {},
   "outputs": [],
   "source": [
    "# we notice there are values for ftjournal < 0, so we need to remove these rows as they are missing values\n",
    "paste(\"ftjournal scores less than 0\")\n",
    "nrow(q1_data[q1_data$ftjournal < 0,])\n",
    "\n",
    "paste(\"ftjournal scores >= 0\")\n",
    "q1_data = q1_data[q1_data$ftjournal >= 0,]\n",
    "nrow(q1_data)"
   ]
  },
  {
   "cell_type": "code",
   "execution_count": null,
   "metadata": {},
   "outputs": [],
   "source": [
    "# sanity check on having the right values for our tests\n",
    "nrow(q1_data[q1_data$ftjournal >= 0 & q1_data$ftpolice >= 0,]) == nrow(q1_data)\n",
    "nrow(q1_data[q1_data$ftjournal <= 100 & q1_data$ftpolice <= 100,]) == nrow(q1_data)"
   ]
  },
  {
   "cell_type": "markdown",
   "metadata": {},
   "source": [
    "### Based on your EDA, select an appropriate hypothesis test. (5 points)"
   ]
  },
  {
   "cell_type": "markdown",
   "metadata": {},
   "source": [
    "Few observations:\n",
    "\n",
    "1. The measurements are likert variables, we cannot say that the difference between 5 and 6 is the same between 89 and 90. These are NOT metric values.\n",
    "2. Having said that, a score of 89 is more favorable than a score of 5 **(ordinal behavior)**.\n",
    "3. However, these are **comparable in measurement across groups** because they are measured on the SAME scale and measured against the SAME audience.\n",
    "4. The distribution of both ftpolice and ftjournal cannot be determined due to likert nature. **So we will have to use \"non parametric tests\"**.\n",
    "5. Note that we are NOT interested in \"how much more\" do US voters respect police vs journalists. We are interested in \"which group is respected more\". Specifically, **we are interested in the sign of the test** where the sign indicates which side US voters respect more. Note that because we use non-parametric signed tests, we are throwing out information of the likert scale.\n",
    "6. These are **paired measurements against the same individual across 2 groups** - journalists and policemen.\n",
    "7. Notice sample size is large, n > 40.\n",
    "8. Hence, we will conduct a paired non parametric test, specifically, the **Signed test for Dependent Samples**\n",
    "9. We **could have performed a Wilcoxon Signed-Rank test for paired data**, but that will answer the question - \"How much more / less are the police respected compared to journalists by US Voters?\" **if we could subtract these therm variables**. That answers a different question from the one being asked, although it would have more statistical power than the signed test. \n",
    "\n",
    "Assumptions:\n",
    "\n",
    "1. We can assume as per instructions in the lab that each pair of ftpolice and ftjournal, say (p, j) are IID from every other pair.\n",
    "2. We do have an ordinal scale for measurement (0 to 100 therm scale)\n",
    "\n",
    "Consequence:\n",
    "1. Because we are throwing away all our likert information, we **lose some statistical power with the signed test.**\n",
    "\n",
    "Hypothesis:\n",
    "\n",
    "1. Let plus = number of total events of seeing ftpolice > ftjournal\n",
    "2. Let minus = number of total events of seeing ftpolice < ftjournal\n",
    "3. Here, plus ~ Binomial(n, 0.5)\n",
    "\n",
    "**Ho: Prob(plus) = Prob(minus)**\n",
    "\n",
    "**Ha: Prob(plus) != Prob(minus)**"
   ]
  },
  {
   "cell_type": "markdown",
   "metadata": {},
   "source": [
    "### Conduct your test. (5 points)"
   ]
  },
  {
   "cell_type": "code",
   "execution_count": null,
   "metadata": {},
   "outputs": [],
   "source": [
    "equal_hat = nrow(q1_data[q1_data$ftpolice == q1_data$ftjournal,])\n",
    "plus_hat = nrow(q1_data[q1_data$ftpolice > q1_data$ftjournal,])\n",
    "minus_hat = nrow(q1_data[q1_data$ftpolice < q1_data$ftjournal,])\n",
    "total_hat = as.numeric(equal_hat + plus_hat + minus_hat)\n",
    "# ignore equal scores of ftjournal and ftpolice for binomial test\n",
    "n = total_hat - equal_hat\n",
    "\n",
    "paste(\"ftpolice == ftjournal:\", equal_hat)\n",
    "paste(\"ftpolice > ftjournal:\", plus_hat)\n",
    "paste(\"ftpolice < ftjournal:\", minus_hat)\n",
    "paste(\"total:\", total_hat)\n",
    "paste(\"total - equal:\", n)\n",
    "\n",
    "# binomial test\n",
    "p = 0.5\n",
    "mean = n * p\n",
    "threshold = abs(plus_hat - mean)\n",
    "paste(\"The mean:\", mean)\n",
    "paste(\"The threshold:\", threshold)\n",
    "# p value is prob that |plus - mean| >= threshold\n",
    "# to find p value\n",
    "# P(plus - 910.5 >= 122.5) and P(910.5 - plus >= 122.5)\n",
    "# P(plus >= 1033) and P(plus <= 788)\n",
    "\n",
    "binom.test(x = c(plus_hat, minus_hat), n, p = 0.5, alternative = c(\"two.sided\"), conf.level = 0.95)"
   ]
  },
  {
   "cell_type": "markdown",
   "metadata": {},
   "source": [
    "#### The above shows that we reject the null hypothesis as the p value is very small at 5% level of significance. We see that probabilities of the number of successes in the 2 groups is NOT equal.\n",
    "\n",
    "#### We see probability of success is around 56%. This implies that the US voters do like policemen more than journalists."
   ]
  },
  {
   "cell_type": "code",
   "execution_count": null,
   "metadata": {},
   "outputs": [],
   "source": [
    "# infact, if we did the test one sided, where the alternative is that \n",
    "# Prob(# fav. ftpolice scores) > Prob(# fav. ftjournal scores) \n",
    "binom.test(x = c(plus_hat, minus_hat), n, p = 0.5, alternative = c(\"greater\"), conf.level = 0.95)\n",
    "# this further shows that the alternative hypothesis is favorable, \n",
    "# where probability of police respect cases is more than probability of journalism respect cases"
   ]
  },
  {
   "cell_type": "markdown",
   "metadata": {},
   "source": [
    "**Effect Size For Signed Test**\n",
    "\n",
    "1. We can think of the proportion of police population as the effect size\n",
    "2. We can also think of (plus_hat - minus_hat) / n as the effect size\n",
    "3. Since n is large, the effect size is actually significant\n"
   ]
  },
  {
   "cell_type": "code",
   "execution_count": null,
   "metadata": {},
   "outputs": [],
   "source": [
    "plus_hat/n"
   ]
  },
  {
   "cell_type": "code",
   "execution_count": null,
   "metadata": {},
   "outputs": [],
   "source": [
    "(plus_hat - minus_hat)/n"
   ]
  },
  {
   "cell_type": "markdown",
   "metadata": {},
   "source": [
    "#### We can conclude that there is a real difference between the respect levels for police vs journalists. US voters respect the police more!"
   ]
  },
  {
   "cell_type": "markdown",
   "metadata": {},
   "source": [
    "## Question 2: Are Republican voters older or younger than Democratic voters?"
   ]
  },
  {
   "cell_type": "markdown",
   "metadata": {},
   "source": [
    "### Introduce your topic briefly.  (5 points)\n"
   ]
  },
  {
   "cell_type": "markdown",
   "metadata": {},
   "source": [
    "#### Variables operationized\n",
    "There are four variables I am using to validate the hypothesis that Republican voters are younger than Democrat voters\n",
    "<dl>\n",
    "  <dt>honest</dt>\n",
    "  <dd><em>Question: </em>\"How often would you say you answered the questions honestly on this survey.\"\n",
    "  <br>The range of responses are 1-5 which corelate from Never - Always. I have restricted the observations to only those who answer <em>always (5)</em></dd>\n",
    "  <br>\n",
    "  <dt>pid1r</dt>\n",
    "  <dd><em>Question: </em>\"Generally speaking, do you usually think of yourself as a Republican, a Democrat, an\n",
    "independent, or what?\"</dd>\n",
    "  <br>  \n",
    "  <dt>pid1d</dt>\n",
    "  <dd><em>Question: </em>\"Generally speaking, do you usually think of yourself as a Democrat, a Republican, an\n",
    "independent, or what?\"<br>\n",
    "      As you can see this is essentially the same question with the just the <em>order</em> of the party name changed. The two responses I am interested in are 1 or 2. This corresponds to the first or second party mentioned in the questions\n",
    "  </dd>\n",
    "  <br>\n",
    "    \n",
    "  <dt>birthyr</dt>\n",
    "  <dd><em>Question: </em>“In what year were you born?”<br>\n",
    "      The response to this question was the year of birth. Since this survey was taken in 2018, for calculation of age, to determine age, we used:\n",
    "      \n",
    "```python\n",
    "2018 - birthyr \n",
    "```\n",
    "  </dd>\n",
    "  <dt>Gaps</dt>\n",
    "  <dd>1. There is an assumption that a \"Republican voter\" (i.e. someone who voted for the Republican candidate) also identfies as a Republican, and similarly for Democrat voter. It is quite likely that many who identify with one party, can vote for another party</dd>\n",
    "  <br>\n",
    "    <dd>2. There is another variable <em>nonserious</em> that while interesting, brought with it social implications that were beyond the scope for this exercise and I decided to ignore that variable</dd>\n",
    "    \n",
    "</dl>"
   ]
  },
  {
   "cell_type": "markdown",
   "metadata": {},
   "source": [
    "### Perform an exploratory data analysis (EDA) of the relevant variables. (5 points)"
   ]
  },
  {
   "cell_type": "code",
   "execution_count": null,
   "metadata": {},
   "outputs": [],
   "source": [
    "data = read.csv( \"anes_pilot_2018.csv\")\n",
    "# apply honestly filter\n",
    "hon_respondents = data[data$honest == 5,]\n",
    "paste(cat(\"Number of honest respondents: :\", nrow(hon_respondents)))\n",
    "\n",
    "honest.code <- c(Never=1, `Some of the time`=2, `Half of the time`=3, `Most of the time`=4,  Always=5)\n",
    "h_responses = names(honest.code)[match(data$honest, honest.code)]\n",
    "paste(cat(\"First 6 reponses in honest variable are:\",\"\\n\",head(h_responses)))\n",
    "\n",
    "pid1d.code <- c( Democrat=1, Republican=2, independent=3, 'something else'=4)\n",
    "pid1r.code <- c( Republican=1, Democrat=2, independent=3, 'something else'=4)\n",
    "p1did_responses = names(pid1d.code)[match(data$pid1d, pid1d.code)]\n",
    "p1dir_responses = names(pid1r.code)[match(data$pid1r, pid1r.code)]\n",
    "\n",
    "paste(cat(\"First 6 reponses in pid1d are: \", head(p1did_responses)))\n",
    "paste(cat(\"First 6 reponses in pid1r are:\", head(p1dir_responses)))\n",
    "paste(cat(\"Ages of first 6 respondents calculated to be: \", head(2018-data[, c(\"birthyr\")])))"
   ]
  },
  {
   "cell_type": "markdown",
   "metadata": {},
   "source": [
    "### Based on your EDA, select an appropriate hypothesis test.  (5 points)"
   ]
  },
  {
   "cell_type": "code",
   "execution_count": null,
   "metadata": {},
   "outputs": [],
   "source": [
    "all_honest_reps = rbind(data[data$pid1r==1 & data$honest==5,], data[data$pid1d==2 & data$honest==5,])\n",
    "all_honest_dems = rbind(data[data$pid1r==2 & data$honest==5,], data[data$pid1d==1 & data$honest==5,])\n",
    "paste(cat(\"Number of observerations or Republicans: \", nrow(all_honest_reps)))\n",
    "paste(cat(\"Number of observerations or Democrats: \", nrow(all_honest_dems)))\n",
    "\n",
    "\n",
    "ages_of_reps = 2018-all_honest_reps[,c('birthyr')]\n",
    "ages_of_dems = 2018-all_honest_dems[,c('birthyr')]\n",
    "hist(ages_of_reps, col=\"red\")\n",
    "hist(ages_of_dems, col=\"blue\")\n"
   ]
  },
  {
   "cell_type": "markdown",
   "metadata": {},
   "source": [
    "Since the data are normally distributed, we can use a parametric test and since we are comparing the means of two samples, we can use the Welches Two Sample t-test (IOW, \"unpaired\" or \"independent samples\" t-test)\n",
    "\n",
    "H0: There is no significant difference between the mean of the ages of democrats vs republicans\n",
    "\n",
    "HA: The mean of the ages of one of the groups is significantly higher than the other"
   ]
  },
  {
   "cell_type": "markdown",
   "metadata": {},
   "source": [
    "### Conduct your test. (5 points)"
   ]
  },
  {
   "cell_type": "code",
   "execution_count": null,
   "metadata": {},
   "outputs": [],
   "source": [
    "t.test(ages_of_dems, ages_of_reps, alternative = \"two.sided\", 0, paired = FALSE, var.equal = FALSE )"
   ]
  },
  {
   "cell_type": "markdown",
   "metadata": {},
   "source": [
    "Based on this test, we can say with 95% confidence that there is no significant difference between the means of the ages of the Republican voters and the Democratic voters\n",
    "\n",
    "The manimum difference of the mean can be as low as -2.40 or has high as 1.19.\n",
    "\n",
    "The sample means are 52.33 for republicans and 52.92 for democrats.\n",
    "    \n",
    "Based on this we <em>do not have enough evidence to reject the null hypothesis</em> that there is no difference between the means.\n",
    "\n"
   ]
  },
  {
   "cell_type": "code",
   "execution_count": null,
   "metadata": {},
   "outputs": [],
   "source": [
    "cohen.d(ages_of_dems, ages_of_reps)"
   ]
  },
  {
   "cell_type": "markdown",
   "metadata": {},
   "source": [
    "The CohensD test returns an estimate of 0.036 which indicates that the effect is negligible "
   ]
  },
  {
   "cell_type": "code",
   "execution_count": null,
   "metadata": {},
   "outputs": [],
   "source": []
  },
  {
   "cell_type": "markdown",
   "metadata": {},
   "source": [
    "## Question 3: Do a majority of independent voters believe that the federal investigations of Russian election interference are baseless?"
   ]
  },
  {
   "cell_type": "markdown",
   "metadata": {},
   "source": [
    "### Introduce your topic briefly.  (5 points)"
   ]
  },
  {
   "cell_type": "markdown",
   "metadata": {},
   "source": [
    "Explain how your variables are operationalized. Comment on any gaps that you can identify between your operational definitions and the concepts you are trying to study."
   ]
  },
  {
   "cell_type": "markdown",
   "metadata": {},
   "source": [
    "#### Variables operationized\n",
    "There are seven variables I am using to validate the hypothesis that the federal investigations of Russian election interference are baseless.\n",
    "<dl>\n",
    "  <dt>honest</dt>\n",
    "  <dd><em>Question: </em>\"How often would you say you answered the questions honestly on this survey.\"\n",
    "  <br>The range of responses are 1-5 which corelate from Never - Always. I have restricted the observations to remove those who answered <em>Never (1)</em></dd>\n",
    "  <br>\n",
    "    \n",
    "  <dt>nonserious</dt>\n",
    "  <dd><em>Question: </em>\"We sometimes find people don't always take surveys seriously, instead providing funny or\n",
    "insincere answers. How often would you say that you were not serious in answering\n",
    "questions on this survey?\"\n",
    "  <br>The range of responses are 1-5 which corelate from Never - Always. I have restricted the observations to remove those who answered <em>Always (5)</em></dd>\n",
    "  <br>\n",
    "  \n",
    "  <dt>pid1r</dt>\n",
    "  <dd><em>Question: </em>\"Generally speaking, do you usually think of yourself as a Republican, a Democrat, an\n",
    "independent, or what?\"</dd>\n",
    "  <br>  \n",
    "  <dt>pid1d</dt>\n",
    "  <dd><em>Question: </em>\"Generally speaking, do you usually think of yourself as a Democrat, a Republican, an\n",
    "independent, or what?\"<br>\n",
    "      As you can see this is essentially the same question with the just the <em>order</em> of the party name changed. The response I am interested is for both questions is 3 i.e. Independent.\n",
    "  </dd>\n",
    "  <br>\n",
    "  \n",
    "   <dt>pid7x</dt>\n",
    "  <dd><em>Question: </em>\"Party ID summary\"\n",
    "  <br>The range of responses are from -7 to 7. I have restricted the observations to include those who answered <em>Independent (4)</em></dd>\n",
    "  <br>  \n",
    "    \n",
    "   <dt>russia16</dt>\n",
    "  <dd><em>Question: </em>\"Do you think the Russian government probably interfered in the 2016 presidential election\n",
    "to try to help Donald Trump win, or do you think this probably did not happen?\"\n",
    "  <br>I am checking their view on Russia's involvement, on the sample set I got from above 5 variables<em>This probably did not happen(2)</em></dd>\n",
    "  <br>\n",
    "  \n",
    "  <dt>coord16</dt>\n",
    "  <dd><em>Question: </em>\"Do you think Donald Trump’s 2016 campaign probably coordinated with the Russians, or do\n",
    "you think his campaign probably did not do this?\"\n",
    "  <br>I am checking their view on Russia's involvement, on the sample set I got from first 5 variables <em>Probably did not (2)</em></dd>\n",
    "  <br>\n",
    "    \n",
    " \n",
    "  <dt>Gaps</dt>\n",
    "  <dd>1. There is an assumption that a \"Independent voter\" (i.e. someone who is neither Republican nor Democrat) is indeed Independent and doesn't have bias in his opinion. </dd>\n",
    "  <br>\n",
    "    <dd>2. The variables <em>honest</em> and <em>nonserious</em> are both very subjective to people. We are including people in our sample space who might or might not be honest/nonserious. We have only neglected the people who were clear they didn't take the questionaire seriousloy.</dd>\n",
    "    \n",
    "</dl>"
   ]
  },
  {
   "cell_type": "markdown",
   "metadata": {},
   "source": [
    "### Perform an exploratory data analysis (EDA) of the relevant variables. (5 points)"
   ]
  },
  {
   "cell_type": "code",
   "execution_count": null,
   "metadata": {},
   "outputs": [],
   "source": [
    "#For mutate\n",
    "library(dplyr)\n",
    "#For cohend\n",
    "library(effsize)\n",
    "#For test\n",
    "library(BSDA)\n",
    "\n",
    "I = read.csv(\"/Users/hmpatel/Desktop/prepare/AIML/MIDS/W203 Statistics/lab2/anes_pilot_2018.csv\")\n",
    "\n",
    "unique(I$russia16)\n",
    "unique(I$coord16)\n",
    "\n",
    "#Replace -7 with 0 and create two new columns \n",
    "I_n <- mutate(\n",
    "  I, russia16_n = as.numeric(ifelse(substr(I$russia16,0,1) == \"-\", 0, substr(I$russia16,0,1))),\n",
    "  coord16_n = as.numeric(ifelse(substr(I$coord16,0,1) == \"-\", 0, substr(I$coord16,0,1))))\n",
    "\n",
    "# Checking all 3 tags and finding the Independent voters. Tried finding common of all 3, but found no one \n",
    "I_n_2 <- mutate(subset(I_n,substr(pid7x,0,1) == '4' | substr(pid1d,0,1) == '3' | substr(pid1r,0,1) == '3' , \n",
    "         select = c(pid7x,pid1d,pid1r,russia16_n,coord16_n)), indep_voters = 'Independent')\n",
    "\n",
    "#Checking honesty and seriousness as well and who didnt skip answer about Russia involvement question\n",
    "I_n_3 <- mutate(subset(I_n,(substr(pid7x,0,1) == '4' | substr(pid1d,0,1) == '3' | substr(pid1r,0,1) == '3') & \n",
    "        (honest != '1' & nonserious != '5') & (russia16_n != '0' & coord16_n != '0'), \n",
    "        select = c(pid7x,pid1d,pid1r,russia16_n,coord16_n, honest, nonserious)), indep_voters = 'Independent')\n",
    "\n",
    "c(mean(I_n_3$russia16_n), mean(I_n_3$coord16_n))\n",
    "summary(I_n_3$russia16_n)\n",
    "summary(I_n_3$coord16_n)\n",
    "I_n_4 <- I_n_3\n",
    "I_n_4$russ_view <- ifelse((I_n_3$russia16_n == '2' | I_n_3$coord16_n == '2'), 1, 0)\n",
    "\n",
    "I_n_4"
   ]
  },
  {
   "cell_type": "markdown",
   "metadata": {},
   "source": [
    "### Based on your EDA, select an appropriate hypothesis test.  (5 points)"
   ]
  },
  {
   "cell_type": "markdown",
   "metadata": {},
   "source": [
    "\n",
    "Hpothesis:\n",
    "\n",
    "Do a majority of independent voters believe that the federal investigations of Russian election interference are baseless\n",
    "\n",
    "Let R1 = Number of Independent voters believe Russia was not involved\n",
    "\n",
    "Let R2 = Number of Independent voters believe Russia was involved\n",
    "\n",
    "H0 = Null hypothesis, R1 = R2\n",
    "\n",
    "Ha = Alternative hypothesis, R1 not equal R2 \n",
    "\n",
    "(We can check if R1 > R2 or R2 > R1 later using 1 tailed test)\n",
    "\n"
   ]
  },
  {
   "cell_type": "code",
   "execution_count": null,
   "metadata": {},
   "outputs": [],
   "source": [
    "n <- length(I_n_4$russ_view)\n",
    "plus_hat = nrow(I_n_4[I_n_4$russ_view == 1,])\n",
    "minus_hat = nrow(I_n_4[I_n_4$russ_view == 0,])\n",
    "\n",
    "plus_hat\n",
    "minus_hat\n",
    "\n",
    "#We can do a z.test here with mu=0.5 but since the russ_view is a Binamial experiment here, \n",
    "#we can use the binom.test which is even more accurate."
   ]
  },
  {
   "cell_type": "markdown",
   "metadata": {},
   "source": [
    "### Conduct your test. (5 points)"
   ]
  },
  {
   "cell_type": "code",
   "execution_count": null,
   "metadata": {},
   "outputs": [],
   "source": [
    "binom.test(x = c(plus_hat, minus_hat), n, p = 0.5, alternative = c(\"two.sided\"), conf.level = 0.95)"
   ]
  },
  {
   "cell_type": "markdown",
   "metadata": {},
   "source": [
    "Out of 811 Independent Voters, 431 believe that federal investigations of Russian election interference are baseless.\n",
    "\n",
    "P-value is 0.079 >0.05 which implies we fail to reject the Null Hypothesis \n",
    "\n",
    "We dont have enough statistical significance to say that a majority of Independent voters beleive that\n",
    "the federal investigations of Russian election interference are baseless\n",
    "\n"
   ]
  },
  {
   "cell_type": "code",
   "execution_count": null,
   "metadata": {},
   "outputs": [],
   "source": [
    "#cohend test\n",
    "#Yet to do"
   ]
  },
  {
   "cell_type": "markdown",
   "metadata": {},
   "source": [
    "## Question 4: Was anger or fear more effective at driving increases in voter turnout from 2016 to 2018?"
   ]
  },
  {
   "cell_type": "markdown",
   "metadata": {},
   "source": [
    "### Introduce your topic briefly.  (5 points)"
   ]
  },
  {
   "cell_type": "markdown",
   "metadata": {},
   "source": [
    "We need to use turnout18 and turnout16 as the variables to measure voter turnout in 2018 and 2016 respectively.\n",
    "\n",
    "**turnout18** <br/>\n",
    "In the election held on November 6, did you definitely vote in person on election day, vote in\n",
    "person before Nov 6, vote by mail, did you definitely not vote, or are you not completely sure\n",
    "whether you voted in that election?\n",
    "1. Definitely voted in person on Nov 6 (1)\n",
    "2. Definitely voted in person, before Nov 6 (2)\n",
    "3. Definitely voted by mail (3)\n",
    "4. Definitely did not vote (4)\n",
    "5. Not completely sure (5)\n",
    "\n",
    "A subset of these voters with turnout18=[1,2,3] are \"definitive voters\"\n",
    "\n",
    "**turnout16** <br/>\n",
    "In 2016, the major candidates for president were Donald Trump for the Republicans and\n",
    "Hillary Clinton for the Democrats. In that election, did you definitely vote, definitely not vote,\n",
    "or are you not completely sure whether you voted?\n",
    "\n",
    "1. Definitely voted (1)\n",
    "2. Definitely did not vote (2)\n",
    "3. Not completely sure (3)\n",
    "\n",
    "**Variables for Anger and Fear**\n",
    "\n",
    "These are all likert variables on a scale from 1-5, with 1=Never and 5=Always\n",
    "\n",
    "*Generally speaking, how do you feel about the way things are going in the country these days?*\n",
    "1. geangry\n",
    "2. geafraid\n",
    "\n",
    "*Think about Donald Trump. How often would you say you’ve felt each of the following ways because of the\n",
    "kind of person Donald Trump is or because of something he has done?* \n",
    "\n",
    "1. dtangry\n",
    "2. dtafraid\n",
    "\n",
    "Similar to question 1, we consider respondents who are always honest (5), and mostly serious (1,2,3). This is needed because we want to gauge additional feelings of \"anger\" and \"fear\" from the respondents. Its important that they answer to these feelings with honesty and sincerity, else we dont know if they were actually angry or fearful.\n",
    "\n",
    "Looking at the page_timing variables for turnout (turnout18_page_timing, turnout16_page_timing) and the skp variables for turnout (turnout18_skp and turnout16_skp) - we observe mostly everyone answered the question without skipping (few observations with skp=1) and very few took more than 20 seconds to answer the turnout questions. We will NOT seggregate tests based on these variables\n",
    "\n",
    "Assumption:\n",
    "\n",
    "While the meaning \"anger\" and \"fear\" variables may vary between respondents, but for a single respondent, the anger and fear measurement can be compared."
   ]
  },
  {
   "cell_type": "markdown",
   "metadata": {},
   "source": [
    "### Perform an exploratory data analysis (EDA) of the relevant variables. (5 points)"
   ]
  },
  {
   "cell_type": "markdown",
   "metadata": {},
   "source": [
    "If we do a preliminary analysis - how much more was the voter count in 2018 vs 2016, we observe"
   ]
  },
  {
   "cell_type": "code",
   "execution_count": 90,
   "metadata": {},
   "outputs": [
    {
     "data": {
      "text/html": [
       "115"
      ],
      "text/latex": [
       "115"
      ],
      "text/markdown": [
       "115"
      ],
      "text/plain": [
       "[1] 115"
      ]
     },
     "metadata": {},
     "output_type": "display_data"
    },
    {
     "data": {
      "text/html": [
       "1"
      ],
      "text/latex": [
       "1"
      ],
      "text/markdown": [
       "1"
      ],
      "text/plain": [
       "[1] 1"
      ]
     },
     "metadata": {},
     "output_type": "display_data"
    }
   ],
   "source": [
    "d = get_data()\n",
    "# consider definitive voters, turnout18=[1,2,3]\n",
    "# also consider respondents who are not sure if they voted in 2018, turnout18=5\n",
    "# consider respondents who have definitely voted in 2016, as per turnout16=1\n",
    "# This will give us the true voter turnout in 2016 and 2018\n",
    "d_v18 = filter_col(d, \"turnout18\", c(1,2,3,5))\n",
    "d_v16 = filter_col(d, \"turnout16\", c(1))\n",
    "nrow(d_v18) - nrow(d_v16)\n",
    "\n",
    "d_v18 = filter_col(d, \"turnout18\", c(1,2,3))\n",
    "nrow(d_v18) - nrow(d_v16)"
   ]
  },
  {
   "cell_type": "markdown",
   "metadata": {},
   "source": [
    "We observe there's not much of a difference in the turnout amongst people who definitely voted in 2018 vs 2016. **There was only 1 more vote amongst the \"definitive voters\". If we include the voters who are not sure if they voted in 2018, the difference is 115.** What happens if we re-do the analysis with filters like honesty and nonserious applied?"
   ]
  },
  {
   "cell_type": "code",
   "execution_count": 91,
   "metadata": {},
   "outputs": [
    {
     "data": {
      "text/html": [
       "19"
      ],
      "text/latex": [
       "19"
      ],
      "text/markdown": [
       "19"
      ],
      "text/plain": [
       "[1] 19"
      ]
     },
     "metadata": {},
     "output_type": "display_data"
    },
    {
     "data": {
      "text/html": [
       "-15"
      ],
      "text/latex": [
       "-15"
      ],
      "text/markdown": [
       "-15"
      ],
      "text/plain": [
       "[1] -15"
      ]
     },
     "metadata": {},
     "output_type": "display_data"
    }
   ],
   "source": [
    "d = get_data()\n",
    "d = filter_honest(d, c(5))\n",
    "d = filter_nonserious(d, c(1,2,3))\n",
    "d_v18 = filter_col(d, \"turnout18\", c(1,2,3,5))\n",
    "d_v16 = filter_col(d, \"turnout16\", c(1))\n",
    "nrow(d_v18) - nrow(d_v16)\n",
    "\n",
    "d_v18 = filter_col(d, \"turnout18\", c(1,2,3))\n",
    "nrow(d_v18) - nrow(d_v16)"
   ]
  },
  {
   "cell_type": "markdown",
   "metadata": {},
   "source": [
    "This shows that, overall, amongst honest and serious respondents, 19 more people voted in 2018 compared to 2016. If we only include definitive voters in 2018, we find more people voted in 2016 compared to 2018!"
   ]
  },
  {
   "cell_type": "markdown",
   "metadata": {},
   "source": [
    "Now we shift our focus to respondents who **didn't** vote in 2016, and **did** vote in 2018. The \"increase in participation from the respondents who didn't vote in 2016 and did vote in 2018\" is what the question asks for"
   ]
  },
  {
   "cell_type": "code",
   "execution_count": 92,
   "metadata": {},
   "outputs": [
    {
     "data": {
      "text/html": [
       "17.6300578034682"
      ],
      "text/latex": [
       "17.6300578034682"
      ],
      "text/markdown": [
       "17.6300578034682"
      ],
      "text/plain": [
       "[1] 17.63006"
      ]
     },
     "metadata": {},
     "output_type": "display_data"
    }
   ],
   "source": [
    "q4_data = get_data()\n",
    "q4_data = filter_honest(q4_data, c(5))\n",
    "q4_data = filter_nonserious(q4_data, c(1,2,3))\n",
    "# get non voters in 2016\n",
    "q4_data = filter_col(q4_data, \"turnout16\", c(2))\n",
    "q4_data_v16_not = q4_data\n",
    "\n",
    "# out of these non voters in 2016, what percentage voted in 2018?\n",
    "q4_data_v18_nv16 = filter_col(q4_data_v16_not, \"turnout18\", c(1,2,3))\n",
    "100 * nrow(q4_data_v18_nv16) / nrow(q4_data_v16_not)"
   ]
  },
  {
   "cell_type": "markdown",
   "metadata": {},
   "source": [
    "This shows that **17% of honest and serious respondents who didn't vote in 2016 ended up voting in 2018.** We are interested in what drove 17% of these non voters (2016) to vote in 2018. We explore this via our fear and anger variables."
   ]
  },
  {
   "cell_type": "code",
   "execution_count": 93,
   "metadata": {},
   "outputs": [],
   "source": [
    "# filter out any invalid responses for anger and fear\n",
    "q4_data_v18_nv16 = filter_col(q4_data_v18_nv16, \"geangry\", c(1,2,3,4,5))\n",
    "q4_data_v18_nv16 = filter_col(q4_data_v18_nv16, \"geafraid\", c(1,2,3,4,5))"
   ]
  },
  {
   "cell_type": "code",
   "execution_count": 94,
   "metadata": {},
   "outputs": [
    {
     "data": {
      "text/html": [
       "61"
      ],
      "text/latex": [
       "61"
      ],
      "text/markdown": [
       "61"
      ],
      "text/plain": [
       "[1] 61"
      ]
     },
     "metadata": {},
     "output_type": "display_data"
    }
   ],
   "source": [
    "nrow(q4_data_v18_nv16)"
   ]
  },
  {
   "cell_type": "markdown",
   "metadata": {},
   "source": [
    "There are 61 respondents (honest and serious) who didnt vote in 2016, but voted in 2018. Further analysis will be on these 61 voters "
   ]
  },
  {
   "cell_type": "code",
   "execution_count": 95,
   "metadata": {},
   "outputs": [
    {
     "data": {
      "text/plain": [
       "   Min. 1st Qu.  Median    Mean 3rd Qu.    Max. \n",
       "  1.000   2.000   3.000   2.836   4.000   5.000 "
      ]
     },
     "metadata": {},
     "output_type": "display_data"
    }
   ],
   "source": [
    "summary(q4_data_v18_nv16$geangry)"
   ]
  },
  {
   "cell_type": "code",
   "execution_count": 96,
   "metadata": {},
   "outputs": [
    {
     "data": {
      "text/plain": [
       "   Min. 1st Qu.  Median    Mean 3rd Qu.    Max. \n",
       "   1.00    2.00    3.00    2.82    4.00    5.00 "
      ]
     },
     "metadata": {},
     "output_type": "display_data"
    }
   ],
   "source": [
    "summary(q4_data_v18_nv16$geafraid)"
   ]
  },
  {
   "cell_type": "code",
   "execution_count": 100,
   "metadata": {},
   "outputs": [
    {
     "data": {
      "image/png": "[encoded data removed]",
      "text/plain": [
       "Plot with title \"Histogram of geangry variable\""
      ]
     },
     "metadata": {},
     "output_type": "display_data"
    },
    {
     "data": {
      "image/png": "[encoded data removed]",
      "text/plain": [
       "Plot with title \"Histogram of geafraid variable\""
      ]
     },
     "metadata": {},
     "output_type": "display_data"
    }
   ],
   "source": [
    "hist(q4_data_v18_nv16$geangry, main = \"Histogram of geangry variable\", xlab = \"Geangry label\", col = \"lightblue\", border = \"black\")\n",
    "# hist(q4_data_v18_nv16$dtangry, main = \"Histogram of dtangry variable\", xlab = \"Dtangry label\", col = \"lightblue\", border = \"black\")\n",
    "hist(q4_data_v18_nv16$geafraid, main = \"Histogram of geafraid variable\", xlab = \"Geafraid label\", col = \"lightblue\", border = \"black\")\n",
    "# hist(q4_data_v18_nv16$dtafraid, main = \"Histogram of dtafraid variable\", xlab = \"Dtafraid label\", col = \"lightblue\", border = \"black\")"
   ]
  },
  {
   "cell_type": "markdown",
   "metadata": {},
   "source": [
    "Unfortunately, we see several cases of \"-1\" (legitimate skip) response for the **dtangry and dtafraid** variables for these 61 respondents. So we will only use **geangry and geafraid** variables for measuring anger and fear in our analysis"
   ]
  },
  {
   "cell_type": "code",
   "execution_count": 101,
   "metadata": {},
   "outputs": [
    {
     "data": {
      "text/html": [
       "'Percentage of dtafraid where question was skipped'"
      ],
      "text/latex": [
       "'Percentage of dtafraid where question was skipped'"
      ],
      "text/markdown": [
       "'Percentage of dtafraid where question was skipped'"
      ],
      "text/plain": [
       "[1] \"Percentage of dtafraid where question was skipped\""
      ]
     },
     "metadata": {},
     "output_type": "display_data"
    },
    {
     "data": {
      "text/html": [
       "45.9016393442623"
      ],
      "text/latex": [
       "45.9016393442623"
      ],
      "text/markdown": [
       "45.9016393442623"
      ],
      "text/plain": [
       "[1] 45.90164"
      ]
     },
     "metadata": {},
     "output_type": "display_data"
    }
   ],
   "source": [
    "paste(\"Percentage of dtafraid where question was skipped\")\n",
    "100 * nrow(q4_data_v18_nv16[q4_data_v18_nv16$dtafraid == -1,]) / nrow(q4_data_v18_nv16)"
   ]
  },
  {
   "cell_type": "code",
   "execution_count": 102,
   "metadata": {},
   "outputs": [
    {
     "data": {
      "text/html": [
       "'Percentage of dtangry where question was skipped'"
      ],
      "text/latex": [
       "'Percentage of dtangry where question was skipped'"
      ],
      "text/markdown": [
       "'Percentage of dtangry where question was skipped'"
      ],
      "text/plain": [
       "[1] \"Percentage of dtangry where question was skipped\""
      ]
     },
     "metadata": {},
     "output_type": "display_data"
    },
    {
     "data": {
      "text/html": [
       "45.9016393442623"
      ],
      "text/latex": [
       "45.9016393442623"
      ],
      "text/markdown": [
       "45.9016393442623"
      ],
      "text/plain": [
       "[1] 45.90164"
      ]
     },
     "metadata": {},
     "output_type": "display_data"
    }
   ],
   "source": [
    "paste(\"Percentage of dtangry where question was skipped\")\n",
    "100 * nrow(q4_data_v18_nv16[q4_data_v18_nv16$dtangry == -1,]) / nrow(q4_data_v18_nv16)"
   ]
  },
  {
   "cell_type": "markdown",
   "metadata": {},
   "source": [
    "### Based on your EDA, select an appropriate hypothesis test. (5 points)"
   ]
  },
  {
   "cell_type": "markdown",
   "metadata": {},
   "source": [
    "Few observations:\n",
    "\n",
    "1. The measurements of fear and anger are likert variables. These are NOT metric values.\n",
    "2. However, these are **comparable in measurement across feelings** because they are measured on the SAME scale and measured against the SAME audience. So a score of geafraid=5 and geangry=1 will show that respondent is more afraid than angry.\n",
    "4. The distribution of both geafraid and geangry cannot be determined due to likert nature. **So we will have to use \"non parametric tests\"**.\n",
    "5. Note that we are NOT interested in \"how much more\" did anger or fear influence increase in voter turnout. We are interested in \"which feeling dominated the voter turnout increase in 2018\". Specifically, **we are interested in the sign of the test** where the sign indicates which feeling is dominant. Note that because we use non-parametric signed tests, we are throwing out information of the likert scale (how much feeling).\n",
    "6. These are **paired measurements against the same individual across 2 feelings** - geangry and geafraid.\n",
    "7. Notice sample size is large (61), so n > 40.\n",
    "8. Hence, we will conduct a paired non parametric test, specifically, the **Signed test for Dependent Samples**\n",
    "\n",
    "Assumptions:\n",
    "\n",
    "1. We can assume as per instructions in the lab that each pair of geafraid and geangry, say (afr, ang) are IID from every other pair.\n",
    "2. We do have an ordinal scale for measurement (0 to 5).\n",
    "\n",
    "Consequence:\n",
    "1. Because we are throwing away all our likert information, we **lose some statistical power with the signed test.**\n",
    "\n",
    "Hypothesis:\n",
    "\n",
    "1. Let plus = number of total events of seeing geangry > geafraid\n",
    "2. Let minus = number of total events of seeing geangry < geafraid\n",
    "3. Here, plus ~ Binomial(n, 0.5)\n",
    "\n",
    "**Ho: Prob(plus) = Prob(minus)**\n",
    "\n",
    "**Ha: Prob(plus) != Prob(minus)**\n",
    "\n",
    "**Note that we are answering the following question: Out of the voters who didn't vote in 2016, but did vote in 2018, was it fear or anger that motivated them to vote?**"
   ]
  },
  {
   "cell_type": "markdown",
   "metadata": {},
   "source": [
    "### Conduct your test. (5 points)"
   ]
  },
  {
   "cell_type": "code",
   "execution_count": 105,
   "metadata": {},
   "outputs": [
    {
     "data": {
      "text/html": [
       "'geangry == geafraid: 29'"
      ],
      "text/latex": [
       "'geangry == geafraid: 29'"
      ],
      "text/markdown": [
       "'geangry == geafraid: 29'"
      ],
      "text/plain": [
       "[1] \"geangry == geafraid: 29\""
      ]
     },
     "metadata": {},
     "output_type": "display_data"
    },
    {
     "data": {
      "text/html": [
       "'geangry &gt; geafraid: 16'"
      ],
      "text/latex": [
       "'geangry > geafraid: 16'"
      ],
      "text/markdown": [
       "'geangry &gt; geafraid: 16'"
      ],
      "text/plain": [
       "[1] \"geangry > geafraid: 16\""
      ]
     },
     "metadata": {},
     "output_type": "display_data"
    },
    {
     "data": {
      "text/html": [
       "'geangry &lt; geafraid: 16'"
      ],
      "text/latex": [
       "'geangry < geafraid: 16'"
      ],
      "text/markdown": [
       "'geangry &lt; geafraid: 16'"
      ],
      "text/plain": [
       "[1] \"geangry < geafraid: 16\""
      ]
     },
     "metadata": {},
     "output_type": "display_data"
    },
    {
     "data": {
      "text/html": [
       "'total: 61'"
      ],
      "text/latex": [
       "'total: 61'"
      ],
      "text/markdown": [
       "'total: 61'"
      ],
      "text/plain": [
       "[1] \"total: 61\""
      ]
     },
     "metadata": {},
     "output_type": "display_data"
    },
    {
     "data": {
      "text/html": [
       "'total - equal: 32'"
      ],
      "text/latex": [
       "'total - equal: 32'"
      ],
      "text/markdown": [
       "'total - equal: 32'"
      ],
      "text/plain": [
       "[1] \"total - equal: 32\""
      ]
     },
     "metadata": {},
     "output_type": "display_data"
    },
    {
     "data": {
      "text/html": [
       "'The mean: 16'"
      ],
      "text/latex": [
       "'The mean: 16'"
      ],
      "text/markdown": [
       "'The mean: 16'"
      ],
      "text/plain": [
       "[1] \"The mean: 16\""
      ]
     },
     "metadata": {},
     "output_type": "display_data"
    },
    {
     "data": {
      "text/html": [
       "'The threshold: 0'"
      ],
      "text/latex": [
       "'The threshold: 0'"
      ],
      "text/markdown": [
       "'The threshold: 0'"
      ],
      "text/plain": [
       "[1] \"The threshold: 0\""
      ]
     },
     "metadata": {},
     "output_type": "display_data"
    },
    {
     "data": {
      "text/plain": [
       "\n",
       "\tExact binomial test\n",
       "\n",
       "data:  c(plus_hat, minus_hat)\n",
       "number of successes = 16, number of trials = 32, p-value = 1\n",
       "alternative hypothesis: true probability of success is not equal to 0.5\n",
       "95 percent confidence interval:\n",
       " 0.318875 0.681125\n",
       "sample estimates:\n",
       "probability of success \n",
       "                   0.5 \n"
      ]
     },
     "metadata": {},
     "output_type": "display_data"
    }
   ],
   "source": [
    "equal_hat = nrow(q4_data_v18_nv16[q4_data_v18_nv16$geangry == q4_data_v18_nv16$geafraid,])\n",
    "plus_hat = nrow(q4_data_v18_nv16[q4_data_v18_nv16$geangry > q4_data_v18_nv16$geafraid,])\n",
    "minus_hat = nrow(q4_data_v18_nv16[q4_data_v18_nv16$geangry < q4_data_v18_nv16$geafraid,])\n",
    "total_hat = as.numeric(equal_hat + plus_hat + minus_hat)\n",
    "# ignore equal scores of geangry and geafraid for binomial test\n",
    "n = total_hat - equal_hat\n",
    "\n",
    "paste(\"geangry == geafraid:\", equal_hat)\n",
    "paste(\"geangry > geafraid:\", plus_hat)\n",
    "paste(\"geangry < geafraid:\", minus_hat)\n",
    "paste(\"total:\", total_hat)\n",
    "paste(\"total - equal:\", n)\n",
    "\n",
    "# binomial test\n",
    "p = 0.5\n",
    "mean = n * p\n",
    "threshold = abs(plus_hat - mean)\n",
    "paste(\"The mean:\", mean)\n",
    "paste(\"The threshold:\", threshold)\n",
    "binom.test(x = c(plus_hat, minus_hat), n, p = 0.5, alternative = c(\"two.sided\"), conf.level = 0.95)"
   ]
  },
  {
   "cell_type": "markdown",
   "metadata": {},
   "source": [
    "Note that there are only 32 values, after disregarding the respondents who are equally afraid or angry. Out of these 32 values, 16 are more angry and 16 are more afraid."
   ]
  },
  {
   "cell_type": "markdown",
   "metadata": {},
   "source": [
    "We can see from the binomial test that the alternative hypothesis is rejected as voters are equally likely to be afraid or angry. **This shows that neither of these feelings influences them more to come and vote in 2018**. There is no effect size to be calculated as there is no effect to be measured"
   ]
  },
  {
   "cell_type": "code",
   "execution_count": null,
   "metadata": {},
   "outputs": [],
   "source": []
  }
 ],
 "metadata": {
  "kernelspec": {
   "display_name": "R",
   "language": "R",
   "name": "ir"
  },
  "language_info": {
   "codemirror_mode": "r",
   "file_extension": ".r",
   "mimetype": "text/x-r-source",
   "name": "R",
   "pygments_lexer": "r",
   "version": "3.6.1"
  }
 },
 "nbformat": 4,
 "nbformat_minor": 4
}
