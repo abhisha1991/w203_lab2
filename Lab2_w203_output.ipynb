{
 "cells": [
  {
   "cell_type": "markdown",
   "metadata": {},
   "source": [
    "# Lab 2 - W203 - Statistics for Data Science"
   ]
  },
  {
   "cell_type": "markdown",
   "metadata": {},
   "source": [
    "#### Submission by Jude Kavalam, Harshit Patel, Abhi Sharma"
   ]
  },
  {
   "cell_type": "markdown",
   "metadata": {},
   "source": [
    "## Install packages"
   ]
  },
  {
   "cell_type": "code",
   "execution_count": 1,
   "metadata": {},
   "outputs": [
    {
     "name": "stdout",
     "output_type": "stream",
     "text": [
      "\n",
      "  There is a binary version available but the source version is later:\n",
      "      binary source needs_compilation\n",
      "dplyr  0.8.4  0.8.5              TRUE\n",
      "\n",
      "  Binaries will be installed\n",
      "package 'dplyr' successfully unpacked and MD5 sums checked\n"
     ]
    },
    {
     "name": "stderr",
     "output_type": "stream",
     "text": [
      "Warning message:\n",
      "\"cannot remove prior installation of package 'dplyr'\"Warning message in file.copy(savedcopy, lib, recursive = TRUE):\n",
      "\"problem copying C:\\Users\\abhisha.REDMOND\\AppData\\Local\\Continuum\\anaconda3\\envs\\r-env\\Lib\\R\\library\\00LOCK\\dplyr\\libs\\x64\\dplyr.dll to C:\\Users\\abhisha.REDMOND\\AppData\\Local\\Continuum\\anaconda3\\envs\\r-env\\Lib\\R\\library\\dplyr\\libs\\x64\\dplyr.dll: Permission denied\"Warning message:\n",
      "\"restored 'dplyr'\""
     ]
    },
    {
     "name": "stdout",
     "output_type": "stream",
     "text": [
      "\n",
      "The downloaded binary packages are in\n",
      "\tC:\\Users\\abhisha.REDMOND\\AppData\\Local\\Temp\\RtmpMpNvpd\\downloaded_packages\n"
     ]
    },
    {
     "name": "stderr",
     "output_type": "stream",
     "text": [
      "Warning message:\n",
      "\"package 'dplyr' was built under R version 3.6.3\"\n",
      "Attaching package: 'dplyr'\n",
      "\n",
      "The following objects are masked from 'package:stats':\n",
      "\n",
      "    filter, lag\n",
      "\n",
      "The following objects are masked from 'package:base':\n",
      "\n",
      "    intersect, setdiff, setequal, union\n",
      "\n"
     ]
    },
    {
     "name": "stdout",
     "output_type": "stream",
     "text": [
      "package 'rcompanion' successfully unpacked and MD5 sums checked\n",
      "\n",
      "The downloaded binary packages are in\n",
      "\tC:\\Users\\abhisha.REDMOND\\AppData\\Local\\Temp\\RtmpMpNvpd\\downloaded_packages\n"
     ]
    },
    {
     "name": "stderr",
     "output_type": "stream",
     "text": [
      "Warning message:\n",
      "\"package 'rcompanion' was built under R version 3.6.3\""
     ]
    },
    {
     "name": "stdout",
     "output_type": "stream",
     "text": [
      "package 'repr' successfully unpacked and MD5 sums checked\n",
      "\n",
      "The downloaded binary packages are in\n",
      "\tC:\\Users\\abhisha.REDMOND\\AppData\\Local\\Temp\\RtmpMpNvpd\\downloaded_packages\n"
     ]
    },
    {
     "name": "stderr",
     "output_type": "stream",
     "text": [
      "Warning message:\n",
      "\"package 'repr' was built under R version 3.6.3\""
     ]
    },
    {
     "name": "stdout",
     "output_type": "stream",
     "text": [
      "package 'effsize' successfully unpacked and MD5 sums checked\n",
      "\n",
      "The downloaded binary packages are in\n",
      "\tC:\\Users\\abhisha.REDMOND\\AppData\\Local\\Temp\\RtmpMpNvpd\\downloaded_packages\n"
     ]
    },
    {
     "name": "stderr",
     "output_type": "stream",
     "text": [
      "Warning message:\n",
      "\"package 'effsize' was built under R version 3.6.3\""
     ]
    }
   ],
   "source": [
    "install.packages(\"dplyr\")\n",
    "library(dplyr)\n",
    "install.packages(\"rcompanion\")\n",
    "library(rcompanion)\n",
    "install.packages(\"repr\")\n",
    "library(repr)\n",
    "install.packages(\"effsize\")\n",
    "library(effsize)\n",
    "\n",
    "# set standard height and width for images displayed\n",
    "options(repr.plot.width=5, repr.plot.height=5)"
   ]
  },
  {
   "cell_type": "markdown",
   "metadata": {},
   "source": [
    "## Get Data Function"
   ]
  },
  {
   "cell_type": "code",
   "execution_count": 2,
   "metadata": {},
   "outputs": [],
   "source": [
    "get_data = function() {\n",
    "    wd = getwd()\n",
    "    return (read.csv(paste(wd, \"/\", \"anes_pilot_2018.csv\", sep=\"\")))    \n",
    "}\n"
   ]
  },
  {
   "cell_type": "code",
   "execution_count": 3,
   "metadata": {},
   "outputs": [
    {
     "data": {
      "text/html": [
       "<table>\n",
       "<caption>A data.frame: 6 × 767</caption>\n",
       "<thead>\n",
       "\t<tr><th></th><th scope=col>version</th><th scope=col>caseid</th><th scope=col>weight</th><th scope=col>weight_spss</th><th scope=col>form</th><th scope=col>follow</th><th scope=col>addtime</th><th scope=col>reg</th><th scope=col>whenreg</th><th scope=col>howreg</th><th scope=col>...</th><th scope=col>rand_emp</th><th scope=col>rand_climate</th><th scope=col>rand_rural</th><th scope=col>rand_pk</th><th scope=col>rand_pid</th><th scope=col>starttime</th><th scope=col>endtime</th><th scope=col>duration</th><th scope=col>optintimestamp</th><th scope=col>completes</th></tr>\n",
       "\t<tr><th></th><th scope=col>&lt;fct&gt;</th><th scope=col>&lt;int&gt;</th><th scope=col>&lt;dbl&gt;</th><th scope=col>&lt;dbl&gt;</th><th scope=col>&lt;int&gt;</th><th scope=col>&lt;int&gt;</th><th scope=col>&lt;int&gt;</th><th scope=col>&lt;int&gt;</th><th scope=col>&lt;int&gt;</th><th scope=col>&lt;int&gt;</th><th scope=col>...</th><th scope=col>&lt;int&gt;</th><th scope=col>&lt;int&gt;</th><th scope=col>&lt;int&gt;</th><th scope=col>&lt;int&gt;</th><th scope=col>&lt;int&gt;</th><th scope=col>&lt;fct&gt;</th><th scope=col>&lt;fct&gt;</th><th scope=col>&lt;int&gt;</th><th scope=col>&lt;fct&gt;</th><th scope=col>&lt;int&gt;</th></tr>\n",
       "</thead>\n",
       "<tbody>\n",
       "\t<tr><th scope=row>1</th><td>ANES 2018 Pilot Study main version 20190129</td><td>1</td><td>1.2555080</td><td>0.7286969</td><td>1</td><td>4</td><td>2</td><td>1</td><td> 4</td><td>-1</td><td>...</td><td>1</td><td>2</td><td>2</td><td>1</td><td>1</td><td>12/10/2018 18:34:11</td><td>12/10/2018 20:00:03</td><td> 5152</td><td>10/15/15</td><td> 46</td></tr>\n",
       "\t<tr><th scope=row>2</th><td>ANES 2018 Pilot Study main version 20190129</td><td>2</td><td>0.5694911</td><td>0.3305327</td><td>2</td><td>1</td><td>2</td><td>3</td><td>-1</td><td>-1</td><td>...</td><td>2</td><td>1</td><td>1</td><td>0</td><td>2</td><td>12/10/2018 19:26:37</td><td>12/10/2018 19:53:12</td><td> 1595</td><td>7/16/16 </td><td> 55</td></tr>\n",
       "\t<tr><th scope=row>3</th><td>ANES 2018 Pilot Study main version 20190129</td><td>3</td><td>0.9720616</td><td>0.5641846</td><td>1</td><td>4</td><td>3</td><td>3</td><td>-1</td><td>-1</td><td>...</td><td>2</td><td>2</td><td>1</td><td>1</td><td>2</td><td>12/10/2018 19:48:44</td><td>12/10/2018 20:21:21</td><td> 1957</td><td>6/13/14 </td><td>  8</td></tr>\n",
       "\t<tr><th scope=row>4</th><td>ANES 2018 Pilot Study main version 20190129</td><td>4</td><td>2.4500732</td><td>1.4220225</td><td>1</td><td>4</td><td>2</td><td>1</td><td> 4</td><td>-1</td><td>...</td><td>2</td><td>2</td><td>1</td><td>0</td><td>1</td><td>12/10/2018 19:03:49</td><td>12/10/2018 19:21:08</td><td> 1039</td><td>10/28/15</td><td> 42</td></tr>\n",
       "\t<tr><th scope=row>5</th><td>ANES 2018 Pilot Study main version 20190129</td><td>5</td><td>1.6348200</td><td>0.9488495</td><td>2</td><td>1</td><td>3</td><td>1</td><td> 4</td><td>-1</td><td>...</td><td>2</td><td>1</td><td>2</td><td>1</td><td>2</td><td>12/10/2018 18:28:14</td><td>12/10/2018 18:43:23</td><td>  909</td><td>11/11/15</td><td> 33</td></tr>\n",
       "\t<tr><th scope=row>6</th><td>ANES 2018 Pilot Study main version 20190129</td><td>6</td><td>1.8184054</td><td>1.0554025</td><td>1</td><td>3</td><td>2</td><td>2</td><td> 2</td><td> 2</td><td>...</td><td>1</td><td>2</td><td>1</td><td>1</td><td>2</td><td>12/10/2018 23:58:17</td><td>12/11/2018 5:10:57 </td><td>18760</td><td>5/9/15  </td><td>185</td></tr>\n",
       "</tbody>\n",
       "</table>\n"
      ],
      "text/latex": [
       "A data.frame: 6 × 767\n",
       "\\begin{tabular}{r|lllllllllllllllllllll}\n",
       "  & version & caseid & weight & weight\\_spss & form & follow & addtime & reg & whenreg & howreg & ... & rand\\_emp & rand\\_climate & rand\\_rural & rand\\_pk & rand\\_pid & starttime & endtime & duration & optintimestamp & completes\\\\\n",
       "  & <fct> & <int> & <dbl> & <dbl> & <int> & <int> & <int> & <int> & <int> & <int> & ... & <int> & <int> & <int> & <int> & <int> & <fct> & <fct> & <int> & <fct> & <int>\\\\\n",
       "\\hline\n",
       "\t1 & ANES 2018 Pilot Study main version 20190129 & 1 & 1.2555080 & 0.7286969 & 1 & 4 & 2 & 1 &  4 & -1 & ... & 1 & 2 & 2 & 1 & 1 & 12/10/2018 18:34:11 & 12/10/2018 20:00:03 &  5152 & 10/15/15 &  46\\\\\n",
       "\t2 & ANES 2018 Pilot Study main version 20190129 & 2 & 0.5694911 & 0.3305327 & 2 & 1 & 2 & 3 & -1 & -1 & ... & 2 & 1 & 1 & 0 & 2 & 12/10/2018 19:26:37 & 12/10/2018 19:53:12 &  1595 & 7/16/16  &  55\\\\\n",
       "\t3 & ANES 2018 Pilot Study main version 20190129 & 3 & 0.9720616 & 0.5641846 & 1 & 4 & 3 & 3 & -1 & -1 & ... & 2 & 2 & 1 & 1 & 2 & 12/10/2018 19:48:44 & 12/10/2018 20:21:21 &  1957 & 6/13/14  &   8\\\\\n",
       "\t4 & ANES 2018 Pilot Study main version 20190129 & 4 & 2.4500732 & 1.4220225 & 1 & 4 & 2 & 1 &  4 & -1 & ... & 2 & 2 & 1 & 0 & 1 & 12/10/2018 19:03:49 & 12/10/2018 19:21:08 &  1039 & 10/28/15 &  42\\\\\n",
       "\t5 & ANES 2018 Pilot Study main version 20190129 & 5 & 1.6348200 & 0.9488495 & 2 & 1 & 3 & 1 &  4 & -1 & ... & 2 & 1 & 2 & 1 & 2 & 12/10/2018 18:28:14 & 12/10/2018 18:43:23 &   909 & 11/11/15 &  33\\\\\n",
       "\t6 & ANES 2018 Pilot Study main version 20190129 & 6 & 1.8184054 & 1.0554025 & 1 & 3 & 2 & 2 &  2 &  2 & ... & 1 & 2 & 1 & 1 & 2 & 12/10/2018 23:58:17 & 12/11/2018 5:10:57  & 18760 & 5/9/15   & 185\\\\\n",
       "\\end{tabular}\n"
      ],
      "text/markdown": [
       "\n",
       "A data.frame: 6 × 767\n",
       "\n",
       "| <!--/--> | version &lt;fct&gt; | caseid &lt;int&gt; | weight &lt;dbl&gt; | weight_spss &lt;dbl&gt; | form &lt;int&gt; | follow &lt;int&gt; | addtime &lt;int&gt; | reg &lt;int&gt; | whenreg &lt;int&gt; | howreg &lt;int&gt; | ... ... | rand_emp &lt;int&gt; | rand_climate &lt;int&gt; | rand_rural &lt;int&gt; | rand_pk &lt;int&gt; | rand_pid &lt;int&gt; | starttime &lt;fct&gt; | endtime &lt;fct&gt; | duration &lt;int&gt; | optintimestamp &lt;fct&gt; | completes &lt;int&gt; |\n",
       "|---|---|---|---|---|---|---|---|---|---|---|---|---|---|---|---|---|---|---|---|---|---|\n",
       "| 1 | ANES 2018 Pilot Study main version 20190129 | 1 | 1.2555080 | 0.7286969 | 1 | 4 | 2 | 1 |  4 | -1 | ... | 1 | 2 | 2 | 1 | 1 | 12/10/2018 18:34:11 | 12/10/2018 20:00:03 |  5152 | 10/15/15 |  46 |\n",
       "| 2 | ANES 2018 Pilot Study main version 20190129 | 2 | 0.5694911 | 0.3305327 | 2 | 1 | 2 | 3 | -1 | -1 | ... | 2 | 1 | 1 | 0 | 2 | 12/10/2018 19:26:37 | 12/10/2018 19:53:12 |  1595 | 7/16/16  |  55 |\n",
       "| 3 | ANES 2018 Pilot Study main version 20190129 | 3 | 0.9720616 | 0.5641846 | 1 | 4 | 3 | 3 | -1 | -1 | ... | 2 | 2 | 1 | 1 | 2 | 12/10/2018 19:48:44 | 12/10/2018 20:21:21 |  1957 | 6/13/14  |   8 |\n",
       "| 4 | ANES 2018 Pilot Study main version 20190129 | 4 | 2.4500732 | 1.4220225 | 1 | 4 | 2 | 1 |  4 | -1 | ... | 2 | 2 | 1 | 0 | 1 | 12/10/2018 19:03:49 | 12/10/2018 19:21:08 |  1039 | 10/28/15 |  42 |\n",
       "| 5 | ANES 2018 Pilot Study main version 20190129 | 5 | 1.6348200 | 0.9488495 | 2 | 1 | 3 | 1 |  4 | -1 | ... | 2 | 1 | 2 | 1 | 2 | 12/10/2018 18:28:14 | 12/10/2018 18:43:23 |   909 | 11/11/15 |  33 |\n",
       "| 6 | ANES 2018 Pilot Study main version 20190129 | 6 | 1.8184054 | 1.0554025 | 1 | 3 | 2 | 2 |  2 |  2 | ... | 1 | 2 | 1 | 1 | 2 | 12/10/2018 23:58:17 | 12/11/2018 5:10:57  | 18760 | 5/9/15   | 185 |\n",
       "\n"
      ],
      "text/plain": [
       "  version                                     caseid weight    weight_spss form\n",
       "1 ANES 2018 Pilot Study main version 20190129 1      1.2555080 0.7286969   1   \n",
       "2 ANES 2018 Pilot Study main version 20190129 2      0.5694911 0.3305327   2   \n",
       "3 ANES 2018 Pilot Study main version 20190129 3      0.9720616 0.5641846   1   \n",
       "4 ANES 2018 Pilot Study main version 20190129 4      2.4500732 1.4220225   1   \n",
       "5 ANES 2018 Pilot Study main version 20190129 5      1.6348200 0.9488495   2   \n",
       "6 ANES 2018 Pilot Study main version 20190129 6      1.8184054 1.0554025   1   \n",
       "  follow addtime reg whenreg howreg ... rand_emp rand_climate rand_rural\n",
       "1 4      2       1    4      -1     ... 1        2            2         \n",
       "2 1      2       3   -1      -1     ... 2        1            1         \n",
       "3 4      3       3   -1      -1     ... 2        2            1         \n",
       "4 4      2       1    4      -1     ... 2        2            1         \n",
       "5 1      3       1    4      -1     ... 2        1            2         \n",
       "6 3      2       2    2       2     ... 1        2            1         \n",
       "  rand_pk rand_pid starttime           endtime             duration\n",
       "1 1       1        12/10/2018 18:34:11 12/10/2018 20:00:03  5152   \n",
       "2 0       2        12/10/2018 19:26:37 12/10/2018 19:53:12  1595   \n",
       "3 1       2        12/10/2018 19:48:44 12/10/2018 20:21:21  1957   \n",
       "4 0       1        12/10/2018 19:03:49 12/10/2018 19:21:08  1039   \n",
       "5 1       2        12/10/2018 18:28:14 12/10/2018 18:43:23   909   \n",
       "6 1       2        12/10/2018 23:58:17 12/11/2018 5:10:57  18760   \n",
       "  optintimestamp completes\n",
       "1 10/15/15        46      \n",
       "2 7/16/16         55      \n",
       "3 6/13/14          8      \n",
       "4 10/28/15        42      \n",
       "5 11/11/15        33      \n",
       "6 5/9/15         185      "
      ]
     },
     "metadata": {},
     "output_type": "display_data"
    }
   ],
   "source": [
    "data = get_data()\n",
    "head(data)"
   ]
  },
  {
   "cell_type": "code",
   "execution_count": 4,
   "metadata": {},
   "outputs": [
    {
     "data": {
      "text/html": [
       "2500"
      ],
      "text/latex": [
       "2500"
      ],
      "text/markdown": [
       "2500"
      ],
      "text/plain": [
       "[1] 2500"
      ]
     },
     "metadata": {},
     "output_type": "display_data"
    }
   ],
   "source": [
    "nrow(data)\n"
   ]
  },
  {
   "cell_type": "code",
   "execution_count": 5,
   "metadata": {},
   "outputs": [
    {
     "data": {
      "text/html": [
       "767"
      ],
      "text/latex": [
       "767"
      ],
      "text/markdown": [
       "767"
      ],
      "text/plain": [
       "[1] 767"
      ]
     },
     "metadata": {},
     "output_type": "display_data"
    }
   ],
   "source": [
    "ncol(data)\n"
   ]
  },
  {
   "cell_type": "code",
   "execution_count": 6,
   "metadata": {},
   "outputs": [
    {
     "data": {
      "text/html": [
       "767"
      ],
      "text/latex": [
       "767"
      ],
      "text/markdown": [
       "767"
      ],
      "text/plain": [
       "[1] 767"
      ]
     },
     "metadata": {},
     "output_type": "display_data"
    }
   ],
   "source": [
    "length(data)"
   ]
  },
  {
   "cell_type": "markdown",
   "metadata": {},
   "source": [
    "Data context: https://electionstudies.org/wp-content/uploads/2019/02/anes_pilot_2018_userguidecodebook.pdf \n",
    "\n",
    "Questionnaire: https://electionstudies.org/wp-content/uploads/2018/12/anes_pilot_2018_questionnaire.pdf"
   ]
  },
  {
   "cell_type": "markdown",
   "metadata": {},
   "source": [
    "## Filter Functions\n",
    "\n",
    "Here are some generic functions that help slice the data in convenient ways which can be used across all the research questions"
   ]
  },
  {
   "cell_type": "code",
   "execution_count": 7,
   "metadata": {},
   "outputs": [],
   "source": [
    "filter_skp = function(df, skp_prefix, skp_values) {\n",
    "    skp_col = paste(skp_prefix, \"_skp\", sep = \"\")\n",
    "    return (df %>% filter(df[, skp_col] %in% skp_values))\n",
    "}\n",
    "\n",
    "# Usage\n",
    "# x = filter_skp(data, \"ftpolice\", c(0,1))\n",
    "# nrow(x)"
   ]
  },
  {
   "cell_type": "code",
   "execution_count": 8,
   "metadata": {},
   "outputs": [],
   "source": [
    "filter_timing = function(df, timing_prefix, time_threshold) {\n",
    "    timing_col = paste(timing_prefix, \"_page_timing\", sep= \"\")\n",
    "    return (df %>% filter(df[, timing_col] <= time_threshold))\n",
    "}\n",
    "\n",
    "# Usage\n",
    "# x = filter_timing(data, \"ftpolice\", 10)\n",
    "# nrow(x)\n",
    "# summary(x$ftpolice_page_timing)"
   ]
  },
  {
   "cell_type": "code",
   "execution_count": 9,
   "metadata": {},
   "outputs": [],
   "source": [
    "filter_honest = function(df, honest_vals) {\n",
    "    return (df %>% filter(df[, \"honest\"] %in% honest_vals))\n",
    "}\n",
    "\n",
    "#Freq. Numeric Label\n",
    "#37      1     Never\n",
    "#46      2     Some of the time\n",
    "#90      3     About half the time\n",
    "#215     4     Most of the time\n",
    "#2112    5     Always\n",
    "\n",
    "# Usage\n",
    "# x = filter_honest(data, c(1))\n",
    "# nrow(x)\n"
   ]
  },
  {
   "cell_type": "code",
   "execution_count": 10,
   "metadata": {},
   "outputs": [],
   "source": [
    "filter_nonserious = function(df, ns_vals) {\n",
    "    return (df %>% filter(df[, \"nonserious\"] %in% ns_vals))\n",
    "}\n",
    "\n",
    "#Freq. Numeric Label\n",
    "#2007    1     Never\n",
    "#157     2     Some of the time\n",
    "#109     3     About half the time\n",
    "#55      4     Most of the time\n",
    "#172     5     Always\n",
    "\n",
    "# Usage\n",
    "# x = filter_nonserious(data, c(1))\n",
    "# nrow(x)"
   ]
  },
  {
   "cell_type": "markdown",
   "metadata": {},
   "source": [
    "## Question 1: Do US voters have more respect for the police or for journalists?\n",
    "\n",
    "### Introduce your topic briefly. (5 points)\n",
    "Will need to use ftpolice (How would you rate the police?) and ftjournal (How would you rate journalists?)\n",
    "\n",
    "These are measured on a thermal scale (ordinal) from 0 to 100. The variables capturing the rating are:\n",
    "1. ftpolice_therm for ftpolice\n",
    "2. ftjournal_therm for ftjournal\n",
    "\n",
    "The key assumption we're making here is that these ratings (ftpolice and ftjournal) are being used to measure \"respect levels\" for these professions. This is a reasonable assumption given that there are no other variables to capture this sentiment.\n",
    "\n",
    "Its important to call out the ordinal nature of the scale and how a value of 55 for respondent 1 may differ from the same value of 55 for respondent 2. In other words, **the same score for a group (say police) may have different meanings for different respondents.**\n",
    "\n",
    "However, the score of ftpolice = 90 and ftjournal = 55 for a particular respondent shows that the respondent in question has more respect for police than journalists. In other words, **different scores for the same respondent on the 2 groups have comparable interpretation.** \n",
    "\n",
    "Hence, the data captured is in pairs. For each respondent, we have 2 scores and we can compare these scores to form proportions of voters that like the police vs journalists.\n",
    "\n",
    "### Perform an exploratory data analysis (EDA) of the relevant variables. (5 points)\n",
    " \n",
    "There are certain variables of interest along which we can slice the number of respondents we consider in the test:\n",
    "\n",
    "First we create a base data set (called q1_data):\n",
    "\n",
    "**1. honest** <br/>\n",
    "This represents respondents who answered the survey honestly. To get reliable results, **we will only consider respondents who are honest for this question.** It is important that we consider responses where people feel honest when answering questions regarding respect for professionals in police vs journalism.\n",
    "\n",
    "**2. ftpolice_page_timing and ftjournal_page_timing** <br/>\n",
    "This represents the time taken for a respondent to answer the corresponding questions (ftpolice and ftjournal). The reason why this may have been potentially interesting is because if a respondent takes too long to answer the question, then he / she maynot be sure about how they feel about the police / journalists. The 90th percentile for each variable seems to be within 12 seconds, which seems like a reasonable time to answer the question \"without hestitation\". **We will further explore this variable and discard responses > (say) 30 seconds.**\n",
    "\n",
    "**3. nonserious** <br/>\n",
    "This represents respondents who had degrees of nonserious-ness in the survey. **We will consider respondents who have values for nonserious=[1,2,3] as our entire population.** We want only serious candidates to be considered when answering a question like this. \n",
    "\n",
    "Next, we consider further slicing our base data set (q1_data) based on certain attributes:\n",
    "\n",
    "**1. ftpolice_skp and ftjournal_skp** <br/>\n",
    "This represents the variable where a candidate was asked a question, but decided to skip the question the first time around. This may reveal the hesitant nature of the respondent to answer the question directly. Hence, we will check the percentage of our base data set to determine how many respondents skipped these questions. If this distribution is fairly large, we will consider doing 2 sets of tests (where skp=0 vs considering all skp values).\n",
    "\n",
    "**2. nonserious** <br/>\n",
    "We will check what percentage of the base data set population is very serious (ie, nonserious=1) and will make a decision to further conduct a separate test with only a very serious population (or not).\n"
   ]
  },
  {
   "cell_type": "code",
   "execution_count": 11,
   "metadata": {},
   "outputs": [
    {
     "data": {
      "text/html": [
       "'Summary for ftpolice_page_timing'"
      ],
      "text/latex": [
       "'Summary for ftpolice\\_page\\_timing'"
      ],
      "text/markdown": [
       "'Summary for ftpolice_page_timing'"
      ],
      "text/plain": [
       "[1] \"Summary for ftpolice_page_timing\""
      ]
     },
     "metadata": {},
     "output_type": "display_data"
    },
    {
     "data": {
      "text/plain": [
       "   Min. 1st Qu.  Median    Mean 3rd Qu.    Max. \n",
       "  1.014   3.732   5.263   7.503   7.894 650.031 "
      ]
     },
     "metadata": {},
     "output_type": "display_data"
    },
    {
     "data": {
      "text/html": [
       "'Number of ftpolice_page_timing &gt; 30 seconds'"
      ],
      "text/latex": [
       "'Number of ftpolice\\_page\\_timing > 30 seconds'"
      ],
      "text/markdown": [
       "'Number of ftpolice_page_timing &gt; 30 seconds'"
      ],
      "text/plain": [
       "[1] \"Number of ftpolice_page_timing > 30 seconds\""
      ]
     },
     "metadata": {},
     "output_type": "display_data"
    },
    {
     "data": {
      "text/html": [
       "33"
      ],
      "text/latex": [
       "33"
      ],
      "text/markdown": [
       "33"
      ],
      "text/plain": [
       "[1] 33"
      ]
     },
     "metadata": {},
     "output_type": "display_data"
    }
   ],
   "source": [
    "# EDA for ftpolice_page_timing\n",
    "d = get_data()\n",
    "paste(\"Summary for ftpolice_page_timing\")\n",
    "summary(d$ftpolice_page_timing)\n",
    "\n",
    "paste(\"Number of ftpolice_page_timing > 30 seconds\")\n",
    "nrow(d[d$ftpolice_page_timing > 30,])\n",
    "# note that we will remove the 33 rows that are > 30 seconds in response time"
   ]
  },
  {
   "cell_type": "code",
   "execution_count": 12,
   "metadata": {},
   "outputs": [
    {
     "data": {
      "text/html": [
       "'Summary for ftjournal_page_timing'"
      ],
      "text/latex": [
       "'Summary for ftjournal\\_page\\_timing'"
      ],
      "text/markdown": [
       "'Summary for ftjournal_page_timing'"
      ],
      "text/plain": [
       "[1] \"Summary for ftjournal_page_timing\""
      ]
     },
     "metadata": {},
     "output_type": "display_data"
    },
    {
     "data": {
      "text/plain": [
       "   Min. 1st Qu.  Median    Mean 3rd Qu.    Max. \n",
       "  0.857   3.628   5.005   6.559   7.394 109.647 "
      ]
     },
     "metadata": {},
     "output_type": "display_data"
    },
    {
     "data": {
      "text/html": [
       "'Number of ftjournal_page_timing &gt;= 30 seconds'"
      ],
      "text/latex": [
       "'Number of ftjournal\\_page\\_timing >= 30 seconds'"
      ],
      "text/markdown": [
       "'Number of ftjournal_page_timing &gt;= 30 seconds'"
      ],
      "text/plain": [
       "[1] \"Number of ftjournal_page_timing >= 30 seconds\""
      ]
     },
     "metadata": {},
     "output_type": "display_data"
    },
    {
     "data": {
      "text/html": [
       "29"
      ],
      "text/latex": [
       "29"
      ],
      "text/markdown": [
       "29"
      ],
      "text/plain": [
       "[1] 29"
      ]
     },
     "metadata": {},
     "output_type": "display_data"
    }
   ],
   "source": [
    "# EDA for ftjournal_page_timing\n",
    "paste(\"Summary for ftjournal_page_timing\")\n",
    "summary(d$ftjournal_page_timing)\n",
    "\n",
    "paste(\"Number of ftjournal_page_timing >= 30 seconds\")\n",
    "nrow(d[d$ftjournal_page_timing > 30,])\n",
    "# note that we will remove the 29 rows that are > 30 seconds in response time"
   ]
  },
  {
   "cell_type": "code",
   "execution_count": 13,
   "metadata": {},
   "outputs": [
    {
     "data": {
      "text/html": [
       "'Summary for honest'"
      ],
      "text/latex": [
       "'Summary for honest'"
      ],
      "text/markdown": [
       "'Summary for honest'"
      ],
      "text/plain": [
       "[1] \"Summary for honest\""
      ]
     },
     "metadata": {},
     "output_type": "display_data"
    },
    {
     "data": {
      "text/plain": [
       "   Min. 1st Qu.  Median    Mean 3rd Qu.    Max. \n",
       "  1.000   5.000   5.000   4.728   5.000   5.000 "
      ]
     },
     "metadata": {},
     "output_type": "display_data"
    },
    {
     "data": {
      "text/html": [
       "'Percentage of always honest respondents'"
      ],
      "text/latex": [
       "'Percentage of always honest respondents'"
      ],
      "text/markdown": [
       "'Percentage of always honest respondents'"
      ],
      "text/plain": [
       "[1] \"Percentage of always honest respondents\""
      ]
     },
     "metadata": {},
     "output_type": "display_data"
    },
    {
     "data": {
      "text/html": [
       "84.48"
      ],
      "text/latex": [
       "84.48"
      ],
      "text/markdown": [
       "84.48"
      ],
      "text/plain": [
       "[1] 84.48"
      ]
     },
     "metadata": {},
     "output_type": "display_data"
    },
    {
     "data": {
      "image/png": "[encoded data removed]",
      "text/plain": [
       "Plot with title \"Histogram of Honest variable\""
      ]
     },
     "metadata": {},
     "output_type": "display_data"
    }
   ],
   "source": [
    "# EDA for honest\n",
    "paste(\"Summary for honest\")\n",
    "summary(d$honest)\n",
    "\n",
    "paste(\"Percentage of always honest respondents\")\n",
    "as.numeric(nrow(d[d$honest == 5,]) / nrow(d)) * 100\n",
    "\n",
    "hist(d$honest, main = \"Histogram of Honest variable\", xlab = \"Honest label\", col = \"lightblue\", border = \"black\")"
   ]
  },
  {
   "cell_type": "code",
   "execution_count": 14,
   "metadata": {},
   "outputs": [
    {
     "data": {
      "text/html": [
       "'Summary for nonserious'"
      ],
      "text/latex": [
       "'Summary for nonserious'"
      ],
      "text/markdown": [
       "'Summary for nonserious'"
      ],
      "text/plain": [
       "[1] \"Summary for nonserious\""
      ]
     },
     "metadata": {},
     "output_type": "display_data"
    },
    {
     "data": {
      "text/plain": [
       "   Min. 1st Qu.  Median    Mean 3rd Qu.    Max. \n",
       "  1.000   1.000   1.000   1.491   1.000   5.000 "
      ]
     },
     "metadata": {},
     "output_type": "display_data"
    },
    {
     "data": {
      "text/html": [
       "'Percentage of nonserious=[1,2,3] respondents'"
      ],
      "text/latex": [
       "'Percentage of nonserious={[}1,2,3{]} respondents'"
      ],
      "text/markdown": [
       "'Percentage of nonserious=[1,2,3] respondents'"
      ],
      "text/plain": [
       "[1] \"Percentage of nonserious=[1,2,3] respondents\""
      ]
     },
     "metadata": {},
     "output_type": "display_data"
    },
    {
     "data": {
      "text/html": [
       "90.92"
      ],
      "text/latex": [
       "90.92"
      ],
      "text/markdown": [
       "90.92"
      ],
      "text/plain": [
       "[1] 90.92"
      ]
     },
     "metadata": {},
     "output_type": "display_data"
    },
    {
     "data": {
      "image/png": "[encoded data removed]",
      "text/plain": [
       "Plot with title \"Histogram of Nonserious variable\""
      ]
     },
     "metadata": {},
     "output_type": "display_data"
    }
   ],
   "source": [
    "# EDA for nonserious\n",
    "paste(\"Summary for nonserious\")\n",
    "summary(d$nonserious)\n",
    "\n",
    "paste(\"Percentage of nonserious=[1,2,3] respondents\")\n",
    "as.numeric(nrow(d[d$nonserious %in%  c(1,2,3),]) / nrow(d)) * 100\n",
    "\n",
    "hist(d$nonserious, main = \"Histogram of Nonserious variable\", xlab = \"Nonserious label\", col = \"lightblue\", border = \"black\")"
   ]
  },
  {
   "cell_type": "markdown",
   "metadata": {},
   "source": [
    "#### Let's construct our base data set (q1_data)"
   ]
  },
  {
   "cell_type": "code",
   "execution_count": 15,
   "metadata": {},
   "outputs": [
    {
     "data": {
      "text/html": [
       "1882"
      ],
      "text/latex": [
       "1882"
      ],
      "text/markdown": [
       "1882"
      ],
      "text/plain": [
       "[1] 1882"
      ]
     },
     "metadata": {},
     "output_type": "display_data"
    }
   ],
   "source": [
    "# create base data set \n",
    "q1_data = get_data()\n",
    "\n",
    "# consider only \"always honest\" respondents \n",
    "q1_data = filter_honest(q1_data, c(5))\n",
    "\n",
    "# consider respondents with _page_timing less than equal to 30 seconds\n",
    "q1_data = filter_timing(q1_data, \"ftpolice\", 30)\n",
    "q1_data = filter_timing(q1_data, \"ftjournal\", 30)\n",
    "\n",
    "# consider only respondents with nonseriousness levels 1,2,3 \n",
    "q1_data = filter_nonserious(q1_data, c(1,2,3))\n",
    "\n",
    "nrow(q1_data)"
   ]
  },
  {
   "cell_type": "code",
   "execution_count": 16,
   "metadata": {},
   "outputs": [
    {
     "data": {
      "text/html": [
       "95.9086078639745"
      ],
      "text/latex": [
       "95.9086078639745"
      ],
      "text/markdown": [
       "95.9086078639745"
      ],
      "text/plain": [
       "[1] 95.90861"
      ]
     },
     "metadata": {},
     "output_type": "display_data"
    }
   ],
   "source": [
    "# We further slice our data on the basis of very serious vs our population of serious [1,2,3] respondents\n",
    "q1_data_serious = filter_nonserious(q1_data, c(1))\n",
    "nrow(q1_data_serious)/nrow(q1_data) * 100"
   ]
  },
  {
   "cell_type": "markdown",
   "metadata": {},
   "source": [
    "#### We notice that the very serious (nonserious=1) population is a large portion of the data we are working with.  So we will decide NOT to conduct separate tests for very serious (nonserious=1) vs semi serious (nonserious=[1,2,3]) "
   ]
  },
  {
   "cell_type": "code",
   "execution_count": 17,
   "metadata": {},
   "outputs": [
    {
     "data": {
      "text/html": [
       "'Summary for ftpolice_skp'"
      ],
      "text/latex": [
       "'Summary for ftpolice\\_skp'"
      ],
      "text/markdown": [
       "'Summary for ftpolice_skp'"
      ],
      "text/plain": [
       "[1] \"Summary for ftpolice_skp\""
      ]
     },
     "metadata": {},
     "output_type": "display_data"
    },
    {
     "data": {
      "text/plain": [
       "    Min.  1st Qu.   Median     Mean  3rd Qu.     Max. \n",
       "0.000000 0.000000 0.000000 0.004782 0.000000 1.000000 "
      ]
     },
     "metadata": {},
     "output_type": "display_data"
    },
    {
     "data": {
      "text/html": [
       "'Percentage of non-zero ftpolice_skp'"
      ],
      "text/latex": [
       "'Percentage of non-zero ftpolice\\_skp'"
      ],
      "text/markdown": [
       "'Percentage of non-zero ftpolice_skp'"
      ],
      "text/plain": [
       "[1] \"Percentage of non-zero ftpolice_skp\""
      ]
     },
     "metadata": {},
     "output_type": "display_data"
    },
    {
     "data": {
      "text/html": [
       "0.478214665249734"
      ],
      "text/latex": [
       "0.478214665249734"
      ],
      "text/markdown": [
       "0.478214665249734"
      ],
      "text/plain": [
       "[1] 0.4782147"
      ]
     },
     "metadata": {},
     "output_type": "display_data"
    },
    {
     "data": {
      "text/html": [
       "'Summary for ftjournal_skp'"
      ],
      "text/latex": [
       "'Summary for ftjournal\\_skp'"
      ],
      "text/markdown": [
       "'Summary for ftjournal_skp'"
      ],
      "text/plain": [
       "[1] \"Summary for ftjournal_skp\""
      ]
     },
     "metadata": {},
     "output_type": "display_data"
    },
    {
     "data": {
      "text/plain": [
       "    Min.  1st Qu.   Median     Mean  3rd Qu.     Max. \n",
       "0.000000 0.000000 0.000000 0.007439 0.000000 2.000000 "
      ]
     },
     "metadata": {},
     "output_type": "display_data"
    },
    {
     "data": {
      "text/html": [
       "'Percentage of non-zero ftjournal_skp'"
      ],
      "text/latex": [
       "'Percentage of non-zero ftjournal\\_skp'"
      ],
      "text/markdown": [
       "'Percentage of non-zero ftjournal_skp'"
      ],
      "text/plain": [
       "[1] \"Percentage of non-zero ftjournal_skp\""
      ]
     },
     "metadata": {},
     "output_type": "display_data"
    },
    {
     "data": {
      "text/html": [
       "0.637619553666312"
      ],
      "text/latex": [
       "0.637619553666312"
      ],
      "text/markdown": [
       "0.637619553666312"
      ],
      "text/plain": [
       "[1] 0.6376196"
      ]
     },
     "metadata": {},
     "output_type": "display_data"
    }
   ],
   "source": [
    "# we further investigate the ftpolice_skp and ftjournal_skp variables\n",
    "\n",
    "# EDA for ftpolice_skp\n",
    "paste(\"Summary for ftpolice_skp\")\n",
    "summary(q1_data$ftpolice_skp)\n",
    "\n",
    "paste(\"Percentage of non-zero ftpolice_skp\")\n",
    "as.numeric(nrow(q1_data[q1_data$ftpolice_skp %in%  c(1),]) / nrow(q1_data)) * 100\n",
    "# < 1% of the respondents chose to skip the ftpolice question. This shows the respondents are not hesitant!\n",
    "\n",
    "# EDA for ftjournal_skp\n",
    "paste(\"Summary for ftjournal_skp\")\n",
    "summary(q1_data$ftjournal_skp)\n",
    "\n",
    "paste(\"Percentage of non-zero ftjournal_skp\")\n",
    "as.numeric(nrow(q1_data[q1_data$ftjournal_skp %in%  c(1,2),]) / nrow(q1_data)) * 100\n",
    "# < 1% of the respondents chose to skip the ftjournal question. This shows the respondents are not hesitant!"
   ]
  },
  {
   "cell_type": "markdown",
   "metadata": {},
   "source": [
    "#### We conclude that there were very few (< 1%) of respondents from our base data set that chose to skip the ftpolice or ftjournal question. So we will NOT conduct further tests based on skp=0 vs all skp."
   ]
  },
  {
   "cell_type": "markdown",
   "metadata": {},
   "source": [
    "#### Basic Analysis of ftpolice and ftjournal"
   ]
  },
  {
   "cell_type": "code",
   "execution_count": 18,
   "metadata": {},
   "outputs": [
    {
     "data": {
      "text/html": [
       "'Summary for ftpolice'"
      ],
      "text/latex": [
       "'Summary for ftpolice'"
      ],
      "text/markdown": [
       "'Summary for ftpolice'"
      ],
      "text/plain": [
       "[1] \"Summary for ftpolice\""
      ]
     },
     "metadata": {},
     "output_type": "display_data"
    },
    {
     "data": {
      "text/plain": [
       "   Min. 1st Qu.  Median    Mean 3rd Qu.    Max. \n",
       "   0.00   50.00   72.00   66.55   91.00  100.00 "
      ]
     },
     "metadata": {},
     "output_type": "display_data"
    },
    {
     "data": {
      "text/html": [
       "'Unique values for ftpolice'"
      ],
      "text/latex": [
       "'Unique values for ftpolice'"
      ],
      "text/markdown": [
       "'Unique values for ftpolice'"
      ],
      "text/plain": [
       "[1] \"Unique values for ftpolice\""
      ]
     },
     "metadata": {},
     "output_type": "display_data"
    },
    {
     "data": {
      "text/html": [
       "<style>\n",
       ".list-inline {list-style: none; margin:0; padding: 0}\n",
       ".list-inline>li {display: inline-block}\n",
       ".list-inline>li:not(:last-child)::after {content: \"\\00b7\"; padding: 0 .5ex}\n",
       "</style>\n",
       "<ol class=list-inline><li>48</li><li>73</li><li>38</li><li>78</li><li>90</li><li>46</li><li>64</li><li>82</li><li>95</li><li>23</li><li>72</li><li>81</li><li>94</li><li>86</li><li>80</li><li>60</li><li>50</li><li>96</li><li>3</li><li>91</li><li>20</li><li>14</li><li>71</li><li>52</li><li>100</li><li>89</li><li>6</li><li>84</li><li>75</li><li>99</li><li>85</li><li>88</li><li>41</li><li>10</li><li>83</li><li>97</li><li>66</li><li>61</li><li>63</li><li>57</li><li>76</li><li>58</li><li>55</li><li>87</li><li>51</li><li>70</li><li>22</li><li>98</li><li>69</li><li>68</li><li>65</li><li>93</li><li>74</li><li>77</li><li>62</li><li>79</li><li>59</li><li>92</li><li>15</li><li>67</li><li>0</li><li>43</li><li>13</li><li>42</li><li>30</li><li>1</li><li>25</li><li>29</li><li>4</li><li>40</li><li>5</li><li>54</li><li>49</li><li>7</li><li>28</li><li>21</li><li>9</li><li>19</li><li>45</li><li>56</li><li>35</li><li>32</li><li>18</li><li>12</li><li>31</li><li>24</li><li>44</li><li>8</li><li>47</li><li>27</li><li>34</li><li>11</li><li>53</li><li>2</li><li>33</li><li>16</li><li>17</li><li>36</li><li>26</li><li>39</li></ol>\n"
      ],
      "text/latex": [
       "\\begin{enumerate*}\n",
       "\\item 48\n",
       "\\item 73\n",
       "\\item 38\n",
       "\\item 78\n",
       "\\item 90\n",
       "\\item 46\n",
       "\\item 64\n",
       "\\item 82\n",
       "\\item 95\n",
       "\\item 23\n",
       "\\item 72\n",
       "\\item 81\n",
       "\\item 94\n",
       "\\item 86\n",
       "\\item 80\n",
       "\\item 60\n",
       "\\item 50\n",
       "\\item 96\n",
       "\\item 3\n",
       "\\item 91\n",
       "\\item 20\n",
       "\\item 14\n",
       "\\item 71\n",
       "\\item 52\n",
       "\\item 100\n",
       "\\item 89\n",
       "\\item 6\n",
       "\\item 84\n",
       "\\item 75\n",
       "\\item 99\n",
       "\\item 85\n",
       "\\item 88\n",
       "\\item 41\n",
       "\\item 10\n",
       "\\item 83\n",
       "\\item 97\n",
       "\\item 66\n",
       "\\item 61\n",
       "\\item 63\n",
       "\\item 57\n",
       "\\item 76\n",
       "\\item 58\n",
       "\\item 55\n",
       "\\item 87\n",
       "\\item 51\n",
       "\\item 70\n",
       "\\item 22\n",
       "\\item 98\n",
       "\\item 69\n",
       "\\item 68\n",
       "\\item 65\n",
       "\\item 93\n",
       "\\item 74\n",
       "\\item 77\n",
       "\\item 62\n",
       "\\item 79\n",
       "\\item 59\n",
       "\\item 92\n",
       "\\item 15\n",
       "\\item 67\n",
       "\\item 0\n",
       "\\item 43\n",
       "\\item 13\n",
       "\\item 42\n",
       "\\item 30\n",
       "\\item 1\n",
       "\\item 25\n",
       "\\item 29\n",
       "\\item 4\n",
       "\\item 40\n",
       "\\item 5\n",
       "\\item 54\n",
       "\\item 49\n",
       "\\item 7\n",
       "\\item 28\n",
       "\\item 21\n",
       "\\item 9\n",
       "\\item 19\n",
       "\\item 45\n",
       "\\item 56\n",
       "\\item 35\n",
       "\\item 32\n",
       "\\item 18\n",
       "\\item 12\n",
       "\\item 31\n",
       "\\item 24\n",
       "\\item 44\n",
       "\\item 8\n",
       "\\item 47\n",
       "\\item 27\n",
       "\\item 34\n",
       "\\item 11\n",
       "\\item 53\n",
       "\\item 2\n",
       "\\item 33\n",
       "\\item 16\n",
       "\\item 17\n",
       "\\item 36\n",
       "\\item 26\n",
       "\\item 39\n",
       "\\end{enumerate*}\n"
      ],
      "text/markdown": [
       "1. 48\n",
       "2. 73\n",
       "3. 38\n",
       "4. 78\n",
       "5. 90\n",
       "6. 46\n",
       "7. 64\n",
       "8. 82\n",
       "9. 95\n",
       "10. 23\n",
       "11. 72\n",
       "12. 81\n",
       "13. 94\n",
       "14. 86\n",
       "15. 80\n",
       "16. 60\n",
       "17. 50\n",
       "18. 96\n",
       "19. 3\n",
       "20. 91\n",
       "21. 20\n",
       "22. 14\n",
       "23. 71\n",
       "24. 52\n",
       "25. 100\n",
       "26. 89\n",
       "27. 6\n",
       "28. 84\n",
       "29. 75\n",
       "30. 99\n",
       "31. 85\n",
       "32. 88\n",
       "33. 41\n",
       "34. 10\n",
       "35. 83\n",
       "36. 97\n",
       "37. 66\n",
       "38. 61\n",
       "39. 63\n",
       "40. 57\n",
       "41. 76\n",
       "42. 58\n",
       "43. 55\n",
       "44. 87\n",
       "45. 51\n",
       "46. 70\n",
       "47. 22\n",
       "48. 98\n",
       "49. 69\n",
       "50. 68\n",
       "51. 65\n",
       "52. 93\n",
       "53. 74\n",
       "54. 77\n",
       "55. 62\n",
       "56. 79\n",
       "57. 59\n",
       "58. 92\n",
       "59. 15\n",
       "60. 67\n",
       "61. 0\n",
       "62. 43\n",
       "63. 13\n",
       "64. 42\n",
       "65. 30\n",
       "66. 1\n",
       "67. 25\n",
       "68. 29\n",
       "69. 4\n",
       "70. 40\n",
       "71. 5\n",
       "72. 54\n",
       "73. 49\n",
       "74. 7\n",
       "75. 28\n",
       "76. 21\n",
       "77. 9\n",
       "78. 19\n",
       "79. 45\n",
       "80. 56\n",
       "81. 35\n",
       "82. 32\n",
       "83. 18\n",
       "84. 12\n",
       "85. 31\n",
       "86. 24\n",
       "87. 44\n",
       "88. 8\n",
       "89. 47\n",
       "90. 27\n",
       "91. 34\n",
       "92. 11\n",
       "93. 53\n",
       "94. 2\n",
       "95. 33\n",
       "96. 16\n",
       "97. 17\n",
       "98. 36\n",
       "99. 26\n",
       "100. 39\n",
       "\n",
       "\n"
      ],
      "text/plain": [
       "  [1]  48  73  38  78  90  46  64  82  95  23  72  81  94  86  80  60  50  96\n",
       " [19]   3  91  20  14  71  52 100  89   6  84  75  99  85  88  41  10  83  97\n",
       " [37]  66  61  63  57  76  58  55  87  51  70  22  98  69  68  65  93  74  77\n",
       " [55]  62  79  59  92  15  67   0  43  13  42  30   1  25  29   4  40   5  54\n",
       " [73]  49   7  28  21   9  19  45  56  35  32  18  12  31  24  44   8  47  27\n",
       " [91]  34  11  53   2  33  16  17  36  26  39"
      ]
     },
     "metadata": {},
     "output_type": "display_data"
    },
    {
     "data": {
      "image/png": "[encoded data removed]",
      "text/plain": [
       "Plot with title \"Histogram of ftpolice\""
      ]
     },
     "metadata": {},
     "output_type": "display_data"
    }
   ],
   "source": [
    "paste(\"Summary for ftpolice\")\n",
    "summary(q1_data$ftpolice)\n",
    "\n",
    "paste(\"Unique values for ftpolice\")\n",
    "unique(q1_data$ftpolice)\n",
    "# we observe there are no \"invalid\" values (negative values, values outside of 0-100)\n",
    "\n",
    "hist(q1_data$ftpolice, xlab = \"ftpolice score\", main = \"Histogram of ftpolice\", col = \"lightblue\", border = \"black\")"
   ]
  },
  {
   "cell_type": "markdown",
   "metadata": {},
   "source": [
    "#### Due to the ordinal and likert nature of the ftpolice score, we cannot construct any distribution of the variable. \n",
    "#### However, we notice a skewness in high respect for police based on the histogram.  "
   ]
  },
  {
   "cell_type": "code",
   "execution_count": 19,
   "metadata": {},
   "outputs": [
    {
     "data": {
      "text/html": [
       "'Summary for ftjournal'"
      ],
      "text/latex": [
       "'Summary for ftjournal'"
      ],
      "text/markdown": [
       "'Summary for ftjournal'"
      ],
      "text/plain": [
       "[1] \"Summary for ftjournal\""
      ]
     },
     "metadata": {},
     "output_type": "display_data"
    },
    {
     "data": {
      "text/plain": [
       "   Min. 1st Qu.  Median    Mean 3rd Qu.    Max. \n",
       "  -7.00   20.00   53.00   52.84   85.00  100.00 "
      ]
     },
     "metadata": {},
     "output_type": "display_data"
    },
    {
     "data": {
      "text/html": [
       "'Unique values for ftjournal'"
      ],
      "text/latex": [
       "'Unique values for ftjournal'"
      ],
      "text/markdown": [
       "'Unique values for ftjournal'"
      ],
      "text/plain": [
       "[1] \"Unique values for ftjournal\""
      ]
     },
     "metadata": {},
     "output_type": "display_data"
    },
    {
     "data": {
      "text/html": [
       "<style>\n",
       ".list-inline {list-style: none; margin:0; padding: 0}\n",
       ".list-inline>li {display: inline-block}\n",
       ".list-inline>li:not(:last-child)::after {content: \"\\00b7\"; padding: 0 .5ex}\n",
       "</style>\n",
       "<ol class=list-inline><li>85</li><li>77</li><li>23</li><li>88</li><li>30</li><li>50</li><li>83</li><li>97</li><li>0</li><li>68</li><li>94</li><li>49</li><li>100</li><li>10</li><li>48</li><li>51</li><li>79</li><li>76</li><li>11</li><li>44</li><li>67</li><li>96</li><li>63</li><li>99</li><li>98</li><li>20</li><li>31</li><li>18</li><li>87</li><li>71</li><li>80</li><li>-7</li><li>72</li><li>41</li><li>90</li><li>5</li><li>89</li><li>86</li><li>92</li><li>66</li><li>70</li><li>34</li><li>29</li><li>95</li><li>78</li><li>93</li><li>16</li><li>35</li><li>19</li><li>82</li><li>21</li><li>12</li><li>84</li><li>14</li><li>6</li><li>91</li><li>2</li><li>73</li><li>60</li><li>75</li><li>28</li><li>59</li><li>38</li><li>13</li><li>7</li><li>54</li><li>3</li><li>15</li><li>26</li><li>4</li><li>9</li><li>37</li><li>33</li><li>1</li><li>8</li><li>69</li><li>46</li><li>42</li><li>57</li><li>36</li><li>22</li><li>81</li><li>17</li><li>65</li><li>39</li><li>62</li><li>55</li><li>52</li><li>56</li><li>53</li><li>74</li><li>40</li><li>27</li><li>47</li><li>32</li><li>61</li><li>58</li><li>64</li><li>45</li><li>43</li><li>25</li><li>24</li></ol>\n"
      ],
      "text/latex": [
       "\\begin{enumerate*}\n",
       "\\item 85\n",
       "\\item 77\n",
       "\\item 23\n",
       "\\item 88\n",
       "\\item 30\n",
       "\\item 50\n",
       "\\item 83\n",
       "\\item 97\n",
       "\\item 0\n",
       "\\item 68\n",
       "\\item 94\n",
       "\\item 49\n",
       "\\item 100\n",
       "\\item 10\n",
       "\\item 48\n",
       "\\item 51\n",
       "\\item 79\n",
       "\\item 76\n",
       "\\item 11\n",
       "\\item 44\n",
       "\\item 67\n",
       "\\item 96\n",
       "\\item 63\n",
       "\\item 99\n",
       "\\item 98\n",
       "\\item 20\n",
       "\\item 31\n",
       "\\item 18\n",
       "\\item 87\n",
       "\\item 71\n",
       "\\item 80\n",
       "\\item -7\n",
       "\\item 72\n",
       "\\item 41\n",
       "\\item 90\n",
       "\\item 5\n",
       "\\item 89\n",
       "\\item 86\n",
       "\\item 92\n",
       "\\item 66\n",
       "\\item 70\n",
       "\\item 34\n",
       "\\item 29\n",
       "\\item 95\n",
       "\\item 78\n",
       "\\item 93\n",
       "\\item 16\n",
       "\\item 35\n",
       "\\item 19\n",
       "\\item 82\n",
       "\\item 21\n",
       "\\item 12\n",
       "\\item 84\n",
       "\\item 14\n",
       "\\item 6\n",
       "\\item 91\n",
       "\\item 2\n",
       "\\item 73\n",
       "\\item 60\n",
       "\\item 75\n",
       "\\item 28\n",
       "\\item 59\n",
       "\\item 38\n",
       "\\item 13\n",
       "\\item 7\n",
       "\\item 54\n",
       "\\item 3\n",
       "\\item 15\n",
       "\\item 26\n",
       "\\item 4\n",
       "\\item 9\n",
       "\\item 37\n",
       "\\item 33\n",
       "\\item 1\n",
       "\\item 8\n",
       "\\item 69\n",
       "\\item 46\n",
       "\\item 42\n",
       "\\item 57\n",
       "\\item 36\n",
       "\\item 22\n",
       "\\item 81\n",
       "\\item 17\n",
       "\\item 65\n",
       "\\item 39\n",
       "\\item 62\n",
       "\\item 55\n",
       "\\item 52\n",
       "\\item 56\n",
       "\\item 53\n",
       "\\item 74\n",
       "\\item 40\n",
       "\\item 27\n",
       "\\item 47\n",
       "\\item 32\n",
       "\\item 61\n",
       "\\item 58\n",
       "\\item 64\n",
       "\\item 45\n",
       "\\item 43\n",
       "\\item 25\n",
       "\\item 24\n",
       "\\end{enumerate*}\n"
      ],
      "text/markdown": [
       "1. 85\n",
       "2. 77\n",
       "3. 23\n",
       "4. 88\n",
       "5. 30\n",
       "6. 50\n",
       "7. 83\n",
       "8. 97\n",
       "9. 0\n",
       "10. 68\n",
       "11. 94\n",
       "12. 49\n",
       "13. 100\n",
       "14. 10\n",
       "15. 48\n",
       "16. 51\n",
       "17. 79\n",
       "18. 76\n",
       "19. 11\n",
       "20. 44\n",
       "21. 67\n",
       "22. 96\n",
       "23. 63\n",
       "24. 99\n",
       "25. 98\n",
       "26. 20\n",
       "27. 31\n",
       "28. 18\n",
       "29. 87\n",
       "30. 71\n",
       "31. 80\n",
       "32. -7\n",
       "33. 72\n",
       "34. 41\n",
       "35. 90\n",
       "36. 5\n",
       "37. 89\n",
       "38. 86\n",
       "39. 92\n",
       "40. 66\n",
       "41. 70\n",
       "42. 34\n",
       "43. 29\n",
       "44. 95\n",
       "45. 78\n",
       "46. 93\n",
       "47. 16\n",
       "48. 35\n",
       "49. 19\n",
       "50. 82\n",
       "51. 21\n",
       "52. 12\n",
       "53. 84\n",
       "54. 14\n",
       "55. 6\n",
       "56. 91\n",
       "57. 2\n",
       "58. 73\n",
       "59. 60\n",
       "60. 75\n",
       "61. 28\n",
       "62. 59\n",
       "63. 38\n",
       "64. 13\n",
       "65. 7\n",
       "66. 54\n",
       "67. 3\n",
       "68. 15\n",
       "69. 26\n",
       "70. 4\n",
       "71. 9\n",
       "72. 37\n",
       "73. 33\n",
       "74. 1\n",
       "75. 8\n",
       "76. 69\n",
       "77. 46\n",
       "78. 42\n",
       "79. 57\n",
       "80. 36\n",
       "81. 22\n",
       "82. 81\n",
       "83. 17\n",
       "84. 65\n",
       "85. 39\n",
       "86. 62\n",
       "87. 55\n",
       "88. 52\n",
       "89. 56\n",
       "90. 53\n",
       "91. 74\n",
       "92. 40\n",
       "93. 27\n",
       "94. 47\n",
       "95. 32\n",
       "96. 61\n",
       "97. 58\n",
       "98. 64\n",
       "99. 45\n",
       "100. 43\n",
       "101. 25\n",
       "102. 24\n",
       "\n",
       "\n"
      ],
      "text/plain": [
       "  [1]  85  77  23  88  30  50  83  97   0  68  94  49 100  10  48  51  79  76\n",
       " [19]  11  44  67  96  63  99  98  20  31  18  87  71  80  -7  72  41  90   5\n",
       " [37]  89  86  92  66  70  34  29  95  78  93  16  35  19  82  21  12  84  14\n",
       " [55]   6  91   2  73  60  75  28  59  38  13   7  54   3  15  26   4   9  37\n",
       " [73]  33   1   8  69  46  42  57  36  22  81  17  65  39  62  55  52  56  53\n",
       " [91]  74  40  27  47  32  61  58  64  45  43  25  24"
      ]
     },
     "metadata": {},
     "output_type": "display_data"
    },
    {
     "data": {
      "image/png": "[encoded data removed]",
      "text/plain": [
       "Plot with title \"Histogram of ftjournal\""
      ]
     },
     "metadata": {},
     "output_type": "display_data"
    }
   ],
   "source": [
    "paste(\"Summary for ftjournal\")\n",
    "summary(q1_data$ftjournal)\n",
    "\n",
    "paste(\"Unique values for ftjournal\")\n",
    "unique(q1_data$ftjournal)\n",
    "# we observe there are negative values for ftjournal, which is also evident from the histogram\n",
    "\n",
    "hist(q1_data$ftjournal, xlab = \"ftjournal score\", main = \"Histogram of ftjournal\", col = \"lightblue\", border = \"black\")\n"
   ]
  },
  {
   "cell_type": "markdown",
   "metadata": {},
   "source": [
    "#### Due to the ordinal and likert nature of the ftjournal score, we cannot construct any distribution of the variable. \n",
    "#### However, we notice an almost bi-modal nature in ftjournal score - people are divided on their respect levels for journalists  "
   ]
  },
  {
   "cell_type": "code",
   "execution_count": 20,
   "metadata": {},
   "outputs": [
    {
     "data": {
      "text/html": [
       "'ftjournal scores less than 0'"
      ],
      "text/latex": [
       "'ftjournal scores less than 0'"
      ],
      "text/markdown": [
       "'ftjournal scores less than 0'"
      ],
      "text/plain": [
       "[1] \"ftjournal scores less than 0\""
      ]
     },
     "metadata": {},
     "output_type": "display_data"
    },
    {
     "data": {
      "text/html": [
       "2"
      ],
      "text/latex": [
       "2"
      ],
      "text/markdown": [
       "2"
      ],
      "text/plain": [
       "[1] 2"
      ]
     },
     "metadata": {},
     "output_type": "display_data"
    },
    {
     "data": {
      "text/html": [
       "'ftjournal scores &gt;= 0'"
      ],
      "text/latex": [
       "'ftjournal scores >= 0'"
      ],
      "text/markdown": [
       "'ftjournal scores &gt;= 0'"
      ],
      "text/plain": [
       "[1] \"ftjournal scores >= 0\""
      ]
     },
     "metadata": {},
     "output_type": "display_data"
    },
    {
     "data": {
      "text/html": [
       "1880"
      ],
      "text/latex": [
       "1880"
      ],
      "text/markdown": [
       "1880"
      ],
      "text/plain": [
       "[1] 1880"
      ]
     },
     "metadata": {},
     "output_type": "display_data"
    }
   ],
   "source": [
    "# we notice there are values for ftjournal < 0, so we need to remove these rows as they are missing values\n",
    "paste(\"ftjournal scores less than 0\")\n",
    "nrow(q1_data[q1_data$ftjournal < 0,])\n",
    "\n",
    "paste(\"ftjournal scores >= 0\")\n",
    "q1_data = q1_data[q1_data$ftjournal >= 0,]\n",
    "nrow(q1_data)"
   ]
  },
  {
   "cell_type": "code",
   "execution_count": 21,
   "metadata": {},
   "outputs": [
    {
     "data": {
      "text/html": [
       "TRUE"
      ],
      "text/latex": [
       "TRUE"
      ],
      "text/markdown": [
       "TRUE"
      ],
      "text/plain": [
       "[1] TRUE"
      ]
     },
     "metadata": {},
     "output_type": "display_data"
    },
    {
     "data": {
      "text/html": [
       "TRUE"
      ],
      "text/latex": [
       "TRUE"
      ],
      "text/markdown": [
       "TRUE"
      ],
      "text/plain": [
       "[1] TRUE"
      ]
     },
     "metadata": {},
     "output_type": "display_data"
    }
   ],
   "source": [
    "# sanity check on having the right values for our tests\n",
    "nrow(q1_data[q1_data$ftjournal >= 0 & q1_data$ftpolice >= 0,]) == nrow(q1_data)\n",
    "nrow(q1_data[q1_data$ftjournal <= 100 & q1_data$ftpolice <= 100,]) == nrow(q1_data)"
   ]
  },
  {
   "cell_type": "markdown",
   "metadata": {},
   "source": [
    "### Based on your EDA, select an appropriate hypothesis test. (5 points)"
   ]
  },
  {
   "cell_type": "markdown",
   "metadata": {},
   "source": [
    "Few observations:\n",
    "\n",
    "1. The measurements are likert variables, we cannot say that the difference between 5 and 6 is the same between 89 and 90. These are NOT metric values.\n",
    "2. Having said that, a score of 89 is more favorable than a score of 5 **(ordinal behavior)**.\n",
    "3. However, these are **comparable in measurement across groups** because they are measured on the SAME scale and measured against the SAME audience.\n",
    "4. The distribution of both ftpolice and ftjournal cannot be determined due to likert nature. **So we will have to use \"non parametric tests\"**.\n",
    "5. Note that we are NOT interested in \"how much more\" do US voters respect police vs journalists. We are interested in \"which group is respected more\". Specifically, **we are interested in the sign of the test** where the sign indicates which side US voters respect more. Note that because we use non-parametric signed tests, we are throwing out information of the likert scale.\n",
    "6. These are **paired measurements against the same individual across 2 groups** - journalists and policemen.\n",
    "7. Notice sample size is large, n > 40.\n",
    "8. Hence, we will conduct a paired non parametric test, specifically, the **Signed test for Dependent Samples**\n",
    "9. We **could have performed a Wilcoxon Signed-Rank test for paired data**, but that will answer the question - \"How much more / less are the police respected compared to journalists by US Voters?\". That answers a different question from the one being asked, although it would have more statistical power than the signed test. \n",
    "\n",
    "Assumptions:\n",
    "\n",
    "1. We can assume as per instructions in the lab that each pair of ftpolice and ftjournal, say (p, j) are IID.\n",
    "2. We do have an ordinal scale for measurement (0 to 100 therm scale)\n",
    "\n",
    "Consequence:\n",
    "1. Because we are throwing away all our likert information, we **lose some statistical power with the signed test.**\n",
    "\n",
    "Hypothesis:\n",
    "\n",
    "1. Let plus = number of total events of seeing ftpolice > ftjournal\n",
    "2. Let minus = number of total events of seeing ftpolice < ftjournal\n",
    "3. Here, plus ~ Binomial(n, 0.5)\n",
    "\n",
    "**Ho: Prob(plus) = Prob(minus)**\n",
    "\n",
    "**Ha: Prob(plus) != Prob(minus)**"
   ]
  },
  {
   "cell_type": "markdown",
   "metadata": {},
   "source": [
    "### Conduct your test. (5 points)"
   ]
  },
  {
   "cell_type": "code",
   "execution_count": 22,
   "metadata": {},
   "outputs": [
    {
     "data": {
      "text/html": [
       "'ftpolice == ftjournal: 59'"
      ],
      "text/latex": [
       "'ftpolice == ftjournal: 59'"
      ],
      "text/markdown": [
       "'ftpolice == ftjournal: 59'"
      ],
      "text/plain": [
       "[1] \"ftpolice == ftjournal: 59\""
      ]
     },
     "metadata": {},
     "output_type": "display_data"
    },
    {
     "data": {
      "text/html": [
       "'ftpolice &gt; ftjournal: 1033'"
      ],
      "text/latex": [
       "'ftpolice > ftjournal: 1033'"
      ],
      "text/markdown": [
       "'ftpolice &gt; ftjournal: 1033'"
      ],
      "text/plain": [
       "[1] \"ftpolice > ftjournal: 1033\""
      ]
     },
     "metadata": {},
     "output_type": "display_data"
    },
    {
     "data": {
      "text/html": [
       "'ftpolice &lt; ftjournal: 788'"
      ],
      "text/latex": [
       "'ftpolice < ftjournal: 788'"
      ],
      "text/markdown": [
       "'ftpolice &lt; ftjournal: 788'"
      ],
      "text/plain": [
       "[1] \"ftpolice < ftjournal: 788\""
      ]
     },
     "metadata": {},
     "output_type": "display_data"
    },
    {
     "data": {
      "text/html": [
       "'total: 1880'"
      ],
      "text/latex": [
       "'total: 1880'"
      ],
      "text/markdown": [
       "'total: 1880'"
      ],
      "text/plain": [
       "[1] \"total: 1880\""
      ]
     },
     "metadata": {},
     "output_type": "display_data"
    },
    {
     "data": {
      "text/html": [
       "'total - equal: 1821'"
      ],
      "text/latex": [
       "'total - equal: 1821'"
      ],
      "text/markdown": [
       "'total - equal: 1821'"
      ],
      "text/plain": [
       "[1] \"total - equal: 1821\""
      ]
     },
     "metadata": {},
     "output_type": "display_data"
    },
    {
     "data": {
      "text/html": [
       "'The mean: 910.5'"
      ],
      "text/latex": [
       "'The mean: 910.5'"
      ],
      "text/markdown": [
       "'The mean: 910.5'"
      ],
      "text/plain": [
       "[1] \"The mean: 910.5\""
      ]
     },
     "metadata": {},
     "output_type": "display_data"
    },
    {
     "data": {
      "text/html": [
       "'The threshold: 122.5'"
      ],
      "text/latex": [
       "'The threshold: 122.5'"
      ],
      "text/markdown": [
       "'The threshold: 122.5'"
      ],
      "text/plain": [
       "[1] \"The threshold: 122.5\""
      ]
     },
     "metadata": {},
     "output_type": "display_data"
    },
    {
     "data": {
      "text/plain": [
       "\n",
       "\tExact binomial test\n",
       "\n",
       "data:  c(plus_hat, minus_hat)\n",
       "number of successes = 1033, number of trials = 1821, p-value =\n",
       "1.027e-08\n",
       "alternative hypothesis: true probability of success is not equal to 0.5\n",
       "95 percent confidence interval:\n",
       " 0.5441470 0.5901774\n",
       "sample estimates:\n",
       "probability of success \n",
       "             0.5672707 \n"
      ]
     },
     "metadata": {},
     "output_type": "display_data"
    }
   ],
   "source": [
    "equal_hat = nrow(q1_data[q1_data$ftpolice == q1_data$ftjournal,])\n",
    "plus_hat = nrow(q1_data[q1_data$ftpolice > q1_data$ftjournal,])\n",
    "minus_hat = nrow(q1_data[q1_data$ftpolice < q1_data$ftjournal,])\n",
    "total_hat = as.numeric(equal_hat + plus_hat + minus_hat)\n",
    "# ignore equal scores of ftjournal and ftpolice for binomial test\n",
    "n = total_hat - equal_hat\n",
    "\n",
    "paste(\"ftpolice == ftjournal:\", equal_hat)\n",
    "paste(\"ftpolice > ftjournal:\", plus_hat)\n",
    "paste(\"ftpolice < ftjournal:\", minus_hat)\n",
    "paste(\"total:\", total_hat)\n",
    "paste(\"total - equal:\", n)\n",
    "\n",
    "# binomial test\n",
    "p = 0.5\n",
    "mean = n * p\n",
    "threshold = abs(plus_hat - mean)\n",
    "paste(\"The mean:\", mean)\n",
    "paste(\"The threshold:\", threshold)\n",
    "# p value is prob that |plus - mean| >= threshold\n",
    "# to find p value\n",
    "# P(plus - 910.5 >= 122.5) and P(910.5 - plus >= 122.5)\n",
    "# P(plus >= 1033) and P(plus <= 788)\n",
    "\n",
    "binom.test(x = c(plus_hat, minus_hat), n, p = 0.5, alternative = c(\"two.sided\"), conf.level = 0.95)"
   ]
  },
  {
   "cell_type": "markdown",
   "metadata": {},
   "source": [
    "#### The above shows that we reject the null hypothesis as the p value is very small at 5% level of significance. We see that probabilities of the number of successes in the 2 groups is NOT equal.\n",
    "\n",
    "#### We see probability of success is around 56%. This implies that the US voters do like policemen more than journalists."
   ]
  },
  {
   "cell_type": "code",
   "execution_count": 23,
   "metadata": {},
   "outputs": [
    {
     "data": {
      "text/plain": [
       "\n",
       "\tExact binomial test\n",
       "\n",
       "data:  c(plus_hat, minus_hat)\n",
       "number of successes = 1033, number of trials = 1821, p-value =\n",
       "5.134e-09\n",
       "alternative hypothesis: true probability of success is greater than 0.5\n",
       "95 percent confidence interval:\n",
       " 0.5478283 1.0000000\n",
       "sample estimates:\n",
       "probability of success \n",
       "             0.5672707 \n"
      ]
     },
     "metadata": {},
     "output_type": "display_data"
    }
   ],
   "source": [
    "# infact, if we did the test one sided, where the alternative is that \n",
    "# Prob(# fav. ftpolice scores) > Prob(# fav. ftjournal scores) \n",
    "binom.test(x = c(plus_hat, minus_hat), n, p = 0.5, alternative = c(\"greater\"), conf.level = 0.95)\n",
    "# this further shows that the alternative hypothesis is favorable, \n",
    "# where probability of police respect cases is more than probability of journalism respect cases"
   ]
  },
  {
   "cell_type": "markdown",
   "metadata": {},
   "source": [
    "**Effect Size For Signed Test**\n",
    "\n",
    "1. We can think of the proportion of police population as the effect size\n",
    "2. We can also think of (plus_hat - minus_hat) / n as the effect size\n",
    "3. Since n is large, the effect size is actually significant\n"
   ]
  },
  {
   "cell_type": "code",
   "execution_count": 24,
   "metadata": {},
   "outputs": [
    {
     "data": {
      "text/html": [
       "0.56727073036793"
      ],
      "text/latex": [
       "0.56727073036793"
      ],
      "text/markdown": [
       "0.56727073036793"
      ],
      "text/plain": [
       "[1] 0.5672707"
      ]
     },
     "metadata": {},
     "output_type": "display_data"
    }
   ],
   "source": [
    "plus_hat/n"
   ]
  },
  {
   "cell_type": "code",
   "execution_count": 25,
   "metadata": {},
   "outputs": [
    {
     "data": {
      "text/html": [
       "0.134541460735859"
      ],
      "text/latex": [
       "0.134541460735859"
      ],
      "text/markdown": [
       "0.134541460735859"
      ],
      "text/plain": [
       "[1] 0.1345415"
      ]
     },
     "metadata": {},
     "output_type": "display_data"
    }
   ],
   "source": [
    "(plus_hat - minus_hat)/n"
   ]
  },
  {
   "cell_type": "markdown",
   "metadata": {},
   "source": [
    "#### We can conclude that there is a real difference between the respect levels for police vs journalists. US voters respect the police more!"
   ]
  },
  {
   "cell_type": "markdown",
   "metadata": {},
   "source": [
    "## Question 2: Are Republican voters older or younger than Democratic voters?"
   ]
  },
  {
   "cell_type": "markdown",
   "metadata": {},
   "source": [
    "### Introduce your topic briefly.  (5 points)\n"
   ]
  },
  {
   "cell_type": "markdown",
   "metadata": {},
   "source": [
    "#### Variables operationized\n",
    "There are four variables I am using to validate the hypothesis that Republican voters are younger than Democrat voters\n",
    "<dl>\n",
    "  <dt>honest</dt>\n",
    "  <dd><em>Question: </em>\"How often would you say you answered the questions honestly on this survey.\"\n",
    "  <br>The range of responses are 1-5 which corelate from Never - Always. I have restricted the observations to only those who answer <em>always (5)</em></dd>\n",
    "  <br>\n",
    "  <dt>pid1r</dt>\n",
    "  <dd><em>Question: </em>\"Generally speaking, do you usually think of yourself as a Republican, a Democrat, an\n",
    "independent, or what?\"</dd>\n",
    "  <br>  \n",
    "  <dt>pid1d</dt>\n",
    "  <dd><em>Question: </em>\"Generally speaking, do you usually think of yourself as a Democrat, a Republican, an\n",
    "independent, or what?\"<br>\n",
    "      As you can see this is essentially the same question with the just the <em>order</em> of the party name changed. The two responses I am interested in are 1 or 2. This corresponds to the first or second party mentioned in the questions\n",
    "  </dd>\n",
    "  <br>\n",
    "    \n",
    "  <dt>birthyr</dt>\n",
    "  <dd><em>Question: </em>“In what year were you born?”<br>\n",
    "      The response to this question was the year of birth. Since this survey was taken in 2018, for calculation of age, to determine age, we used:\n",
    "      \n",
    "```python\n",
    "2018 - birthyr \n",
    "```\n",
    "  </dd>\n",
    "  <dt>Gaps</dt>\n",
    "  <dd>1. There is an assumption that a \"Republican voter\" (i.e. someone who voted for the Republican candidate) also identfies as a Republican, and similarly for Democrat voter. It is quite likely that many who identify with one party, can vote for another party</dd>\n",
    "  <br>\n",
    "    <dd>2. There is another variable <em>nonserious</em> that while interesting, brought with it social implications that were beyond the scope for this exercise and I decided to ignore that variable</dd>\n",
    "    \n",
    "</dl>"
   ]
  },
  {
   "cell_type": "markdown",
   "metadata": {},
   "source": [
    "### Perform an exploratory data analysis (EDA) of the relevant variables. (5 points)"
   ]
  },
  {
   "cell_type": "code",
   "execution_count": 26,
   "metadata": {},
   "outputs": [
    {
     "name": "stdout",
     "output_type": "stream",
     "text": [
      "Number of honest respondents: : 2112"
     ]
    },
    {
     "data": {
      "text/html": [],
      "text/latex": [],
      "text/markdown": [],
      "text/plain": [
       "character(0)"
      ]
     },
     "metadata": {},
     "output_type": "display_data"
    },
    {
     "name": "stdout",
     "output_type": "stream",
     "text": [
      "First 6 reponses in honest variable are: \n",
      " Most of the time Always Most of the time Half of the time Always Always"
     ]
    },
    {
     "data": {
      "text/html": [],
      "text/latex": [],
      "text/markdown": [],
      "text/plain": [
       "character(0)"
      ]
     },
     "metadata": {},
     "output_type": "display_data"
    },
    {
     "name": "stdout",
     "output_type": "stream",
     "text": [
      "First 6 reponses in pid1d are:  Republican NA NA independent NA NA"
     ]
    },
    {
     "data": {
      "text/html": [],
      "text/latex": [],
      "text/markdown": [],
      "text/plain": [
       "character(0)"
      ]
     },
     "metadata": {},
     "output_type": "display_data"
    },
    {
     "name": "stdout",
     "output_type": "stream",
     "text": [
      "First 6 reponses in pid1r are: NA Democrat independent NA Democrat Republican"
     ]
    },
    {
     "data": {
      "text/html": [],
      "text/latex": [],
      "text/markdown": [],
      "text/plain": [
       "character(0)"
      ]
     },
     "metadata": {},
     "output_type": "display_data"
    },
    {
     "name": "stdout",
     "output_type": "stream",
     "text": [
      "Ages of first 6 respondents calculated to be:  32 46 19 43 29 26"
     ]
    },
    {
     "data": {
      "text/html": [],
      "text/latex": [],
      "text/markdown": [],
      "text/plain": [
       "character(0)"
      ]
     },
     "metadata": {},
     "output_type": "display_data"
    }
   ],
   "source": [
    "data = read.csv( \"anes_pilot_2018.csv\")\n",
    "# apply honestly filter\n",
    "hon_respondents = data[data$honest == 5,]\n",
    "paste(cat(\"Number of honest respondents: :\", nrow(hon_respondents)))\n",
    "\n",
    "honest.code <- c(Never=1, `Some of the time`=2, `Half of the time`=3, `Most of the time`=4,  Always=5)\n",
    "h_responses = names(honest.code)[match(data$honest, honest.code)]\n",
    "paste(cat(\"First 6 reponses in honest variable are:\",\"\\n\",head(h_responses)))\n",
    "\n",
    "pid1d.code <- c( Democrat=1, Republican=2, independent=3, 'something else'=4)\n",
    "pid1r.code <- c( Republican=1, Democrat=2, independent=3, 'something else'=4)\n",
    "p1did_responses = names(pid1d.code)[match(data$pid1d, pid1d.code)]\n",
    "p1dir_responses = names(pid1r.code)[match(data$pid1r, pid1r.code)]\n",
    "\n",
    "paste(cat(\"First 6 reponses in pid1d are: \", head(p1did_responses)))\n",
    "paste(cat(\"First 6 reponses in pid1r are:\", head(p1dir_responses)))\n",
    "paste(cat(\"Ages of first 6 respondents calculated to be: \", head(2018-data[, c(\"birthyr\")])))"
   ]
  },
  {
   "cell_type": "markdown",
   "metadata": {},
   "source": [
    "### Based on your EDA, select an appropriate hypothesis test.  (5 points)"
   ]
  },
  {
   "cell_type": "code",
   "execution_count": 27,
   "metadata": {},
   "outputs": [
    {
     "name": "stdout",
     "output_type": "stream",
     "text": [
      "Number of observerations or Republicans:  639"
     ]
    },
    {
     "data": {
      "text/html": [],
      "text/latex": [],
      "text/markdown": [],
      "text/plain": [
       "character(0)"
      ]
     },
     "metadata": {},
     "output_type": "display_data"
    },
    {
     "name": "stdout",
     "output_type": "stream",
     "text": [
      "Number of observerations or Democrats:  643"
     ]
    },
    {
     "data": {
      "text/html": [],
      "text/latex": [],
      "text/markdown": [],
      "text/plain": [
       "character(0)"
      ]
     },
     "metadata": {},
     "output_type": "display_data"
    },
    {
     "data": {
      "image/png": "[encoded data removed]",
      "text/plain": [
       "Plot with title \"Histogram of ages_of_reps\""
      ]
     },
     "metadata": {},
     "output_type": "display_data"
    },
    {
     "data": {
      "image/png": "[encoded data removed]",
      "text/plain": [
       "Plot with title \"Histogram of ages_of_dems\""
      ]
     },
     "metadata": {},
     "output_type": "display_data"
    }
   ],
   "source": [
    "all_honest_reps = rbind(data[data$pid1r==1 & data$honest==5,], data[data$pid1d==2 & data$honest==5,])\n",
    "all_honest_dems = rbind(data[data$pid1r==2 & data$honest==5,], data[data$pid1d==1 & data$honest==5,])\n",
    "paste(cat(\"Number of observerations or Republicans: \", nrow(all_honest_reps)))\n",
    "paste(cat(\"Number of observerations or Democrats: \", nrow(all_honest_dems)))\n",
    "\n",
    "\n",
    "ages_of_reps = 2018-all_honest_reps[,c('birthyr')]\n",
    "ages_of_dems = 2018-all_honest_dems[,c('birthyr')]\n",
    "hist(ages_of_reps, col=\"red\")\n",
    "hist(ages_of_dems, col=\"blue\")\n"
   ]
  },
  {
   "cell_type": "markdown",
   "metadata": {},
   "source": [
    "Since the data are normally distributed, we can use a parametric test and since we are comparing the means of two samples, we can use the Welches Two Sample t-test (IOW, \"unpaired\" or \"independent samples\" t-test)\n",
    "\n",
    "H0: There is no significant difference between the mean of the ages of democrats vs republicans\n",
    "\n",
    "HA: The mean of the ages of one of the groups is significantly higher than the other"
   ]
  },
  {
   "cell_type": "markdown",
   "metadata": {},
   "source": [
    "### Conduct your test. (5 points)"
   ]
  },
  {
   "cell_type": "code",
   "execution_count": 28,
   "metadata": {},
   "outputs": [
    {
     "data": {
      "text/plain": [
       "\n",
       "\tWelch Two Sample t-test\n",
       "\n",
       "data:  ages_of_dems and ages_of_reps\n",
       "t = 0.65751, df = 1279, p-value = 0.511\n",
       "alternative hypothesis: true difference in means is not equal to 0\n",
       "95 percent confidence interval:\n",
       " -1.193004  2.395797\n",
       "sample estimates:\n",
       "mean of x mean of y \n",
       " 52.92691  52.32551 \n"
      ]
     },
     "metadata": {},
     "output_type": "display_data"
    }
   ],
   "source": [
    "t.test(ages_of_dems, ages_of_reps, alternative = \"two.sided\", 0, paired = FALSE, var.equal = FALSE )"
   ]
  },
  {
   "cell_type": "markdown",
   "metadata": {},
   "source": [
    "Based on this test, we can say with 95% confidence that there is no significant difference between the means of the ages of the Republican voters and the Democratic voters\n",
    "\n",
    "The manimum difference of the mean can be as low as -2.40 or has high as 1.19.\n",
    "\n",
    "The sample means are 52.33 for republicans and 52.92 for democrats.\n",
    "    \n",
    "Based on this we <em>do not have enough evidence to reject the null hypothesis</em> that there is no difference between the means.\n",
    "\n"
   ]
  },
  {
   "cell_type": "code",
   "execution_count": 29,
   "metadata": {},
   "outputs": [
    {
     "data": {
      "text/plain": [
       "\n",
       "Cohen's d\n",
       "\n",
       "d estimate: 0.03672972 (negligible)\n",
       "95 percent confidence interval:\n",
       "      lower       upper \n",
       "-0.07286349  0.14632294 \n"
      ]
     },
     "metadata": {},
     "output_type": "display_data"
    }
   ],
   "source": [
    "cohen.d(ages_of_dems, ages_of_reps)"
   ]
  },
  {
   "cell_type": "markdown",
   "metadata": {},
   "source": [
    "The CohensD test returns an estimate of 0.036 which indicates that the effect is negligible "
   ]
  },
  {
   "cell_type": "code",
   "execution_count": null,
   "metadata": {},
   "outputs": [],
   "source": []
  }
 ],
 "metadata": {
  "kernelspec": {
   "display_name": "R",
   "language": "R",
   "name": "ir"
  },
  "language_info": {
   "codemirror_mode": "r",
   "file_extension": ".r",
   "mimetype": "text/x-r-source",
   "name": "R",
   "pygments_lexer": "r",
   "version": "3.6.1"
  }
 },
 "nbformat": 4,
 "nbformat_minor": 4
}
